{
 "cells": [
  {
   "cell_type": "code",
   "execution_count": 1,
   "metadata": {},
   "outputs": [
    {
     "name": "stderr",
     "output_type": "stream",
     "text": [
      "Using TensorFlow backend.\n"
     ]
    }
   ],
   "source": [
    "%load_ext autoreload\n",
    "%autoreload 2\n",
    "\n",
    "from keras.models import Sequential\n",
    "from keras.layers import Dense\n",
    "from keras.layers import Flatten\n",
    "from keras.layers.convolutional import Conv1D\n",
    "from keras.layers.convolutional import MaxPooling1D\n",
    "from sklearn.preprocessing import StandardScaler\n",
    "from keras.models import Model\n",
    "from keras.layers import *    \n",
    "import os \n",
    "import pyreadr\n",
    "import numpy as np\n",
    "import pyreadr\n",
    "import pandas as pd\n",
    "import multiprocessing\n",
    "from joblib import Parallel, delayed\n",
    "import butterfly.album\n",
    "import butterfly.CNN\n",
    "from itertools import combinations \n",
    "from joblib import parallel_backend\n",
    "import matplotlib.pyplot as plt\n",
    "from datetime import datetime\n",
    "from tqdm import tqdm\n",
    "from sklearn.metrics import r2_score\n",
    "import pickle"
   ]
  },
  {
   "cell_type": "code",
   "execution_count": 2,
   "metadata": {},
   "outputs": [],
   "source": [
    "#Import your data\n",
    "DF = pyreadr.read_r('/Users/mxenoc/Desktop/workspace/butterfly/data/omics.RData')\n",
    "#DF = pyreadr.read_r('/home/mxenoc/workspace/butterfly/data/omics.RData')\n",
    "DF = DF[\"DF\"]"
   ]
  },
  {
   "cell_type": "code",
   "execution_count": 99,
   "metadata": {},
   "outputs": [],
   "source": [
    "#Define the predictor datasets\n",
    "predictors = ['rna', 'plasma_l', 'serum_l', 'microb', 'immune', 'metabol', 'plasma_s']\n",
    "\n",
    "#Decide which dataset you want to predict\n",
    "response_number = 2"
   ]
  },
  {
   "cell_type": "code",
   "execution_count": 3,
   "metadata": {},
   "outputs": [],
   "source": [
    "#Get your response dataset\n",
    "response = [col for col in DF if col.startswith(predictors[response_number])]\n",
    "response.append(\"patientID\")\n",
    "response_df = DF[response]"
   ]
  },
  {
   "cell_type": "code",
   "execution_count": 4,
   "metadata": {},
   "outputs": [],
   "source": [
    "# Choose your image size and number of features we are predicting\n",
    "pixels = 40\n",
    "features = len(response)-1"
   ]
  },
  {
   "cell_type": "code",
   "execution_count": 6,
   "metadata": {},
   "outputs": [],
   "source": [
    "#albums, patient_IDs = zip(*Parallel(n_jobs=3)(delayed(butterfly.album.create_album)\n",
    "#                                                (DF, predictors[al], pixels) \n",
    "#                                                for al in tqdm(range(7))))"
   ]
  },
  {
   "cell_type": "code",
   "execution_count": 7,
   "metadata": {},
   "outputs": [],
   "source": [
    "#with open('objs.pkl', 'wb') as f:  \n",
    "#    pickle.dump(albums, f)"
   ]
  },
  {
   "cell_type": "code",
   "execution_count": 8,
   "metadata": {},
   "outputs": [],
   "source": [
    "with open('objs.pkl', 'rb') as f:\n",
    "    albums = pickle.load(f)"
   ]
  },
  {
   "cell_type": "code",
   "execution_count": 9,
   "metadata": {},
   "outputs": [],
   "source": [
    "groups = response_df['patientID']\n",
    "\n",
    "#Make sure the indexes match - they should be 68\n",
    "#np.sum(groups == patient_IDs[6])"
   ]
  },
  {
   "cell_type": "code",
   "execution_count": 11,
   "metadata": {},
   "outputs": [],
   "source": [
    "y = response_df.values\n",
    "y = response_df.drop(['patientID'], axis = 1).values\n",
    "y = StandardScaler().fit_transform(y)"
   ]
  },
  {
   "cell_type": "code",
   "execution_count": 16,
   "metadata": {},
   "outputs": [
    {
     "name": "stderr",
     "output_type": "stream",
     "text": [
      "\n",
      "  0%|          | 0/7 [00:00<?, ?it/s]\u001b[A\n",
      " 14%|█▍        | 1/7 [01:39<09:58, 99.81s/it]\u001b[A\n",
      " 29%|██▊       | 2/7 [03:19<08:19, 99.86s/it]\u001b[A\n",
      " 43%|████▎     | 3/7 [04:58<06:38, 99.65s/it]\u001b[A\n",
      " 57%|█████▋    | 4/7 [06:37<04:57, 99.24s/it]\u001b[A\n",
      " 71%|███████▏  | 5/7 [08:17<03:19, 99.51s/it]\u001b[A\n",
      " 86%|████████▌ | 6/7 [09:56<01:39, 99.51s/it]\u001b[A\n",
      "100%|██████████| 7/7 [11:36<00:00, 99.50s/it]\u001b[A\n"
     ]
    }
   ],
   "source": [
    "#Select number of runs\n",
    "nruns = 2\n",
    "folds = 10\n",
    "\n",
    "#Using one omics at a time\n",
    "prediction_train_f = []\n",
    "observed_train_f = []\n",
    "prediction_test_f = []\n",
    "observed_test_f = []\n",
    "\n",
    "for pred in tqdm(range(7)):\n",
    "\n",
    "    X = np.asarray(albums[pred])\n",
    "    #prediction_train, observed_train, \n",
    "    prediction_train, observed_train, prediction_test, observed_test = zip(*Parallel(n_jobs=nruns)\n",
    "                           (delayed(butterfly.CNN.model_CNN)\n",
    "                            (X, y, groups, pixels, features, folds) \n",
    "                            for cv in range(nruns)))\n",
    "                \n",
    "    prediction_train_f.append(prediction_train)\n",
    "    observed_train_f.append(observed_train)\n",
    "    prediction_test_f.append(prediction_test)\n",
    "    observed_test_f.append(observed_test)"
   ]
  },
  {
   "cell_type": "code",
   "execution_count": 130,
   "metadata": {},
   "outputs": [],
   "source": [
    "statistic = 'pearson'"
   ]
  },
  {
   "cell_type": "code",
   "execution_count": 131,
   "metadata": {},
   "outputs": [],
   "source": [
    "each_omic_train = []\n",
    "each_omic_test = []\n",
    "\n",
    "for omic in range(7):    \n",
    "    each_feature_train = []\n",
    "    each_run_train = []\n",
    "    \n",
    "    each_feature_test = []\n",
    "    each_run_test = []\n",
    "\n",
    "    for runs in range(nruns):\n",
    "        correl_train = prediction_train_f[omic][runs].corrwith(observed_train_f[omic][runs], axis = 0, method = statistic) \n",
    "        each_feature_train.append(correl_train)\n",
    "        each_run_train.append(np.mean(each_feature_train))\n",
    "        \n",
    "        correl_test = prediction_test_f[omic][runs].corrwith(observed_test_f[omic][runs], axis = 0, method = statistic) \n",
    "        each_feature_test.append(correl_test)\n",
    "        each_run_test.append(np.mean(each_feature_test))\n",
    "\n",
    "    each_omic_train.append(np.mean(each_run_train))\n",
    "    each_omic_test.append(np.mean(each_run_test))"
   ]
  },
  {
   "cell_type": "code",
   "execution_count": 21,
   "metadata": {},
   "outputs": [],
   "source": [
    "#Results - one omics at a time\n",
    "#results = []\n",
    "#for k in range(6):\n",
    "#    correlation = []\n",
    "#    for l in range(len(bars_p[k].columns)):\n",
    "#        correlation.append(r2_score(bars_p[k][l], bars_o[k][l]))        \n",
    "#    results.append(np.mean(correlation))"
   ]
  },
  {
   "cell_type": "code",
   "execution_count": 22,
   "metadata": {},
   "outputs": [],
   "source": [
    "y_pos = np.arange(len(predictors))"
   ]
  },
  {
   "cell_type": "code",
   "execution_count": 25,
   "metadata": {},
   "outputs": [
    {
     "data": {
      "image/png": "[encoded data removed]",
      "text/plain": [
       "<Figure size 432x288 with 1 Axes>"
      ]
     },
     "metadata": {
      "needs_background": "light"
     },
     "output_type": "display_data"
    }
   ],
   "source": [
    "#Plot the results\n",
    "plt.bar(y_pos, each_omic_test, color=['firebrick', 'gold', 'olivedrab', 'royalblue', 'cyan', 'salmon', 'slategray'])\n",
    "plt.xticks(y_pos, predictors)\n",
    "plt.xlabel('Predictor')\n",
    "plt.ylabel('Spearman r')\n",
    "plt.title('Prediction accuracy for plasma l')\n",
    "plt.show()"
   ]
  },
  {
   "cell_type": "code",
   "execution_count": 116,
   "metadata": {},
   "outputs": [],
   "source": [
    "X_m = [albums[0], albums[1], albums[2], albums[3], albums[4], albums[5], albums[6]]\n",
    "del X_m[response_number]\n",
    "X_m = np.array(X_m, dtype = float)"
   ]
  },
  {
   "cell_type": "code",
   "execution_count": 139,
   "metadata": {},
   "outputs": [
    {
     "name": "stderr",
     "output_type": "stream",
     "text": [
      "\n",
      "100%|██████████| 2/2 [00:00<00:00, 2740.48it/s]\n"
     ]
    }
   ],
   "source": [
    "#Using all omics at once\n",
    "prediction_train_m, observed_train_m, prediction_test_m, observed_test_m = zip(*Parallel(n_jobs=3)(delayed(butterfly.CNN.model_multi_CNN)\n",
    "                                               (X_m, y, groups, pixels, features, folds) \n",
    "                                               for cv in tqdm(range(nruns))))"
   ]
  },
  {
   "cell_type": "code",
   "execution_count": 149,
   "metadata": {},
   "outputs": [],
   "source": [
    "each_feature_train_m = []\n",
    "each_run_train_m = []\n",
    "\n",
    "each_feature_test_m = []\n",
    "each_run_test_m = []\n",
    "\n",
    "for runs in range(nruns):\n",
    "    correl_train_m = prediction_train_m[runs].corrwith(observed_train_m[runs], axis = 0, method = statistic) \n",
    "    each_feature_train_m.append(correl_train_m)\n",
    "    each_run_train_m.append(np.mean(each_feature_train_m))\n",
    "\n",
    "    correl_test_m = prediction_test_m[runs].corrwith(observed_test_m[runs], axis = 0, method = statistic) \n",
    "    each_feature_test_m.append(correl_test_m)\n",
    "    each_run_test_m.append(np.mean(each_feature_test_m))\n",
    "    \n",
    "all_omics_train = np.mean(each_run_train_m)\n",
    "all_omics_test = np.mean(each_run_test_m)"
   ]
  },
  {
   "cell_type": "code",
   "execution_count": 152,
   "metadata": {},
   "outputs": [],
   "source": [
    "#Results - all omics at once\n",
    "each_omic_train.append(all_omics_train)\n",
    "each_omic_test.append(all_omics_test)"
   ]
  },
  {
   "cell_type": "code",
   "execution_count": 153,
   "metadata": {},
   "outputs": [],
   "source": [
    "#Define the predictor datasets\n",
    "predictors = ['rna', 'plasma_l', 'serum_l', 'microb', 'immune', 'metabol', 'plasma_s', 'all']\n",
    "y_pos = np.arange(len(predictors))"
   ]
  },
  {
   "cell_type": "code",
   "execution_count": 157,
   "metadata": {},
   "outputs": [
    {
     "data": {
      "image/png": "[encoded data removed]",
      "text/plain": [
       "<Figure size 432x288 with 1 Axes>"
      ]
     },
     "metadata": {
      "needs_background": "light"
     },
     "output_type": "display_data"
    }
   ],
   "source": [
    "#Plot the results\n",
    "plt.bar(y_pos, each_omic_test, color=['firebrick', 'gold', 'olivedrab', 'royalblue', 'cyan', 'salmon', 'slategray'])\n",
    "plt.xticks(y_pos, predictors)\n",
    "plt.xlabel('Predictor')\n",
    "plt.ylabel('Spearman r')\n",
    "plt.title('Prediction accuracy for plasma l')\n",
    "plt.show()"
   ]
  },
  {
   "cell_type": "code",
   "execution_count": null,
   "metadata": {},
   "outputs": [],
   "source": []
  }
 ],
 "metadata": {
  "kernelspec": {
   "display_name": "Python 3",
   "language": "python",
   "name": "python3"
  },
  "language_info": {
   "codemirror_mode": {
    "name": "ipython",
    "version": 3
   },
   "file_extension": ".py",
   "mimetype": "text/x-python",
   "name": "python",
   "nbconvert_exporter": "python",
   "pygments_lexer": "ipython3",
   "version": "3.7.6"
  },
  "pycharm": {
   "stem_cell": {
    "cell_type": "raw",
    "metadata": {
     "collapsed": false
    },
    "source": []
   }
  }
 },
 "nbformat": 4,
 "nbformat_minor": 4
}
