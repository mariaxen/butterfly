{
 "cells": [
  {
   "cell_type": "code",
   "execution_count": 29,
   "metadata": {},
   "outputs": [
    {
     "name": "stdout",
     "output_type": "stream",
     "text": [
      "The autoreload extension is already loaded. To reload it, use:\n",
      "  %reload_ext autoreload\n"
     ]
    }
   ],
   "source": [
    "%load_ext autoreload\n",
    "%autoreload 2\n",
    "\n",
    "from keras.models import Sequential\n",
    "from keras.layers import Dense\n",
    "from keras.layers import Flatten\n",
    "from keras.layers.convolutional import Conv1D\n",
    "from keras.layers.convolutional import MaxPooling1D\n",
    "from sklearn.preprocessing import StandardScaler\n",
    "from keras.models import Model\n",
    "from keras.layers import *    \n",
    "import os \n",
    "import pyreadr\n",
    "import numpy as np\n",
    "import pyreadr\n",
    "import pandas as pd\n",
    "import multiprocessing\n",
    "from joblib import Parallel, delayed\n",
    "import butterfly.album\n",
    "import butterfly.Models\n",
    "from itertools import combinations \n",
    "from joblib import parallel_backend\n",
    "import matplotlib.pyplot as plt\n",
    "from datetime import datetime\n",
    "from tqdm import tqdm\n",
    "from sklearn.metrics import r2_score\n",
    "import pickle\n",
    "from sklearn.model_selection import GroupKFold"
   ]
  },
  {
   "cell_type": "code",
   "execution_count": 30,
   "metadata": {},
   "outputs": [],
   "source": [
    "#Import your data\n",
    "#DF = pyreadr.read_r('/Users/mxenoc/Desktop/workspace/butterfly/data/omics.RData')\n",
    "DF = pyreadr.read_r('/home/mxenoc/workspace/butterfly/data/omics.RData')\n",
    "DF = DF[\"DF\"]"
   ]
  },
  {
   "cell_type": "code",
   "execution_count": 78,
   "metadata": {},
   "outputs": [],
   "source": [
    "#Define the predictor datasets\n",
    "predictors = ['rna', 'plasma_l', 'serum_l', 'microb', 'immune', 'metabol', 'plasma_s']\n",
    "\n",
    "#Decide which dataset you want to predict\n",
    "response_number = 6"
   ]
  },
  {
   "cell_type": "code",
   "execution_count": 79,
   "metadata": {},
   "outputs": [],
   "source": [
    "#Get your response dataset\n",
    "response = [col for col in DF if col.startswith(predictors[response_number])]\n",
    "response.append(\"patientID\")\n",
    "response_df = DF[response]"
   ]
  },
  {
   "cell_type": "code",
   "execution_count": 80,
   "metadata": {},
   "outputs": [],
   "source": [
    "# Choose your image size and number of features we are predicting\n",
    "pixels = 40\n",
    "features = len(response)-1"
   ]
  },
  {
   "cell_type": "code",
   "execution_count": 81,
   "metadata": {},
   "outputs": [],
   "source": [
    "predictors2 = list(predictors)\n",
    "predictors2.remove('plasma_l')\n",
    "predictors.append(tuple(predictors2))"
   ]
  },
  {
   "cell_type": "code",
   "execution_count": 82,
   "metadata": {},
   "outputs": [
    {
     "name": "stderr",
     "output_type": "stream",
     "text": [
      "\n",
      "\n",
      "\n",
      "  0%|          | 0/8 [00:00<?, ?it/s]\u001b[A\u001b[A\u001b[A\n",
      "\n",
      "\n",
      "100%|██████████| 8/8 [00:01<00:00,  7.42it/s]\u001b[A\u001b[A\u001b[A\n"
     ]
    }
   ],
   "source": [
    "npredictors = len(predictors)\n",
    "perplexity = 25\n",
    "albums, patient_IDs = zip(*Parallel(n_jobs=npredictors)(delayed(butterfly.album.create_album)\n",
    "                                                (DF, predictors[al], pixels, perplexity) \n",
    "                                                for al in tqdm(range(npredictors))))"
   ]
  },
  {
   "cell_type": "code",
   "execution_count": 52,
   "metadata": {},
   "outputs": [],
   "source": [
    "#npredictors = len(predictors)\n",
    "#book = []\n",
    "#for perplexity in range(5,150,5):\n",
    "#    albums, patient_IDs = zip(*Parallel(n_jobs=npredictors)(delayed(butterfly.album.create_album)\n",
    "#                                                    (DF, predictors[al], pixels, perplexity) \n",
    "#                                                    for al in tqdm(range(npredictors))))\n",
    "#    book.append(albums)"
   ]
  },
  {
   "cell_type": "code",
   "execution_count": 56,
   "metadata": {},
   "outputs": [],
   "source": [
    "with open('albums.pkl', 'wb') as f:  \n",
    "    pickle.dump(albums, f)"
   ]
  },
  {
   "cell_type": "code",
   "execution_count": 83,
   "metadata": {},
   "outputs": [],
   "source": [
    "with open('albums.pkl', 'rb') as f:\n",
    "    albums = pickle.load(f)"
   ]
  },
  {
   "cell_type": "code",
   "execution_count": 35,
   "metadata": {},
   "outputs": [],
   "source": [
    "with open('picture_book.pkl', 'rb') as f:\n",
    "    picture_book = pickle.load(f)"
   ]
  },
  {
   "cell_type": "code",
   "execution_count": 84,
   "metadata": {},
   "outputs": [],
   "source": [
    "groups = response_df['patientID']\n",
    "#groups = np.tile(groups, len(picture_book))\n",
    "#Make sure the indexes match - they should be 68\n",
    "#np.sum(groups == patient_IDs[6])"
   ]
  },
  {
   "cell_type": "code",
   "execution_count": 85,
   "metadata": {},
   "outputs": [],
   "source": [
    "y = response_df.values\n",
    "y = response_df.drop(['patientID'], axis = 1).values\n",
    "y = StandardScaler().fit_transform(y)\n",
    "#y = np.tile(y, (len(picture_book),1))"
   ]
  },
  {
   "cell_type": "code",
   "execution_count": 86,
   "metadata": {},
   "outputs": [
    {
     "name": "stderr",
     "output_type": "stream",
     "text": [
      "\n",
      "\n",
      "\n",
      "  0%|          | 0/8 [00:00<?, ?it/s]\u001b[A\u001b[A\u001b[A\n",
      "\n",
      "\n",
      " 12%|█▎        | 1/8 [01:58<13:47, 118.16s/it]\u001b[A\u001b[A\u001b[A\n",
      "\n",
      "\n",
      " 25%|██▌       | 2/8 [03:58<11:52, 118.81s/it]\u001b[A\u001b[A\u001b[A/home/mxenoc/anaconda3/lib/python3.7/site-packages/joblib/externals/loky/process_executor.py:706: UserWarning: A worker stopped while some jobs were given to the executor. This can be caused by a too short worker timeout or by a memory leak.\n",
      "  \"timeout or by a memory leak.\", UserWarning\n",
      "\n",
      "\n",
      "\n",
      " 38%|███▊      | 3/8 [05:55<09:51, 118.27s/it]\u001b[A\u001b[A\u001b[A\n",
      "\n",
      "\n",
      " 50%|█████     | 4/8 [07:48<07:46, 116.65s/it]\u001b[A\u001b[A\u001b[A\n",
      "\n",
      "\n",
      " 62%|██████▎   | 5/8 [10:31<06:31, 130.48s/it]\u001b[A\u001b[A\u001b[A\n",
      "\n",
      "\n",
      " 75%|███████▌  | 6/8 [12:33<04:15, 127.98s/it]\u001b[A\u001b[A\u001b[A\n",
      "\n",
      "\n",
      " 88%|████████▊ | 7/8 [14:37<02:06, 126.99s/it]\u001b[A\u001b[A\u001b[A\n",
      "\n",
      "\n",
      "100%|██████████| 8/8 [16:38<00:00, 124.79s/it]\u001b[A\u001b[A\u001b[A\n"
     ]
    }
   ],
   "source": [
    "#Select number of runs\n",
    "type_model = 'CNN'\n",
    "nomics = len(predictors)\n",
    "\n",
    "nruns = 50\n",
    "folds = 10\n",
    "\n",
    "epochs = 180\n",
    "optimiser = 'adam' \n",
    "loss = 'mse'\n",
    "\n",
    "#Using one omics at a time\n",
    "prediction_train_f = []\n",
    "observed_train_f = []\n",
    "prediction_test_f = []\n",
    "observed_test_f = []\n",
    "\n",
    "for pred in tqdm(range(nomics)):\n",
    "    \n",
    "    X = np.asarray(albums[pred])\n",
    "    \n",
    "#    X = []\n",
    "#    for chapter in range(len(picture_book)):\n",
    "#        X.append(np.asarray(picture_book[chapter][pred])) \n",
    "\n",
    "#    X = np.vstack(X)\n",
    "\n",
    "    #prediction_train, observed_train, \n",
    "    prediction_train, observed_train, prediction_test, observed_test = zip(*Parallel(n_jobs=nruns)\n",
    "                           (delayed(butterfly.Models.CNN)\n",
    "                            (X, y, groups, pixels, features, folds, epochs, optimiser, loss, type_model) \n",
    "                            for cv in range(nruns)))                \n",
    "\n",
    "    prediction_train_f.append(prediction_train)\n",
    "    observed_train_f.append(observed_train)\n",
    "    prediction_test_f.append(prediction_test)\n",
    "    observed_test_f.append(observed_test)"
   ]
  },
  {
   "cell_type": "code",
   "execution_count": 87,
   "metadata": {},
   "outputs": [],
   "source": [
    "statistic = 'spearman'"
   ]
  },
  {
   "cell_type": "code",
   "execution_count": 88,
   "metadata": {},
   "outputs": [],
   "source": [
    "each_omic_train = []\n",
    "each_omic_test = []\n",
    "runs_train = []\n",
    "runs_test = []\n",
    "features_train = []\n",
    "features_test = []\n",
    "\n",
    "for omic in range(nomics):    \n",
    "    each_feature_train = []\n",
    "    each_run_train = []\n",
    "    \n",
    "    each_feature_test = []\n",
    "    each_run_test = []\n",
    "\n",
    "    for runs in range(nruns):\n",
    "        correl_train = prediction_train_f[omic][runs].corrwith(observed_train_f[omic][runs], \n",
    "                                                               axis = 0, method = statistic) \n",
    "        each_feature_train.append(correl_train)\n",
    "        each_run_train.append(np.mean(each_feature_train))\n",
    "        \n",
    "        correl_test = prediction_test_f[omic][runs].corrwith(observed_test_f[omic][runs], \n",
    "                                                             axis = 0, method = statistic) \n",
    "        each_feature_test.append(correl_test)\n",
    "        each_run_test.append(np.mean(each_feature_test))\n",
    "\n",
    "    each_omic_train.append(np.mean(each_run_train))\n",
    "    each_omic_test.append(np.mean(each_run_test))\n",
    "    runs_train.append(each_run_train)\n",
    "    runs_test.append(each_run_test)\n",
    "    features_train.append(each_feature_train)\n",
    "    features_test.append(each_feature_test)"
   ]
  },
  {
   "cell_type": "code",
   "execution_count": 89,
   "metadata": {},
   "outputs": [],
   "source": [
    "#Results - one omics at a time\n",
    "#results = []\n",
    "#for k in range(6):\n",
    "#    correlation = []\n",
    "#    for l in range(len(bars_p[k].columns)):\n",
    "#        correlation.append(r2_score(bars_p[k][l], bars_o[k][l]))        \n",
    "#    results.append(np.mean(correlation))"
   ]
  },
  {
   "cell_type": "code",
   "execution_count": 90,
   "metadata": {},
   "outputs": [],
   "source": [
    "y_pos = np.arange(nomics)\n",
    "predictors[7] = 'all'"
   ]
  },
  {
   "cell_type": "code",
   "execution_count": 97,
   "metadata": {},
   "outputs": [
    {
     "data": {
      "image/png": "[encoded data removed]",
      "text/plain": [
       "<Figure size 432x288 with 1 Axes>"
      ]
     },
     "metadata": {
      "needs_background": "light"
     },
     "output_type": "display_data"
    }
   ],
   "source": [
    "#Plot the results\n",
    "f = plt.figure()\n",
    "plt.bar(y_pos, each_omic_test, color=['firebrick', 'gold', 'olivedrab', 'royalblue', \n",
    "                                       'cyan', 'salmon', 'slategray', 'magenta'])\n",
    "plt.xticks(y_pos, predictors)\n",
    "plt.xlabel('Predictor')\n",
    "plt.ylabel('Spearman r')\n",
    "plt.title('Prediction accuracy for plasma somalogic')\n",
    "plt.xticks(rotation=30)\n",
    "#plt.show()\n",
    "\n",
    "#os.chdir(Desktop)\n",
    "f.savefig(\"CNNM_bars_plasmaS_test.pdf\", bbox_inches='tight')"
   ]
  },
  {
   "cell_type": "code",
   "execution_count": 92,
   "metadata": {},
   "outputs": [
    {
     "data": {
      "image/png": "[encoded data removed]",
      "text/plain": [
       "<Figure size 432x288 with 1 Axes>"
      ]
     },
     "metadata": {
      "needs_background": "light"
     },
     "output_type": "display_data"
    }
   ],
   "source": [
    "#Boxplots\n",
    "import seaborn as sns\n",
    "bxp = sns.boxplot(x=predictors, y=runs_train, palette=\"Set2\")\n",
    "bxp.set_xticklabels(bxp.get_xticklabels(),rotation=30)\n",
    "plt.xlabel('Predictor')\n",
    "plt.ylabel('Spearman r')\n",
    "plt.title('Prediction accuracy for plasma l')\n",
    "#plt.show()\n",
    "fig = bxp.get_figure()\n",
    "fig.savefig(\"CNNM_boxesRuns_plasma_train.pdf\")"
   ]
  },
  {
   "cell_type": "code",
   "execution_count": 96,
   "metadata": {},
   "outputs": [
    {
     "data": {
      "image/png": "[encoded data removed]",
      "text/plain": [
       "<Figure size 432x288 with 1 Axes>"
      ]
     },
     "metadata": {
      "needs_background": "light"
     },
     "output_type": "display_data"
    }
   ],
   "source": [
    "#Boxplots\n",
    "bxp = sns.boxplot(x=predictors, y=features_test, palette=\"Set2\")\n",
    "bxp.set_xticklabels(bxp.get_xticklabels(),rotation=30)\n",
    "plt.xlabel('Predictor')\n",
    "plt.ylabel('Spearman r')\n",
    "plt.title('Prediction accuracy for plasma somalogic')\n",
    "#plt.show()\n",
    "fig = bxp.get_figure()\n",
    "fig.savefig(\"CNNM_boxesFeat_plasma_s_test.pdf\")"
   ]
  },
  {
   "cell_type": "code",
   "execution_count": null,
   "metadata": {},
   "outputs": [],
   "source": []
  },
  {
   "cell_type": "code",
   "execution_count": null,
   "metadata": {},
   "outputs": [],
   "source": []
  },
  {
   "cell_type": "code",
   "execution_count": null,
   "metadata": {},
   "outputs": [],
   "source": []
  },
  {
   "cell_type": "code",
   "execution_count": null,
   "metadata": {},
   "outputs": [],
   "source": [
    "X = []\n",
    "for chapter in range(len(picture_book)):\n",
    "    X.append(np.asarray(picture_book[chapter][pred])) \n",
    "\n",
    "X = np.vstack(X)"
   ]
  },
  {
   "cell_type": "code",
   "execution_count": 27,
   "metadata": {},
   "outputs": [
    {
     "data": {
      "text/plain": [
       "(1972, 40, 40)"
      ]
     },
     "execution_count": 27,
     "metadata": {},
     "output_type": "execute_result"
    }
   ],
   "source": [
    "X.shape"
   ]
  },
  {
   "cell_type": "code",
   "execution_count": 26,
   "metadata": {},
   "outputs": [
    {
     "ename": "NameError",
     "evalue": "name 'albums' is not defined",
     "output_type": "error",
     "traceback": [
      "\u001b[0;31m---------------------------------------------------------------------------\u001b[0m",
      "\u001b[0;31mNameError\u001b[0m                                 Traceback (most recent call last)",
      "\u001b[0;32m<ipython-input-26-0743dc0101f0>\u001b[0m in \u001b[0;36m<module>\u001b[0;34m\u001b[0m\n\u001b[0;32m----> 1\u001b[0;31m \u001b[0mX_m\u001b[0m \u001b[0;34m=\u001b[0m \u001b[0;34m[\u001b[0m\u001b[0malbums\u001b[0m\u001b[0;34m[\u001b[0m\u001b[0;36m0\u001b[0m\u001b[0;34m]\u001b[0m\u001b[0;34m,\u001b[0m \u001b[0malbums\u001b[0m\u001b[0;34m[\u001b[0m\u001b[0;36m1\u001b[0m\u001b[0;34m]\u001b[0m\u001b[0;34m,\u001b[0m \u001b[0malbums\u001b[0m\u001b[0;34m[\u001b[0m\u001b[0;36m2\u001b[0m\u001b[0;34m]\u001b[0m\u001b[0;34m,\u001b[0m \u001b[0malbums\u001b[0m\u001b[0;34m[\u001b[0m\u001b[0;36m3\u001b[0m\u001b[0;34m]\u001b[0m\u001b[0;34m,\u001b[0m \u001b[0malbums\u001b[0m\u001b[0;34m[\u001b[0m\u001b[0;36m4\u001b[0m\u001b[0;34m]\u001b[0m\u001b[0;34m,\u001b[0m \u001b[0malbums\u001b[0m\u001b[0;34m[\u001b[0m\u001b[0;36m5\u001b[0m\u001b[0;34m]\u001b[0m\u001b[0;34m,\u001b[0m \u001b[0malbums\u001b[0m\u001b[0;34m[\u001b[0m\u001b[0;36m6\u001b[0m\u001b[0;34m]\u001b[0m\u001b[0;34m]\u001b[0m\u001b[0;34m\u001b[0m\u001b[0;34m\u001b[0m\u001b[0m\n\u001b[0m\u001b[1;32m      2\u001b[0m \u001b[0;32mdel\u001b[0m \u001b[0mX_m\u001b[0m\u001b[0;34m[\u001b[0m\u001b[0mresponse_number\u001b[0m\u001b[0;34m]\u001b[0m\u001b[0;34m\u001b[0m\u001b[0;34m\u001b[0m\u001b[0m\n\u001b[1;32m      3\u001b[0m \u001b[0mX_m\u001b[0m \u001b[0;34m=\u001b[0m \u001b[0mnp\u001b[0m\u001b[0;34m.\u001b[0m\u001b[0marray\u001b[0m\u001b[0;34m(\u001b[0m\u001b[0mX_m\u001b[0m\u001b[0;34m,\u001b[0m \u001b[0mdtype\u001b[0m \u001b[0;34m=\u001b[0m \u001b[0mfloat\u001b[0m\u001b[0;34m)\u001b[0m\u001b[0;34m\u001b[0m\u001b[0;34m\u001b[0m\u001b[0m\n",
      "\u001b[0;31mNameError\u001b[0m: name 'albums' is not defined"
     ]
    }
   ],
   "source": [
    "X_m = [albums[0], albums[1], albums[2], albums[3], albums[4], albums[5], albums[6]]\n",
    "del X_m[response_number]\n",
    "X_m = np.array(X_m, dtype = float)"
   ]
  },
  {
   "cell_type": "code",
   "execution_count": null,
   "metadata": {},
   "outputs": [
    {
     "name": "stderr",
     "output_type": "stream",
     "text": [
      "\n",
      "\n",
      "\n",
      "  0%|          | 0/50 [00:00<?, ?it/s]\u001b[A\u001b[A\u001b[A"
     ]
    }
   ],
   "source": [
    "#Using all omics at once\n",
    "prediction_train_m, observed_train_m, prediction_test_m, observed_test_m = zip(*Parallel(n_jobs=3)(delayed(butterfly.Models.multi_CNN)\n",
    "                        (X_m, y, groups, pixels, features, folds, epochs, optimiser, loss) \n",
    "                        for cv in tqdm(range(nruns))))"
   ]
  },
  {
   "cell_type": "code",
   "execution_count": null,
   "metadata": {},
   "outputs": [],
   "source": [
    "each_feature_train_m = []\n",
    "each_run_train_m = []\n",
    "\n",
    "each_feature_test_m = []\n",
    "each_run_test_m = []\n",
    "\n",
    "for runs in range(nruns):\n",
    "    correl_train_m = prediction_train_m[runs].corrwith(observed_train_m[runs], axis = 0, method = statistic) \n",
    "    each_feature_train_m.append(correl_train_m)\n",
    "    each_run_train_m.append(np.mean(each_feature_train_m))\n",
    "\n",
    "    correl_test_m = prediction_test_m[runs].corrwith(observed_test_m[runs], axis = 0, method = statistic) \n",
    "    each_feature_test_m.append(correl_test_m)\n",
    "    each_run_test_m.append(np.mean(each_feature_test_m))\n",
    "    \n",
    "all_omics_train = np.mean(each_run_train_m)\n",
    "all_omics_test = np.mean(each_run_test_m)"
   ]
  },
  {
   "cell_type": "code",
   "execution_count": 78,
   "metadata": {},
   "outputs": [],
   "source": [
    "#Results - all omics at once\n",
    "each_omic_train.append(all_omics_train)\n",
    "each_omic_test.append(all_omics_test)\n",
    "runs_train.append(each_run_train_m)\n",
    "runs_test.append(each_run_test_m)\n",
    "features_train.append(each_feature_train_m)\n",
    "features_test.append(each_feature_test_m)"
   ]
  },
  {
   "cell_type": "code",
   "execution_count": 73,
   "metadata": {},
   "outputs": [],
   "source": [
    "#Define the predictor datasets\n",
    "predictors = ['rna', 'plasma_l', 'serum_l', 'microb', 'immune', 'metabol', 'plasma_s', 'all', 'multi']\n",
    "y_pos = np.arange(len(predictors))"
   ]
  },
  {
   "cell_type": "code",
   "execution_count": 74,
   "metadata": {},
   "outputs": [
    {
     "data": {
      "image/png": "[encoded data removed]",
      "text/plain": [
       "<Figure size 432x288 with 1 Axes>"
      ]
     },
     "metadata": {
      "needs_background": "light"
     },
     "output_type": "display_data"
    }
   ],
   "source": [
    "#Plot the results\n",
    "f = plt.figure()\n",
    "plt.bar(y_pos, each_omic_test, color=['firebrick', 'gold', 'olivedrab', 'royalblue', \n",
    "                                       'cyan', 'salmon', 'slategray', 'magenta'])\n",
    "plt.xticks(y_pos, predictors)\n",
    "plt.xlabel('Predictor')\n",
    "plt.ylabel('Spearman r')\n",
    "plt.title('Prediction accuracy for serum l')\n",
    "plt.xticks(rotation=30)\n",
    "#plt.show()\n",
    "\n",
    "#os.chdir(Desktop)\n",
    "f.savefig(\"CNN_bars_serum_l_test.pdf\", bbox_inches='tight')"
   ]
  },
  {
   "cell_type": "code",
   "execution_count": 91,
   "metadata": {},
   "outputs": [
    {
     "data": {
      "image/png": "[encoded data removed]",
      "text/plain": [
       "<Figure size 432x288 with 1 Axes>"
      ]
     },
     "metadata": {
      "needs_background": "light"
     },
     "output_type": "display_data"
    }
   ],
   "source": [
    "#Boxplots\n",
    "import seaborn as sns\n",
    "bxp = sns.boxplot(x=predictors, y=runs_test, palette=\"Set2\")\n",
    "bxp.set_xticklabels(bxp.get_xticklabels(),rotation=30)\n",
    "plt.xlabel('Predictor')\n",
    "plt.ylabel('Spearman r')\n",
    "plt.title('Prediction accuracy for serum l')\n",
    "#plt.show()\n",
    "fig = bxp.get_figure()\n",
    "fig.savefig(\"boxesRuns_serum_l_test.pdf\")"
   ]
  },
  {
   "cell_type": "code",
   "execution_count": 94,
   "metadata": {},
   "outputs": [
    {
     "data": {
      "image/png": "[encoded data removed]",
      "text/plain": [
       "<Figure size 432x288 with 1 Axes>"
      ]
     },
     "metadata": {
      "needs_background": "light"
     },
     "output_type": "display_data"
    }
   ],
   "source": [
    "#Boxplots\n",
    "bxp = sns.boxplot(x=predictors, y=features_test, palette=\"Set2\")\n",
    "bxp.set_xticklabels(bxp.get_xticklabels(),rotation=30)\n",
    "plt.xlabel('Predictor')\n",
    "plt.ylabel('Spearman r')\n",
    "plt.title('Prediction accuracy for serum l')\n",
    "#plt.show()\n",
    "fig = bxp.get_figure()\n",
    "fig.savefig(\"boxesFeat_serum_l_test.pdf\")"
   ]
  },
  {
   "cell_type": "code",
   "execution_count": 12,
   "metadata": {},
   "outputs": [
    {
     "name": "stdout",
     "output_type": "stream",
     "text": [
      "test\n"
     ]
    }
   ],
   "source": [
    "print('test')"
   ]
  },
  {
   "cell_type": "code",
   "execution_count": null,
   "metadata": {},
   "outputs": [],
   "source": []
  }
 ],
 "metadata": {
  "kernelspec": {
   "display_name": "Python 3",
   "language": "python",
   "name": "python3"
  },
  "language_info": {
   "codemirror_mode": {
    "name": "ipython",
    "version": 3
   },
   "file_extension": ".py",
   "mimetype": "text/x-python",
   "name": "python",
   "nbconvert_exporter": "python",
   "pygments_lexer": "ipython3",
   "version": "3.7.4"
  },
  "pycharm": {
   "stem_cell": {
    "cell_type": "raw",
    "metadata": {
     "collapsed": false
    },
    "source": []
   }
  }
 },
 "nbformat": 4,
 "nbformat_minor": 4
}
