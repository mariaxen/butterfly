{
 "cells": [
  {
   "cell_type": "code",
   "execution_count": 46,
   "metadata": {},
   "outputs": [
    {
     "name": "stdout",
     "output_type": "stream",
     "text": [
      "The autoreload extension is already loaded. To reload it, use:\n",
      "  %reload_ext autoreload\n"
     ]
    }
   ],
   "source": [
    "%load_ext autoreload\n",
    "%autoreload 2\n",
    "\n",
    "from keras.models import Sequential\n",
    "from keras.layers import Dense\n",
    "from keras.layers import Flatten\n",
    "from keras.layers.convolutional import Conv1D\n",
    "from keras.layers.convolutional import MaxPooling1D\n",
    "from sklearn.preprocessing import StandardScaler\n",
    "from keras.models import Model\n",
    "from keras.layers import *    \n",
    "import os \n",
    "import pyreadr\n",
    "import numpy as np\n",
    "import pyreadr\n",
    "import pandas as pd\n",
    "import multiprocessing\n",
    "from joblib import Parallel, delayed\n",
    "import butterfly.album\n",
    "import butterfly.Models\n",
    "from itertools import combinations \n",
    "from joblib import parallel_backend\n",
    "import matplotlib.pyplot as plt\n",
    "from datetime import datetime\n",
    "from tqdm import tqdm\n",
    "from sklearn.metrics import r2_score\n",
    "import pickle\n",
    "from sklearn.model_selection import GroupKFold\n",
    "from random import sample"
   ]
  },
  {
   "cell_type": "code",
   "execution_count": 47,
   "metadata": {},
   "outputs": [],
   "source": [
    "n_samples = 5 #features to sample from each dataset\n",
    "pixels = 40 #image size\n",
    "perplexity = 25 #perplexity for the tsne\n",
    "\n",
    "#Model\n",
    "nruns = 2 #number of runs\n",
    "folds = 10 #number of folds\n",
    "features = 1 #number of features to predict\n",
    "epochs = 180 #number of epochs\n",
    "optimiser = 'adam' #model optimiser\n",
    "loss = 'mse' #model loss"
   ]
  },
  {
   "cell_type": "code",
   "execution_count": 48,
   "metadata": {},
   "outputs": [],
   "source": [
    "#Import your data\n",
    "#DF = pyreadr.read_r('/Users/mxenoc/Desktop/workspace/butterfly/data/omics.RData')\n",
    "DF = pyreadr.read_r('/home/mxenoc/workspace/butterfly/data/omics.RData')\n",
    "DF = DF[\"DF\"]"
   ]
  },
  {
   "cell_type": "code",
   "execution_count": 49,
   "metadata": {},
   "outputs": [],
   "source": [
    "#Define the predictor datasets\n",
    "omics = ['rna', 'plasma_l', 'serum_l', 'microb', 'immune', 'metabol', 'plasma_s']"
   ]
  },
  {
   "cell_type": "code",
   "execution_count": null,
   "metadata": {},
   "outputs": [
    {
     "name": "stderr",
     "output_type": "stream",
     "text": [
      " 29%|██▊       | 2/7 [31:40<1:07:54, 814.96s/it]"
     ]
    }
   ],
   "source": [
    "albums = []\n",
    "for predictor_index in tqdm(range(len(omics))):\n",
    "    \n",
    "    #Get your predictor dataset\n",
    "    predictors = list(omics)\n",
    "    predictors.remove(omics[predictor_index])\n",
    "    predictors = tuple(predictors)\n",
    "\n",
    "    albums.append(butterfly.album.create_album(DF, predictors, pixels, perplexity))"
   ]
  },
  {
   "cell_type": "code",
   "execution_count": null,
   "metadata": {},
   "outputs": [],
   "source": [
    "with open('albums.pkl', 'wb') as f:  \n",
    "    pickle.dump(albums, f)"
   ]
  },
  {
   "cell_type": "code",
   "execution_count": null,
   "metadata": {},
   "outputs": [],
   "source": [
    "with open('albums.pkl', 'rb') as f:\n",
    "    albums = pickle.load(f)"
   ]
  },
  {
   "cell_type": "code",
   "execution_count": null,
   "metadata": {},
   "outputs": [],
   "source": [
    "prediction_train = []\n",
    "observed_train = []\n",
    "prediction_test = []\n",
    "observed_test = []\n",
    "\n",
    "for predictor_index in tqdm(range(len(omics))):\n",
    "\n",
    "    #Get your response dataset\n",
    "    response = sample([col for col in DF if col.startswith(omics[predictor_index])], n_samples)\n",
    "    response = np.append(response, 'patientID')\n",
    "    response_df = DF[response]\n",
    "    \n",
    "    groups = response_df['patientID']\n",
    "    \n",
    "    y = response_df.values\n",
    "    y = response_df.drop(['patientID'], axis = 1).values\n",
    "    \n",
    "    X = np.asarray(albums[predictor_index])\n",
    "    \n",
    "    prediction_train_CNN = []\n",
    "    observed_train_CNN = []\n",
    "    prediction_test_CNN = []\n",
    "    observed_test_CNN = []\n",
    "\n",
    "    for feat in tqdm(range(y.shape[1])):\n",
    "\n",
    "        prediction_train, observed_train, prediction_test, observed_test = zip(*Parallel(n_jobs=nruns)\n",
    "                               (delayed(butterfly.Models.CNN)\n",
    "                                (X, y[:,feat], groups, pixels, features, folds, epochs, optimiser, loss, \"CNN\") \n",
    "                                for cv in range(nruns)))                \n",
    "\n",
    "        prediction_train_CNN.append(prediction_train)\n",
    "        observed_train_CNN.append(observed_train)\n",
    "        prediction_test_CNN.append(prediction_test)\n",
    "        observed_test_CNN.append(observed_test)\n",
    "        \n",
    "    prediction_train.append(prediction_train)\n",
    "    observed_train.append(observed_train)\n",
    "    prediction_test.append(prediction_test)\n",
    "    observed_test.append(observed_test)"
   ]
  },
  {
   "cell_type": "code",
   "execution_count": 41,
   "metadata": {},
   "outputs": [],
   "source": []
  },
  {
   "cell_type": "code",
   "execution_count": 45,
   "metadata": {},
   "outputs": [
    {
     "name": "stderr",
     "output_type": "stream",
     "text": [
      " 20%|██        | 2/10 [01:21<05:06, 38.28s/it]/home/mxenoc/anaconda3/lib/python3.7/site-packages/joblib/externals/loky/process_executor.py:706: UserWarning: A worker stopped while some jobs were given to the executor. This can be caused by a too short worker timeout or by a memory leak.\n",
      "  \"timeout or by a memory leak.\", UserWarning\n",
      "100%|██████████| 10/10 [06:43<00:00, 40.39s/it]\n"
     ]
    }
   ],
   "source": []
  },
  {
   "cell_type": "code",
   "execution_count": null,
   "metadata": {},
   "outputs": [],
   "source": []
  },
  {
   "cell_type": "code",
   "execution_count": null,
   "metadata": {},
   "outputs": [],
   "source": []
  }
 ],
 "metadata": {
  "kernelspec": {
   "display_name": "Python 3",
   "language": "python",
   "name": "python3"
  },
  "language_info": {
   "codemirror_mode": {
    "name": "ipython",
    "version": 3
   },
   "file_extension": ".py",
   "mimetype": "text/x-python",
   "name": "python",
   "nbconvert_exporter": "python",
   "pygments_lexer": "ipython3",
   "version": "3.7.4"
  },
  "pycharm": {
   "stem_cell": {
    "cell_type": "raw",
    "metadata": {
     "collapsed": false
    },
    "source": []
   }
  }
 },
 "nbformat": 4,
 "nbformat_minor": 4
}
