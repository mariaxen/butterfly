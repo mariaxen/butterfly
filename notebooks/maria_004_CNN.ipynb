{
 "cells": [
  {
   "cell_type": "code",
   "execution_count": 56,
   "metadata": {},
   "outputs": [
    {
     "name": "stdout",
     "output_type": "stream",
     "text": [
      "The autoreload extension is already loaded. To reload it, use:\n",
      "  %reload_ext autoreload\n"
     ]
    }
   ],
   "source": [
    "%load_ext autoreload\n",
    "%autoreload 2\n",
    "\n",
    "from keras.models import Sequential\n",
    "from keras.layers import Dense\n",
    "from keras.layers import Flatten\n",
    "from keras.layers.convolutional import Conv1D\n",
    "from keras.layers.convolutional import MaxPooling1D\n",
    "from sklearn.preprocessing import StandardScaler\n",
    "from keras.models import Model\n",
    "from keras.layers import *    \n",
    "import os \n",
    "import pyreadr\n",
    "import numpy as np\n",
    "import pyreadr\n",
    "import pandas as pd\n",
    "import multiprocessing\n",
    "from joblib import Parallel, delayed\n",
    "import butterfly.album\n",
    "import butterfly.Models\n",
    "from itertools import combinations \n",
    "from joblib import parallel_backend\n",
    "import matplotlib.pyplot as plt\n",
    "from datetime import datetime\n",
    "from tqdm import tqdm\n",
    "from sklearn.metrics import r2_score\n",
    "import pickle\n",
    "from sklearn.model_selection import GroupKFold\n",
    "from random import sample\n",
    "from scipy import stats\n",
    "from sklearn.metrics import mean_absolute_error\n",
    "from collections import defaultdict"
   ]
  },
  {
   "cell_type": "code",
   "execution_count": 75,
   "metadata": {},
   "outputs": [],
   "source": [
    "#Model\n",
    "nruns = 1 #number of runs\n",
    "folds = 10 #number of folds\n",
    "features = 1 #number of features to predict\n",
    "epochs = 180 #number of epochs\n",
    "optimiser = 'adam' #model optimiser\n",
    "loss = 'mse' #model loss\n",
    "ntrees = 100"
   ]
  },
  {
   "cell_type": "code",
   "execution_count": 58,
   "metadata": {},
   "outputs": [],
   "source": [
    "#Import your data\n",
    "#DF = pyreadr.read_r('/Users/mxenoc/Desktop/workspace/butterfly/data/omics.RData')\n",
    "DF = pyreadr.read_r('/home/mxenoc/workspace/butterfly/data/omics.RData')\n",
    "DF = DF[\"DF\"]"
   ]
  },
  {
   "cell_type": "code",
   "execution_count": 59,
   "metadata": {},
   "outputs": [],
   "source": [
    "groups = DF['patientID']"
   ]
  },
  {
   "cell_type": "code",
   "execution_count": 60,
   "metadata": {},
   "outputs": [],
   "source": [
    "#Define the predictor datasets\n",
    "omics = ['rna', 'plasma_l', 'serum_l', 'microb', 'immune', 'metabol', 'plasma_s']"
   ]
  },
  {
   "cell_type": "code",
   "execution_count": 61,
   "metadata": {},
   "outputs": [],
   "source": [
    "os.chdir('/home/mxenoc/workspace/butterfly/src/butterfly')"
   ]
  },
  {
   "cell_type": "code",
   "execution_count": 62,
   "metadata": {},
   "outputs": [],
   "source": [
    "with open('albums_all.pkl', 'rb') as f:\n",
    "    albums_all = pickle.load(f)"
   ]
  },
  {
   "cell_type": "code",
   "execution_count": 63,
   "metadata": {},
   "outputs": [],
   "source": [
    "with open('RF_predictor.pkl', 'rb') as f:\n",
    "    RF_predictor = pickle.load(f)"
   ]
  },
  {
   "cell_type": "code",
   "execution_count": 64,
   "metadata": {},
   "outputs": [],
   "source": [
    "with open('albums.pkl', 'rb') as f:\n",
    "    albums = pickle.load(f)"
   ]
  },
  {
   "cell_type": "code",
   "execution_count": 78,
   "metadata": {},
   "outputs": [],
   "source": [
    "with open('responses_1.pkl', 'rb') as f:\n",
    "    responses = pickle.load(f)"
   ]
  },
  {
   "cell_type": "code",
   "execution_count": null,
   "metadata": {},
   "outputs": [
    {
     "name": "stderr",
     "output_type": "stream",
     "text": [
      "\n",
      "\n",
      "  0%|          | 0/7 [00:00<?, ?it/s]\u001b[A\u001b[A\n",
      "\n",
      "\n",
      "  0%|          | 0/1 [00:00<?, ?it/s]\u001b[A\u001b[A\u001b[A\n",
      "\n",
      "\n",
      "100%|██████████| 1/1 [25:25<00:00, 1525.27s/it]\u001b[A\u001b[A\u001b[A\n",
      "\n",
      "\n",
      " 14%|█▍        | 1/7 [25:25<2:32:32, 1525.34s/it]\u001b[A\u001b[A\n",
      "\n",
      "\n",
      "  0%|          | 0/1 [00:00<?, ?it/s]\u001b[A\u001b[A\u001b[A\n",
      "\n",
      "\n",
      "100%|██████████| 1/1 [33:08<00:00, 1988.86s/it]\u001b[A\u001b[A\u001b[A\n",
      "\n",
      "\n",
      " 29%|██▊       | 2/7 [58:34<2:18:42, 1664.43s/it]\u001b[A\u001b[A\n",
      "\n",
      "\n",
      "  0%|          | 0/1 [00:00<?, ?it/s]\u001b[A\u001b[A\u001b[A\n",
      "\n",
      "\n",
      "100%|██████████| 1/1 [37:39<00:00, 2259.01s/it]\u001b[A\u001b[A\u001b[A\n",
      "\n",
      "\n",
      " 43%|████▎     | 3/7 [1:36:13<2:02:51, 1842.84s/it]\u001b[A\u001b[A\n",
      "\n",
      "\n",
      "  0%|          | 0/1 [00:00<?, ?it/s]\u001b[A\u001b[A\u001b[A\n",
      "\n",
      "\n",
      "100%|██████████| 1/1 [38:06<00:00, 2286.41s/it]\u001b[A\u001b[A\u001b[A\n",
      "\n",
      "\n",
      " 57%|█████▋    | 4/7 [2:14:19<1:38:47, 1975.94s/it]\u001b[A\u001b[A\n",
      "\n",
      "\n",
      "  0%|          | 0/1 [00:00<?, ?it/s]\u001b[A\u001b[A\u001b[A\n",
      "\n",
      "\n",
      "100%|██████████| 1/1 [43:35<00:00, 2615.74s/it]\u001b[A\u001b[A\u001b[A\n",
      "\n",
      "\n",
      " 71%|███████▏  | 5/7 [2:57:55<1:12:15, 2167.93s/it]\u001b[A\u001b[A\n",
      "\n",
      "\n",
      "  0%|          | 0/1 [00:00<?, ?it/s]\u001b[A\u001b[A\u001b[A"
     ]
    }
   ],
   "source": [
    "#Initialise lists\n",
    "fCNN = defaultdict(list)\n",
    "fRF = defaultdict(list)\n",
    "fMCNN = defaultdict(list)\n",
    "\n",
    "for predictor_index in tqdm(range(len(omics))):\n",
    "    \n",
    "    CNN = defaultdict(list)\n",
    "    RF = defaultdict(list)\n",
    "    MCNN = defaultdict(list)\n",
    "\n",
    "    #Get your response dataset\n",
    "    response = responses[predictor_index]\n",
    "    response_df = DFB[response]\n",
    "    \n",
    "    y = response_df.values\n",
    "    \n",
    "    #Get your predictor dataset\n",
    "\n",
    "    #CNN\n",
    "    X_CNN = np.asarray(albums_all[predictor_index])\n",
    "    \n",
    "    #Multi-layered CNN \n",
    "    X_MCNN = [albums[0], albums[1], albums[2], albums[3], albums[4], albums[5], albums[6]]\n",
    "    del X_MCNN[predictor_index]\n",
    "    X_MCNN = np.array(X_MCNN, dtype = float)\n",
    "    \n",
    "    #RF\n",
    "    #Get your predictor dataset\n",
    "    X_RF = RF_predictor[predictor_index]\n",
    "    X_RF = X_RF.values\n",
    "    X_RF = StandardScaler().fit_transform(X_RF)\n",
    "    \n",
    "    for feat in tqdm(range(y.shape[1])):\n",
    "\n",
    "        prediction_train, observed_train, prediction_test, observed_test = zip(*Parallel(n_jobs=nruns)\n",
    "                               (delayed(butterfly.Models.CNN)\n",
    "                                (X_CNN, y[:,feat], groups, 128, features, \n",
    "                                 folds, epochs, optimiser, loss, 'CNN') \n",
    "                                for cv in range(nruns)))                \n",
    "\n",
    "        CNN['prediction_train'].append(prediction_train)\n",
    "        CNN['observed_train'].append(observed_train)\n",
    "        CNN['prediction_test'].append(prediction_test)\n",
    "        CNN['observed_test'].append(observed_test)\n",
    "        \n",
    "        prediction_train, observed_train, prediction_test, observed_test = zip(*Parallel(n_jobs=nruns)\n",
    "                               (delayed(butterfly.Models.RF)\n",
    "                                (X_RF, y[:,feat], groups, folds, ntrees, 'RF_regressor') \n",
    "                                for cv in range(nruns)))                \n",
    "\n",
    "        RF['prediction_train'].append(prediction_train)\n",
    "        RF['observed_train'].append(observed_train)\n",
    "        RF['prediction_test'].append(prediction_test)\n",
    "        RF['observed_test'].append(observed_test)\n",
    "        \n",
    "        prediction_train, observed_train, prediction_test, observed_test = zip(*Parallel(n_jobs=nruns)\n",
    "                                (delayed(butterfly.Models.CNN)\n",
    "                        (X_MCNN, y[:,feat], groups, 40, features, \n",
    "                         folds, epochs, optimiser, loss, 'MCNN') \n",
    "                        for cv in range(nruns)))\n",
    "        \n",
    "        MCNN['prediction_train'].append(prediction_train)\n",
    "        MCNN['observed_train'].append(observed_train)\n",
    "        MCNN['prediction_test'].append(prediction_test)\n",
    "        MCNN['observed_test'].append(observed_test)\n",
    "\n",
    "    fCNN['prediction_train'].append(CNN['prediction_train'])\n",
    "    fCNN['observed_train'].append(CNN['observed_train'])\n",
    "    fCNN['prediction_test'].append(CNN['prediction_test'])\n",
    "    fCNN['observed_test'].append(CNN['observed_test'])\n",
    "    \n",
    "    fRF['prediction_train'].append(RF['prediction_train'])\n",
    "    fRF['observed_train'].append(RF['observed_train'])\n",
    "    fRF['prediction_test'].append(RF['prediction_test'])\n",
    "    fRF['observed_test'].append(RF['observed_test'])\n",
    "    \n",
    "    fMCNN['prediction_train'].append(MCNN['prediction_train'])\n",
    "    fMCNN['observed_train'].append(MCNN['observed_train'])\n",
    "    fMCNN['prediction_test'].append(MCNN['prediction_test'])\n",
    "    fMCNN['observed_test'].append(MCNN['observed_test'])"
   ]
  },
  {
   "cell_type": "code",
   "execution_count": 245,
   "metadata": {},
   "outputs": [],
   "source": [
    "each_omic_CNN = []\n",
    "all_features_CNN = []\n",
    "\n",
    "for l in range(len(omics)):\n",
    "    each_feature_CNN = []\n",
    "    for k in range(n_samples):\n",
    "        each_run_CNN = []\n",
    "        for i in range(nruns):\n",
    "            each_run_CNN.append(stats.spearmanr(fCNN['prediction_test'][l][k][i], \n",
    "                                                          fCNN['observed_test'][l][k][i]))\n",
    "        each_feature_CNN.append(np.mean(each_run_CNN))\n",
    "        all_features_CNN.append(each_feature_CNN)\n",
    "    each_omic_CNN.append(np.mean(each_feature_CNN))    "
   ]
  },
  {
   "cell_type": "code",
   "execution_count": 265,
   "metadata": {},
   "outputs": [],
   "source": [
    "each_omic_RF = []\n",
    "all_features_RF = []\n",
    "\n",
    "for l in range(len(omics)):\n",
    "    each_feature_RF = []\n",
    "    for k in range(n_samples):\n",
    "        each_run_RF = []\n",
    "        for i in range(nruns):\n",
    "            each_run_RF.append(stats.spearmanr(fRF['prediction_test'][l][k][i], \n",
    "                                                          fRF['observed_test'][l][k][i]))\n",
    "        each_feature_RF.append(np.mean(each_run_RF))\n",
    "        all_features_RF.append(each_feature_RF)\n",
    "    each_omic_RF.append(np.mean(each_feature_RF))    "
   ]
  },
  {
   "cell_type": "code",
   "execution_count": 266,
   "metadata": {},
   "outputs": [],
   "source": [
    "each_omic_MCNN = []\n",
    "all_features_MCNN = []\n",
    "\n",
    "for l in range(len(omics)):\n",
    "    each_feature_MCNN = []\n",
    "    for k in range(n_samples):\n",
    "        each_run_MCNN = []\n",
    "        for i in range(nruns):\n",
    "            each_run_MCNN.append(stats.spearmanr(fMCNN['prediction_test'][l][k][i], \n",
    "                                                          fMCNN['observed_test'][l][k][i]))\n",
    "        each_feature_MCNN.append(np.mean(each_run_MCNN))\n",
    "        all_features_MCNN.append(each_feature_MCNN)\n",
    "    each_omic_MCNN.append(np.mean(each_feature_MCNN))    "
   ]
  },
  {
   "cell_type": "code",
   "execution_count": 262,
   "metadata": {},
   "outputs": [
    {
     "data": {
      "text/plain": [
       "0.15005823048243436"
      ]
     },
     "execution_count": 262,
     "metadata": {},
     "output_type": "execute_result"
    }
   ],
   "source": [
    "np.mean(each_omic_RF)"
   ]
  },
  {
   "cell_type": "code",
   "execution_count": 263,
   "metadata": {},
   "outputs": [
    {
     "data": {
      "text/plain": [
       "0.19796012322539233"
      ]
     },
     "execution_count": 263,
     "metadata": {},
     "output_type": "execute_result"
    }
   ],
   "source": [
    "np.mean(each_omic_CNN)"
   ]
  },
  {
   "cell_type": "code",
   "execution_count": 264,
   "metadata": {},
   "outputs": [
    {
     "data": {
      "text/plain": [
       "0.18055642663548072"
      ]
     },
     "execution_count": 264,
     "metadata": {},
     "output_type": "execute_result"
    }
   ],
   "source": [
    "np.mean(each_omic_MCNN)"
   ]
  },
  {
   "cell_type": "code",
   "execution_count": 273,
   "metadata": {},
   "outputs": [],
   "source": [
    "predictors = ['RF', 'CNN', 'MCNN']\n",
    "y_pos = np.arange(len(predictors))"
   ]
  },
  {
   "cell_type": "code",
   "execution_count": 281,
   "metadata": {},
   "outputs": [
    {
     "ename": "TypeError",
     "evalue": "'>' not supported between instances of 'list' and 'int'",
     "output_type": "error",
     "traceback": [
      "\u001b[0;31m---------------------------------------------------------------------------\u001b[0m",
      "\u001b[0;31mTypeError\u001b[0m                                 Traceback (most recent call last)",
      "\u001b[0;32m<ipython-input-281-0c36a455c421>\u001b[0m in \u001b[0;36m<module>\u001b[0;34m\u001b[0m\n\u001b[0;32m----> 1\u001b[0;31m \u001b[0mall_features_RF_nn\u001b[0m \u001b[0;34m=\u001b[0m \u001b[0;34m[\u001b[0m\u001b[0;34m(\u001b[0m\u001b[0mi\u001b[0m \u001b[0;34m>\u001b[0m \u001b[0;36m0\u001b[0m\u001b[0;34m)\u001b[0m \u001b[0;34m*\u001b[0m \u001b[0mi\u001b[0m \u001b[0;32mfor\u001b[0m \u001b[0mi\u001b[0m \u001b[0;32min\u001b[0m \u001b[0mall_features_RF\u001b[0m\u001b[0;34m]\u001b[0m\u001b[0;34m\u001b[0m\u001b[0;34m\u001b[0m\u001b[0m\n\u001b[0m",
      "\u001b[0;32m<ipython-input-281-0c36a455c421>\u001b[0m in \u001b[0;36m<listcomp>\u001b[0;34m(.0)\u001b[0m\n\u001b[0;32m----> 1\u001b[0;31m \u001b[0mall_features_RF_nn\u001b[0m \u001b[0;34m=\u001b[0m \u001b[0;34m[\u001b[0m\u001b[0;34m(\u001b[0m\u001b[0mi\u001b[0m \u001b[0;34m>\u001b[0m \u001b[0;36m0\u001b[0m\u001b[0;34m)\u001b[0m \u001b[0;34m*\u001b[0m \u001b[0mi\u001b[0m \u001b[0;32mfor\u001b[0m \u001b[0mi\u001b[0m \u001b[0;32min\u001b[0m \u001b[0mall_features_RF\u001b[0m\u001b[0;34m]\u001b[0m\u001b[0;34m\u001b[0m\u001b[0;34m\u001b[0m\u001b[0m\n\u001b[0m",
      "\u001b[0;31mTypeError\u001b[0m: '>' not supported between instances of 'list' and 'int'"
     ]
    }
   ],
   "source": [
    "all_features_RF_nn = [(i > 0) * i for i in all_features_RF]"
   ]
  },
  {
   "cell_type": "code",
   "execution_count": 287,
   "metadata": {},
   "outputs": [],
   "source": [
    "all_features_RF = np.asarray(all_features_RF)\n",
    "all_features_RF_nn = all_features_RF.clip(min=0)"
   ]
  },
  {
   "cell_type": "code",
   "execution_count": null,
   "outputs": [],
   "source": [
    "all_features_CNN = np.asarray(all_features_CNN)\n",
    "all_features_CNN_nn = all_features_CNN.clip(min=0)"
   ],
   "metadata": {
    "collapsed": false,
    "pycharm": {
     "name": "#%%\n"
    }
   }
  },
  {
   "cell_type": "code",
   "execution_count": null,
   "outputs": [],
   "source": [
    "all_features_MCNN = np.asarray(all_features_MCNN)\n",
    "all_features_MCNN_nn = all_features_MCNN.clip(min=0)"
   ],
   "metadata": {
    "collapsed": false,
    "pycharm": {
     "name": "#%%\n"
    }
   }
  },
  {
   "cell_type": "code",
   "execution_count": null,
   "outputs": [],
   "source": [
    "features_nn = []\n",
    "features_nn.append(all_features_RF_nn)"
   ],
   "metadata": {
    "collapsed": false,
    "pycharm": {
     "name": "#%%\n"
    }
   }
  },
  {
   "cell_type": "code",
   "execution_count": null,
   "outputs": [],
   "source": [
    "features_nn.append(all_features_CNN_nn)"
   ],
   "metadata": {
    "collapsed": false,
    "pycharm": {
     "name": "#%%\n"
    }
   }
  },
  {
   "cell_type": "code",
   "execution_count": null,
   "outputs": [],
   "source": [
    "features_nn.append(all_features_MCNN_nn)"
   ],
   "metadata": {
    "collapsed": false,
    "pycharm": {
     "name": "#%%\n"
    }
   }
  },
  {
   "cell_type": "code",
   "execution_count": null,
   "outputs": [],
   "source": [
    "import seaborn as sns"
   ],
   "metadata": {
    "collapsed": false,
    "pycharm": {
     "name": "#%%\n"
    }
   }
  },
  {
   "cell_type": "code",
   "execution_count": null,
   "outputs": [],
   "source": [
    "#Boxplots\n",
    "bxp = sns.boxplot(x=predictors, y=features_nn, palette=\"Set2\")\n",
    "bxp.set_xticklabels(bxp.get_xticklabels(),rotation=30)\n",
    "plt.xlabel('Models')\n",
    "plt.ylabel('Spearman r')\n",
    "plt.title('Accuracy over 20 features per omic dataset')\n",
    "#plt.show()\n",
    "fig = bxp.get_figure()\n",
    "fig.savefig(\"boxesFeat_serum_l_test.pdf\")"
   ],
   "metadata": {
    "collapsed": false,
    "pycharm": {
     "name": "#%%\n"
    }
   }
  },
  {
   "cell_type": "code",
   "execution_count": 289,
   "metadata": {},
   "outputs": [],
   "source": []
  },
  {
   "cell_type": "code",
   "execution_count": 290,
   "metadata": {},
   "outputs": [],
   "source": [
    "all_features_MCNN = np.asarray(all_features_MCNN)\n",
    "all_features_MCNN_nn = all_features_MCNN.clip(min=0)"
   ]
  },
  {
   "cell_type": "code",
   "execution_count": 296,
   "metadata": {},
   "outputs": [],
   "source": [
    "features_nn = []\n",
    "features_nn.append(all_features_RF_nn)"
   ]
  },
  {
   "cell_type": "code",
   "execution_count": 297,
   "metadata": {},
   "outputs": [],
   "source": [
    "features_nn.append(all_features_CNN_nn)"
   ]
  },
  {
   "cell_type": "code",
   "execution_count": 298,
   "metadata": {},
   "outputs": [],
   "source": [
    "features_nn.append(all_features_MCNN_nn)"
   ]
  },
  {
   "cell_type": "code",
   "execution_count": 299,
   "metadata": {},
   "outputs": [],
   "source": [
    "import seaborn as sns"
   ]
  },
  {
   "cell_type": "code",
   "execution_count": 301,
   "metadata": {},
   "outputs": [
    {
     "data": {
      "image/png": "[encoded data removed]",
      "text/plain": [
       "<Figure size 432x288 with 1 Axes>"
      ]
     },
     "metadata": {
      "needs_background": "light"
     },
     "output_type": "display_data"
    }
   ],
   "source": [
    "#Boxplots\n",
    "bxp = sns.boxplot(x=predictors, y=features_nn, palette=\"Set2\")\n",
    "bxp.set_xticklabels(bxp.get_xticklabels(),rotation=30)\n",
    "plt.xlabel('Models')\n",
    "plt.ylabel('Spearman r')\n",
    "plt.title('Accuracy over 20 features per omic dataset')\n",
    "#plt.show()\n",
    "fig = bxp.get_figure()\n",
    "fig.savefig(\"boxesFeat_serum_l_test.pdf\")"
   ]
  },
  {
   "cell_type": "code",
   "execution_count": null,
   "metadata": {},
   "outputs": [],
   "source": []
  }
 ],
 "metadata": {
  "kernelspec": {
   "display_name": "Python 3",
   "language": "python",
   "name": "python3"
  },
  "language_info": {
   "codemirror_mode": {
    "name": "ipython",
    "version": 3
   },
   "file_extension": ".py",
   "mimetype": "text/x-python",
   "name": "python",
   "nbconvert_exporter": "python",
   "pygments_lexer": "ipython3",
   "version": "3.7.4"
  },
  "pycharm": {
   "stem_cell": {
    "cell_type": "raw",
    "source": [],
    "metadata": {
     "collapsed": false
    }
   }
  }
 },
 "nbformat": 4,
 "nbformat_minor": 4
}