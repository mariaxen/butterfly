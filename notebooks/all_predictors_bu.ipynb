{
 "cells": [
  {
   "cell_type": "code",
   "execution_count": 1,
   "metadata": {},
   "outputs": [
    {
     "name": "stderr",
     "output_type": "stream",
     "text": [
      "Using TensorFlow backend.\n"
     ]
    }
   ],
   "source": [
    "from keras.models import Sequential\n",
    "from keras.layers import Dense\n",
    "from keras.layers import Flatten\n",
    "from keras.layers.convolutional import Conv1D\n",
    "from keras.layers.convolutional import MaxPooling1D\n",
    "from sklearn.preprocessing import StandardScaler\n",
    "from keras.models import Model\n",
    "from keras.layers import *    \n",
    "import os \n",
    "import pyreadr\n",
    "import numpy as np\n",
    "import pyreadr\n",
    "import pandas as pd\n",
    "import multiprocessing\n",
    "from joblib import Parallel, delayed\n",
    "import butterfly.album\n",
    "import butterfly.CNN\n",
    "from itertools import combinations \n",
    "from joblib import parallel_backend\n",
    "import matplotlib.pyplot as plt\n",
    "from datetime import datetime\n",
    "from tqdm import tqdm"
   ]
  },
  {
   "cell_type": "code",
   "execution_count": 2,
   "metadata": {},
   "outputs": [],
   "source": [
    "DF = pyreadr.read_r('/Users/mxenoc/Desktop/workspace/butterfly/data/omics.RData')\n",
    "#DF = pyreadr.read_r('/home/mxenoc/workspace/butterfly/data/omics.RData')\n",
    "DF = DF[\"DF\"]"
   ]
  },
  {
   "cell_type": "code",
   "execution_count": 3,
   "metadata": {},
   "outputs": [],
   "source": [
    "#Decide which dataset you want to predict\n",
    "resp_n = 'plasma_l'\n",
    "response = [col for col in DF if col.startswith(resp_n)]\n",
    "response.append(\"patientID\")\n",
    "response.append(\"trimester\")    \n",
    "response_df = DF[response]\n",
    "#Make sure your B trimesters are properly converted to 4"
   ]
  },
  {
   "cell_type": "code",
   "execution_count": 4,
   "metadata": {},
   "outputs": [],
   "source": [
    "# Choose your responses, size, for the image and number of features we are predicting\n",
    "pixels = 40\n",
    "features = len(response)-2"
   ]
  },
  {
   "cell_type": "code",
   "execution_count": 5,
   "metadata": {},
   "outputs": [],
   "source": [
    "#Get every combination of patient IDs in pairs of m's\n",
    "# Function which returns subset or r length from n \n",
    "m = 2\n",
    "IDs = response_df['patientID'].unique()\n",
    "IDs = IDs.tolist()\n",
    "exclude = list(combinations(IDs, m))"
   ]
  },
  {
   "cell_type": "code",
   "execution_count": 42,
   "metadata": {},
   "outputs": [],
   "source": [
    "predictors = ['rna', 'plasma_l', 'serum_l', 'microb', 'immune', 'metabol', 'plasma_s']\n",
    "predictors.remove(resp_n)"
   ]
  },
  {
   "cell_type": "code",
   "execution_count": 7,
   "metadata": {},
   "outputs": [
    {
     "name": "stderr",
     "output_type": "stream",
     "text": [
      "100%|██████████| 6/6 [03:50<00:00, 38.35s/it]\n"
     ]
    }
   ],
   "source": [
    "albums = Parallel(n_jobs=3)(delayed(butterfly.album.create_album)\n",
    "                                                (DF, predictors[al], pixels) \n",
    "                                                for al in tqdm(range(6)))"
   ]
  },
  {
   "cell_type": "code",
   "execution_count": 8,
   "metadata": {},
   "outputs": [
    {
     "name": "stderr",
     "output_type": "stream",
     "text": [
      "100%|██████████| 6/6 [33:56<00:00, 339.42s/it]\n"
     ]
    }
   ],
   "source": [
    "#Using one omics at a time\n",
    "bars_p = []\n",
    "bars_o = []\n",
    "\n",
    "for pred in tqdm(range(6)):\n",
    "\n",
    "    prediction, observed = zip(*Parallel(n_jobs=3)\n",
    "                               (delayed(butterfly.CNN.model)\n",
    "                                (response_df, exclude, cv, albums[pred], pixels, features) \n",
    "                                for cv in range(len(exclude))))\n",
    "                \n",
    "    bars_p.append(pd.concat(prediction))\n",
    "    bars_o.append(pd.concat(observed))"
   ]
  },
  {
   "cell_type": "code",
   "execution_count": 33,
   "metadata": {},
   "outputs": [],
   "source": [
    "#Choose your correlation statistic\n",
    "statistic = 'spearman'"
   ]
  },
  {
   "cell_type": "code",
   "execution_count": 34,
   "metadata": {},
   "outputs": [],
   "source": [
    "#One omics at a time\n",
    "results = []\n",
    "for res in range(6):\n",
    "    correl = bars_p[res].corrwith(bars_o[res], axis = 0, method = statistic) \n",
    "    correl[correl < 0] = 0\n",
    "    results.append(np.mean(correl))"
   ]
  },
  {
   "cell_type": "code",
   "execution_count": 35,
   "metadata": {},
   "outputs": [
    {
     "data": {
      "text/plain": [
       "[0.14615930033242802,\n",
       " 0.10653234024345029,\n",
       " 0.03180111084433671,\n",
       " 0.0051891380195201045,\n",
       " 0.03302885574684856,\n",
       " 0.019529324175812116]"
      ]
     },
     "execution_count": 35,
     "metadata": {},
     "output_type": "execute_result"
    }
   ],
   "source": [
    "results"
   ]
  },
  {
   "cell_type": "code",
   "execution_count": 28,
   "metadata": {},
   "outputs": [
    {
     "name": "stderr",
     "output_type": "stream",
     "text": [
      "\n",
      "  0%|          | 0/136 [00:00<?, ?it/s]\u001b[A\n",
      "  4%|▍         | 6/136 [00:22<08:03,  3.72s/it]\u001b[A\n",
      "  7%|▋         | 9/136 [00:41<09:39,  4.56s/it]\u001b[A\n",
      "  9%|▉         | 12/136 [01:01<10:34,  5.11s/it]\u001b[A\n",
      " 11%|█         | 15/136 [01:20<11:01,  5.47s/it]\u001b[A\n",
      " 13%|█▎        | 18/136 [01:38<11:14,  5.71s/it]\u001b[A\n",
      " 15%|█▌        | 21/136 [01:57<11:16,  5.88s/it]\u001b[A\n",
      " 18%|█▊        | 24/136 [02:16<11:12,  6.00s/it]\u001b[A\n",
      " 20%|█▉        | 27/136 [02:35<11:03,  6.09s/it]\u001b[A\n",
      " 22%|██▏       | 30/136 [02:54<10:51,  6.15s/it]\u001b[A\n",
      " 24%|██▍       | 33/136 [03:13<10:37,  6.19s/it]\u001b[A\n",
      " 26%|██▋       | 36/136 [03:32<10:23,  6.23s/it]\u001b[A\n",
      " 29%|██▊       | 39/136 [03:51<10:06,  6.26s/it]\u001b[A\n",
      " 31%|███       | 42/136 [04:10<09:55,  6.34s/it]\u001b[A\n",
      " 33%|███▎      | 45/136 [04:30<09:42,  6.40s/it]\u001b[A\n",
      " 35%|███▌      | 48/136 [04:49<09:25,  6.43s/it]\u001b[A\n",
      " 38%|███▊      | 51/136 [05:09<09:07,  6.44s/it]\u001b[A\n",
      " 40%|███▉      | 54/136 [05:28<08:48,  6.45s/it]\u001b[A\n",
      " 42%|████▏     | 57/136 [05:47<08:27,  6.42s/it]\u001b[A\n",
      " 44%|████▍     | 60/136 [06:06<08:05,  6.38s/it]\u001b[A\n",
      " 46%|████▋     | 63/136 [06:28<08:02,  6.62s/it]\u001b[A\n",
      " 49%|████▊     | 66/136 [06:47<07:37,  6.54s/it]\u001b[A\n",
      " 51%|█████     | 69/136 [07:06<07:13,  6.47s/it]\u001b[A\n",
      " 53%|█████▎    | 72/136 [07:25<06:51,  6.44s/it]\u001b[A\n",
      " 55%|█████▌    | 75/136 [07:44<06:30,  6.40s/it]\u001b[A\n",
      " 57%|█████▋    | 78/136 [08:03<06:10,  6.39s/it]\u001b[A\n",
      " 60%|█████▉    | 81/136 [08:22<05:50,  6.37s/it]\u001b[A\n",
      " 62%|██████▏   | 84/136 [08:41<05:30,  6.36s/it]\u001b[A\n",
      " 64%|██████▍   | 87/136 [09:00<05:11,  6.37s/it]\u001b[A\n",
      " 66%|██████▌   | 90/136 [09:19<04:52,  6.36s/it]\u001b[A\n",
      " 68%|██████▊   | 93/136 [09:38<04:33,  6.37s/it]\u001b[A\n",
      " 71%|███████   | 96/136 [09:57<04:14,  6.36s/it]\u001b[A\n",
      " 73%|███████▎  | 99/136 [10:16<03:55,  6.35s/it]\u001b[A\n",
      " 75%|███████▌  | 102/136 [10:35<03:36,  6.36s/it]\u001b[A\n",
      " 77%|███████▋  | 105/136 [10:54<03:17,  6.36s/it]\u001b[A\n",
      " 79%|███████▉  | 108/136 [11:13<02:58,  6.36s/it]\u001b[A\n",
      " 82%|████████▏ | 111/136 [11:32<02:39,  6.36s/it]\u001b[A\n",
      " 84%|████████▍ | 114/136 [11:52<02:19,  6.36s/it]\u001b[A\n",
      " 86%|████████▌ | 117/136 [12:11<02:00,  6.36s/it]\u001b[A\n",
      " 88%|████████▊ | 120/136 [12:30<01:41,  6.36s/it]\u001b[A\n",
      " 90%|█████████ | 123/136 [12:49<01:22,  6.36s/it]\u001b[A\n",
      " 93%|█████████▎| 126/136 [13:08<01:03,  6.37s/it]\u001b[A\n",
      " 95%|█████████▍| 129/136 [13:27<00:44,  6.37s/it]\u001b[A\n",
      " 97%|█████████▋| 132/136 [13:46<00:25,  6.38s/it]\u001b[A\n",
      "100%|██████████| 136/136 [14:05<00:00,  6.22s/it]\u001b[A\n"
     ]
    }
   ],
   "source": [
    "#Using all omics at once\n",
    "prediction, observed = zip(*Parallel(n_jobs=3)(delayed(butterfly.CNN.model_multi)\n",
    "                                               (response_df, exclude, cv, albums, pixels, features) \n",
    "                                               for cv in tqdm(range(len(exclude)))))"
   ]
  },
  {
   "cell_type": "code",
   "execution_count": 36,
   "metadata": {},
   "outputs": [],
   "source": [
    "#All omics at once\n",
    "pred = pd.concat(prediction)\n",
    "obs  = pd.concat(observed)"
   ]
  },
  {
   "cell_type": "code",
   "execution_count": null,
   "metadata": {
    "collapsed": false,
    "jupyter": {
     "outputs_hidden": false
    },
    "pycharm": {
     "name": "#%%\n"
    }
   },
   "outputs": [],
   "source": [
    "#All omics at once\n",
    "correl = pred.corrwith(obs, axis = 0, method = statistic) \n",
    "correl[correl < 0] = 0\n",
    "results.append(np.mean(correl))"
   ]
  },
  {
   "cell_type": "code",
   "execution_count": null,
   "metadata": {
    "collapsed": false,
    "jupyter": {
     "outputs_hidden": false
    },
    "pycharm": {
     "name": "#%%\n"
    }
   },
   "outputs": [],
   "source": [
    "predictors.append('all')\n",
    "y_pos = np.arange(len(predictors))"
   ]
  },
  {
   "cell_type": "code",
   "execution_count": null,
   "metadata": {
    "collapsed": false,
    "jupyter": {
     "outputs_hidden": false
    },
    "pycharm": {
     "name": "#%%\n"
    }
   },
   "outputs": [],
   "source": [
    "y_pos"
   ]
  },
  {
   "cell_type": "code",
   "execution_count": 37,
   "metadata": {},
   "outputs": [],
   "source": [
    "#Create barplot \n",
    "plt.bar(y_pos, results, color=['firebrick', 'gold', 'olivedrab', 'royalblue', 'cyan', 'salmon', 'slategray'])\n",
    "plt.xticks(y_pos, predictors)\n",
    "plt.xlabel('Predictor')\n",
    "plt.ylabel('Spearman r')\n",
    "plt.title('Prediction accuracy for plasma l')\n",
    "plt.show()"
   ]
  },
  {
   "cell_type": "code",
   "execution_count": 43,
   "metadata": {},
   "outputs": [],
   "source": [
    "predictors.append('all')\n",
    "y_pos = np.arange(len(predictors))"
   ]
  },
  {
   "cell_type": "code",
   "execution_count": 44,
   "metadata": {},
   "outputs": [
    {
     "data": {
      "text/plain": [
       "array([0, 1, 2, 3, 4, 5, 6])"
      ]
     },
     "execution_count": 44,
     "metadata": {},
     "output_type": "execute_result"
    }
   ],
   "source": [
    "y_pos"
   ]
  },
  {
   "cell_type": "code",
   "execution_count": 45,
   "metadata": {},
   "outputs": [
    {
     "data": {
      "image/png": "[encoded data removed]",
      "text/plain": [
       "<Figure size 432x288 with 1 Axes>"
      ]
     },
     "metadata": {
      "needs_background": "light"
     },
     "output_type": "display_data"
    }
   ],
   "source": [
    "#Create barplot \n",
    "plt.bar(y_pos, results, color=['firebrick', 'gold', 'olivedrab', 'royalblue', 'cyan', 'salmon', 'slategray'])\n",
    "plt.xticks(y_pos, predictors)\n",
    "plt.xlabel('Predictor')\n",
    "plt.ylabel('Spearman r')\n",
    "plt.title('Prediction accuracy for plasma l')\n",
    "plt.show()"
   ]
  },
  {
   "cell_type": "markdown",
   "metadata": {},
   "source": []
  },
  {
   "cell_type": "code",
   "execution_count": null,
   "metadata": {},
   "outputs": [],
   "source": []
  }
 ],
 "metadata": {
  "kernelspec": {
   "display_name": "Python 3",
   "language": "python",
   "name": "python3"
  },
  "language_info": {
   "codemirror_mode": {
    "name": "ipython",
    "version": 3
   },
   "file_extension": ".py",
   "mimetype": "text/x-python",
   "name": "python",
   "nbconvert_exporter": "python",
   "pygments_lexer": "ipython3",
   "version": "3.7.6"
  },
  "pycharm": {
   "stem_cell": {
    "cell_type": "raw",
    "metadata": {
     "collapsed": false
    },
    "source": []
   }
  }
 },
 "nbformat": 4,
 "nbformat_minor": 4
}
