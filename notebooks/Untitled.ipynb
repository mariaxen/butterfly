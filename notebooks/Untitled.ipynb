{
 "cells": [
  {
   "cell_type": "code",
   "execution_count": 2,
   "metadata": {},
   "outputs": [
    {
     "ename": "ERROR",
     "evalue": "Error in eval(expr, envir, enclos): object 'Xmx4g' not found\n",
     "output_type": "error",
     "traceback": [
      "Error in eval(expr, envir, enclos): object 'Xmx4g' not found\nTraceback:\n"
     ]
    }
   ],
   "source": [
    "-Xmx4g"
   ]
  },
  {
   "cell_type": "code",
   "execution_count": 2,
   "metadata": {},
   "outputs": [
    {
     "name": "stderr",
     "output_type": "stream",
     "text": [
      "Loading required package: usethis\n",
      "\n"
     ]
    }
   ],
   "source": [
    "library('devtools')"
   ]
  },
  {
   "cell_type": "code",
   "execution_count": 1,
   "metadata": {},
   "outputs": [
    {
     "name": "stderr",
     "output_type": "stream",
     "text": [
      "Downloading GitHub repo krlmlr/ulimit@master\n",
      "\n",
      "Warning message in system(cmd):\n",
      "“error in running command”\n",
      "Warning message in utils::untar(tarfile, ...):\n",
      "“‘/bin/gtar -xf '/tmp/RtmpVn6d44/file1b911255c67b5.tar.gz' -C '/tmp/RtmpVn6d44/remotes1b91114409fba'’ returned error code 127”\n"
     ]
    },
    {
     "ename": "ERROR",
     "evalue": "Error: Failed to install 'ulimit' from GitHub:\n  error in running command\n",
     "output_type": "error",
     "traceback": [
      "Error: Failed to install 'ulimit' from GitHub:\n  error in running command\nTraceback:\n",
      "1. devtools::install_github(\"krlmlr/ulimit\")",
      "2. pkgbuild::with_build_tools({\n .     ellipsis::check_dots_used(action = getOption(\"devtools.ellipsis_action\", \n .         rlang::warn))\n .     {\n .         remotes <- lapply(repo, github_remote, ref = ref, subdir = subdir, \n .             auth_token = auth_token, host = host)\n .         install_remotes(remotes, auth_token = auth_token, host = host, \n .             dependencies = dependencies, upgrade = upgrade, force = force, \n .             quiet = quiet, build = build, build_opts = build_opts, \n .             build_manual = build_manual, build_vignettes = build_vignettes, \n .             repos = repos, type = type, ...)\n .     }\n . }, required = FALSE)",
      "3. install_remotes(remotes, auth_token = auth_token, host = host, \n .     dependencies = dependencies, upgrade = upgrade, force = force, \n .     quiet = quiet, build = build, build_opts = build_opts, build_manual = build_manual, \n .     build_vignettes = build_vignettes, repos = repos, type = type, \n .     ...)",
      "4. tryCatch(res[[i]] <- install_remote(remotes[[i]], ...), error = function(e) {\n .     stop(remote_install_error(remotes[[i]], e))\n . })",
      "5. tryCatchList(expr, classes, parentenv, handlers)",
      "6. tryCatchOne(expr, names, parentenv, handlers[[1L]])",
      "7. value[[3L]](cond)"
     ]
    }
   ],
   "source": [
    "devtools::install_github(\"krlmlr/ulimit\")"
   ]
  },
  {
   "cell_type": "code",
   "execution_count": 8,
   "metadata": {},
   "outputs": [
    {
     "ename": "ERROR",
     "evalue": "Error in eval(expr, envir, enclos): object 'ulimit' not found\n",
     "output_type": "error",
     "traceback": [
      "Error in eval(expr, envir, enclos): object 'ulimit' not found\nTraceback:\n"
     ]
    }
   ],
   "source": []
  },
  {
   "cell_type": "code",
   "execution_count": 6,
   "metadata": {},
   "outputs": [
    {
     "name": "stderr",
     "output_type": "stream",
     "text": [
      "Warning message:\n",
      "“'memory.size()' is Windows-specific”\n"
     ]
    },
    {
     "data": {
      "text/html": [
       "Inf"
      ],
      "text/latex": [
       "Inf"
      ],
      "text/markdown": [
       "Inf"
      ],
      "text/plain": [
       "[1] Inf"
      ]
     },
     "metadata": {},
     "output_type": "display_data"
    }
   ],
   "source": [
    "memory.size(max = NA)"
   ]
  },
  {
   "cell_type": "code",
   "execution_count": 13,
   "metadata": {},
   "outputs": [],
   "source": [
    "groups = DF[,'patientID']"
   ]
  },
  {
   "cell_type": "code",
   "execution_count": 17,
   "metadata": {},
   "outputs": [],
   "source": [
    "predictor_index = 1"
   ]
  },
  {
   "cell_type": "code",
   "execution_count": 18,
   "metadata": {},
   "outputs": [
    {
     "ename": "ERROR",
     "evalue": "Error in eval(expr, envir, enclos): object 'groups_c' not found\n",
     "output_type": "error",
     "traceback": [
      "Error in eval(expr, envir, enclos): object 'groups_c' not found\nTraceback:\n"
     ]
    }
   ],
   "source": [
    "groups_c[predictor_index]"
   ]
  },
  {
   "cell_type": "code",
   "execution_count": null,
   "metadata": {},
   "outputs": [],
   "source": []
  },
  {
   "cell_type": "code",
   "execution_count": null,
   "metadata": {},
   "outputs": [],
   "source": []
  },
  {
   "cell_type": "code",
   "execution_count": null,
   "metadata": {},
   "outputs": [],
   "source": [
    "RLRF = function(DF, responses, predictor_index, feat_n, RF_predictor, folds, ntrees, type_model, type_input, groups_c,scaler){\n",
    "    \n",
    "    groups = DF[,'patientID']\n",
    "    \n",
    "    group_cols = groups_c[predictor_index]\n",
    "    \n",
    "    #Get your response dataset\n",
    "    response = responses[predictor_index]\n",
    "    response_df = DF[response]\n",
    "    y = response_df.values\n",
    "    \n",
    "    if scaler == True:\n",
    "        y = QuantileTransformer().fit_transform(y)\n",
    "    \n",
    "    y = y[:,feat_n]\n",
    "    \n",
    "    #Get your predictor dataset\n",
    "    if type_input == 'TSNE':\n",
    "        X = np.reshape(RF_predictor[predictor_index], (68,16384))\n",
    "    elif type_input == 'matrix':\n",
    "        X = RF_predictor[predictor_index]\n",
    "                \n",
    "    #############\n",
    "    \n",
    "    results = []\n",
    "    \n",
    "    y_prediction_train = []\n",
    "    y_observed_train = []\n",
    "\n",
    "    y_prediction_test = []\n",
    "    y_observed_test = []\n",
    "    \n",
    "    group_kfold = GroupKFold(n_splits=folds)\n",
    "    \n",
    "    for train_index, test_index in group_kfold.split(X, y, groups):\n",
    "        \n",
    "        X_train, X_test = X[train_index], X[test_index]\n",
    "        y_train, y_test = y[train_index], y[test_index]\n",
    "        \n",
    "\n",
    "        X_train_df = pd.DataFrame(X_train)\n",
    "        X_trainr = pandas2ri.py2ri(X_train_df)\n",
    "\n",
    "        X_test_df = pd.DataFrame(X_test)\n",
    "        X_testr = pandas2ri.py2ri(X_test_df)\n",
    "\n",
    "        y_trainr = robjects.FloatVector(y_train)\n",
    "\n",
    "        blocks = np.asarray(groups_c[predictor_index])\n",
    "        blocksr = robjects.FloatVector(blocks)\n",
    "            \n",
    "        if type_model == 'pcLasso':\n",
    "            \n",
    "            blocks_l = np.where(blocks[:-1] != blocks[1:])[0]\n",
    "            block_list = []\n",
    "            block_list.append(np.arange(blocks_l[0]+1))\n",
    "            for i in range(len(blocks_l)-1):\n",
    "                block_list.append(np.array(range(blocks_l[i]+1, blocks_l[i+1]+1)))\n",
    "                \n",
    "            blocksr = rpy2.robjects.ListVector([(str(i), x) for i, x in enumerate(block_list)])\n",
    "            \n",
    "            pcLasso =\"\"\"\n",
    "                function(X_trainr, X_testr, y_trainr, blocksr){\n",
    "                    library(pcLasso)         \n",
    "                    \n",
    "                    X_trainr = as.matrix(X_trainr) \n",
    "                    X_testr = as.matrix(X_testr) \n",
    "                    \n",
    "                    model <- cv.pcLasso(X_trainr, y_trainr, ratio = 0.8)\n",
    "                                        \n",
    "                    predictions <- predict(model, X_testr)\n",
    "                    predictions\n",
    "                }\"\"\"            \n",
    "            \n",
    "            rfunc=robjects.r(pcLasso)\n",
    "            \n",
    "        elif type_model == 'blockForest':\n",
    "            \n",
    "            blockForest =\"\"\"\n",
    "            function(X_trainr, X_testr, y_trainr, blocksr){\n",
    "                library(blockForest)\n",
    "                blocksr = list(blocksr)\n",
    "                forest_obj <- blockfor(X_trainr, y_trainr, num.trees = 100, replace = TRUE, blocks=blocksr, \n",
    "                nsets = 10, num.trees.pre = 50, splitrule=\"extratrees\",\n",
    "                                block.method = \"BlockForest\")\n",
    "                model <- forest_obj$forest\n",
    "                predictions <- predict(model, X_testr)\n",
    "                predictions$predictions\n",
    "            }\"\"\"\n",
    "            \n",
    "            rfunc=robjects.r(blockForest)\n",
    "            \n",
    "        y_pred_train = rfunc(X_trainr, X_trainr, y_trainr, blocksr)\n",
    "        y_pred_train = np.asarray(y_pred_train)\n",
    "\n",
    "        y_pred_test = rfunc(X_trainr, X_testr, y_trainr, blocksr)\n",
    "        y_pred_test = np.asarray(y_pred_test)\n",
    "                        \n",
    "        y_pred_train = pd.DataFrame(y_pred_train)\n",
    "        y_pred_test = pd.DataFrame(y_pred_test)\n",
    "\n",
    "        y_train = pd.DataFrame(y_train)\n",
    "        y_test  = pd.DataFrame(y_test)\n",
    "\n",
    "        y_prediction_train.append(y_pred_train)\n",
    "        y_observed_train.append(y_train)\n",
    "        y_prediction_test.append(y_pred_test)\n",
    "        y_observed_test.append(y_test)\n",
    "    \n",
    "    return pd.concat(y_prediction_train), pd.concat(y_observed_train), pd.concat(y_prediction_test),pd.concat(y_observed_test)}"
   ]
  },
  {
   "cell_type": "code",
   "execution_count": null,
   "metadata": {},
   "outputs": [],
   "source": []
  },
  {
   "cell_type": "code",
   "execution_count": 1,
   "metadata": {},
   "outputs": [
    {
     "name": "stderr",
     "output_type": "stream",
     "text": [
      "also installing the dependency ‘svd’\n",
      "\n",
      "\n",
      "Updating HTML index of packages in '.Library'\n",
      "\n",
      "Making 'packages.html' ...\n",
      " done\n",
      "\n",
      "also installing the dependency ‘RcppEigen’\n",
      "\n",
      "\n",
      "Updating HTML index of packages in '.Library'\n",
      "\n",
      "Making 'packages.html' ...\n",
      " done\n",
      "\n"
     ]
    }
   ],
   "source": [
    "install.packages('pcLasso')\n",
    "install.packages('blockForest')"
   ]
  },
  {
   "cell_type": "code",
   "execution_count": 2,
   "metadata": {},
   "outputs": [],
   "source": [
    "library('pcLasso')\n",
    "library('blockForest')"
   ]
  },
  {
   "cell_type": "code",
   "execution_count": 3,
   "metadata": {},
   "outputs": [],
   "source": [
    "#Import your data\n",
    "load('/home/mxenoc/workspace/butterfly/data/omics.RData')"
   ]
  },
  {
   "cell_type": "code",
   "execution_count": 11,
   "metadata": {},
   "outputs": [],
   "source": [
    "#Model\n",
    "folds = 10 #number of folds\n",
    "features = 1 #number of features to predict\n",
    "epochs = 200 #number of epochs\n",
    "optimiser = 'adam' #model optimiser\n",
    "loss = 'mse' #model loss\n",
    "ntrees = 100\n",
    "kernel_size = 2"
   ]
  },
  {
   "cell_type": "code",
   "execution_count": 10,
   "metadata": {},
   "outputs": [],
   "source": [
    "#Define the predictor datasets\n",
    "omics = c('rna', 'plasma_l', 'serum_l', 'microb', 'immune', 'metabol', 'plasma_s')"
   ]
  },
  {
   "cell_type": "code",
   "execution_count": 12,
   "metadata": {},
   "outputs": [],
   "source": [
    "n_samples = 40 #same as the number of responses"
   ]
  },
  {
   "cell_type": "code",
   "execution_count": null,
   "metadata": {},
   "outputs": [],
   "source": []
  },
  {
   "cell_type": "code",
   "execution_count": null,
   "metadata": {},
   "outputs": [],
   "source": []
  },
  {
   "cell_type": "code",
   "execution_count": null,
   "metadata": {},
   "outputs": [],
   "source": []
  }
 ],
 "metadata": {
  "kernelspec": {
   "display_name": "R",
   "language": "R",
   "name": "ir"
  },
  "language_info": {
   "codemirror_mode": "r",
   "file_extension": ".r",
   "mimetype": "text/x-r-source",
   "name": "R",
   "pygments_lexer": "r",
   "version": "3.6.1"
  }
 },
 "nbformat": 4,
 "nbformat_minor": 4
}
