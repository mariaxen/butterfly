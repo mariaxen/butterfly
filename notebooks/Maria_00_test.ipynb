{
 "cells": [
  {
   "cell_type": "markdown",
   "metadata": {},
   "source": [
    "# Create album"
   ]
  },
  {
   "cell_type": "code",
   "execution_count": 1,
   "metadata": {},
   "outputs": [],
   "source": [
    "import pyreadr\n",
    "\n",
    "DF = pyreadr.read_r('/Users/mxenoc/Desktop/workspace/butterfly/data/omics.RData')\n",
    "DF = DF[\"DF\"]"
   ]
  },
  {
   "cell_type": "code",
   "execution_count": 6,
   "metadata": {},
   "outputs": [],
   "source": [
    "import butterfly.album"
   ]
  },
  {
   "cell_type": "code",
   "execution_count": 9,
   "metadata": {},
   "outputs": [],
   "source": [
    "# Choose your responses, predictors, and size for the image\n",
    "predictor = 'plasma_s'\n",
    "response = 'plasma_l'\n",
    "pixels = 40"
   ]
  },
  {
   "cell_type": "code",
   "execution_count": 3,
   "metadata": {},
   "outputs": [],
   "source": [
    "album = butterfly.album.create_album(DF, predictor, pixels)"
   ]
  },
  {
   "cell_type": "code",
   "execution_count": 11,
   "metadata": {},
   "outputs": [],
   "source": [
    "import butterfly.CNN"
   ]
  },
  {
   "cell_type": "code",
   "execution_count": null,
   "metadata": {},
   "outputs": [],
   "source": [
    "#Decide which dataset you want to predict\n",
    "plasma_l   = [col for col in DF if col.startswith('plasma_l')]\n",
    "plasma_l.append(\"patientID\")\n",
    "plasma_l.append(\"trimester\")    \n",
    "plasma_l_df = DF[plasma_l]\n",
    "#Make sure your B trimesters are properly converted to 4\n",
    "#plasma_l_df['trimester'].unique()\n",
    "#plasma_l_df = plasma_l_df.transpose()\n",
    "\n",
    "#Get every combination of patient IDs in pairs of m's\n",
    "# Function which returns subset or r length from n \n",
    "from itertools import combinations \n",
    "\n",
    "m = 2\n",
    "IDs = plasma_l_df['patientID'].unique()\n",
    "IDs = IDs.tolist()\n",
    "exclude = list(combinations(IDs, m))\n",
    "\n",
    "#exclude = t(combn(unique(DFraw[[2]]$patient.ID), m))\n",
    "\n",
    "#Change the working directory\n",
    "os.chdir('/Users/Maria/Desktop/Stanford/Python')\n",
    "\n",
    "#Create the training dataset\n",
    "import PCA\n",
    "album = PCA.load_data()\n",
    "\n",
    "from joblib import Parallel, delayed\n",
    "import multiprocessing\n",
    "\n",
    "num_cores = multiprocessing.cpu_count()\n",
    "\n",
    "#results = Parallel(n_jobs=num_cores)(delayed(processInput)(i) for i in inputs)\n",
    "\n",
    "# choose a number of time steps\n",
    "# split into samples\n",
    "#X, y = split_sequence(raw_seq, n_steps)\n",
    "#XX = np.asarray(album)\n",
    "#XX = XX.tolist()\n",
    "\n",
    "#from 1 to len(exclude)\n",
    "cv = 0 \n",
    "\n",
    "XX = album\n",
    "yy = plasma_l_df['plasma_l1'].values\n",
    "\n",
    "for cv in range(len(exclude)):\n",
    "\n",
    "    pt1ex = plasma_l_df.index[plasma_l_df['patientID'] == exclude[cv][0]].tolist()\n",
    "    pt2ex = plasma_l_df.index[plasma_l_df['patientID'] == exclude[cv][1]].tolist()\n",
    "    ptex = pt1ex+pt2ex\n",
    "    \n",
    "    #Divide in calibration and validation\n",
    "    X_c = np.delete(XX, ptex, 0)\n",
    "    y_c = np.delete(yy, ptex, 0)\n",
    "    \n",
    "    X_v = [XX[i]  for i in ptex]\n",
    "    y_v = [yy[i] for i in ptex]\n",
    "    \n",
    "    # reshape from [samples, timesteps] into [samples, timesteps, features]\n",
    "    n_steps = 40\n",
    "    n_features = 40\n",
    "    #X = X.reshape((X.shape[0], X.shape[1], n_features))\n",
    "    # define model\n",
    "    model = Sequential()\n",
    "    model.add(Conv1D(filters=64, kernel_size=2, activation='relu', \n",
    "                     input_shape=(n_steps, n_features)))\n",
    "    model.add(MaxPooling1D(pool_size=2))\n",
    "    model.add(Flatten())\n",
    "    model.add(Dense(50, activation='relu'))\n",
    "    model.add(Dense(1))\n",
    "    model.compile(optimizer='adam', loss='mse')\n",
    "    # fit model\n",
    "    model.fit(X_c, y_c, epochs=1000, verbose=0)\n",
    "    \n",
    "    # demonstrate prediction\n",
    "    x_input = X_v[0]\n",
    "    x_input = x_input.reshape((1, n_steps, 1))\n",
    "    \n",
    "    \n",
    "    yhat = model.predict(x_input, verbose=0)\n",
    "    print(yhat)"
   ]
  },
  {
   "cell_type": "code",
   "execution_count": null,
   "metadata": {},
   "outputs": [],
   "source": [
    "\n"
   ]
  },
  {
   "cell_type": "code",
   "execution_count": 13,
   "metadata": {},
   "outputs": [],
   "source": [
    "y = x*8"
   ]
  },
  {
   "cell_type": "code",
   "execution_count": 15,
   "metadata": {},
   "outputs": [
    {
     "ename": "NameError",
     "evalue": "name 'np' is not defined",
     "output_type": "error",
     "traceback": [
      "\u001b[0;31m---------------------------------------------------------------------------\u001b[0m",
      "\u001b[0;31mNameError\u001b[0m                                 Traceback (most recent call last)",
      "\u001b[0;32m<ipython-input-15-90a9260de432>\u001b[0m in \u001b[0;36m<module>\u001b[0;34m\u001b[0m\n\u001b[0;32m----> 1\u001b[0;31m \u001b[0mnp\u001b[0m\u001b[0;34m.\u001b[0m\u001b[0mcor\u001b[0m\u001b[0;34m(\u001b[0m\u001b[0mx\u001b[0m\u001b[0;34m,\u001b[0m\u001b[0my\u001b[0m\u001b[0;34m)\u001b[0m\u001b[0;34m\u001b[0m\u001b[0;34m\u001b[0m\u001b[0m\n\u001b[0m",
      "\u001b[0;31mNameError\u001b[0m: name 'np' is not defined"
     ]
    }
   ],
   "source": [
    "np.cor(x,y)"
   ]
  },
  {
   "cell_type": "code",
   "execution_count": 13,
   "metadata": {},
   "outputs": [
    {
     "name": "stdout",
     "output_type": "stream",
     "text": [
      "(1.0, 0.0)\n",
      "(1.0, 0.0)\n"
     ]
    }
   ],
   "source": [
    "import numpy as np \n",
    "import scipy.stats\n",
    "\n",
    "a = np.array([1,2,3,4,5,6,7,8,9,10])\n",
    "b = np.array([2,4,6,8,10,12,14,16,18,20])\n",
    "b20 = b + 20\n",
    "print(scipy.stats.pearsonr(a, b))\n",
    "print(scipy.stats.pearsonr(a, b20))"
   ]
  },
  {
   "cell_type": "code",
   "execution_count": 4,
   "metadata": {},
   "outputs": [
    {
     "data": {
      "text/plain": [
       "array([0.04662735, 0.93231873, 0.30824045, 0.0369153 , 0.00351725,\n",
       "       0.60648621, 0.99135605, 0.45247013, 0.95917002, 0.18969357])"
      ]
     },
     "execution_count": 4,
     "metadata": {},
     "output_type": "execute_result"
    }
   ],
   "source": [
    "a"
   ]
  },
  {
   "cell_type": "code",
   "execution_count": 5,
   "metadata": {},
   "outputs": [
    {
     "data": {
      "text/plain": [
       "array([0.39028166, 0.16409361, 0.30366678, 0.35866473, 0.05093098,\n",
       "       0.40955674, 0.26773805, 0.25654017, 0.39211184, 0.89620065])"
      ]
     },
     "execution_count": 5,
     "metadata": {},
     "output_type": "execute_result"
    }
   ],
   "source": [
    "b"
   ]
  },
  {
   "cell_type": "code",
   "execution_count": 6,
   "metadata": {},
   "outputs": [
    {
     "data": {
      "text/plain": [
       "array([20.39028166, 20.16409361, 20.30366678, 20.35866473, 20.05093098,\n",
       "       20.40955674, 20.26773805, 20.25654017, 20.39211184, 20.89620065])"
      ]
     },
     "execution_count": 6,
     "metadata": {},
     "output_type": "execute_result"
    }
   ],
   "source": [
    "b20"
   ]
  },
  {
   "cell_type": "code",
   "execution_count": 14,
   "metadata": {},
   "outputs": [
    {
     "data": {
      "text/plain": [
       "<matplotlib.collections.PathCollection at 0x7f9d1069c710>"
      ]
     },
     "execution_count": 14,
     "metadata": {},
     "output_type": "execute_result"
    },
    {
     "data": {
      "image/png": "[encoded data removed]",
      "text/plain": [
       "<Figure size 432x288 with 1 Axes>"
      ]
     },
     "metadata": {
      "needs_background": "light"
     },
     "output_type": "display_data"
    }
   ],
   "source": [
    "import matplotlib.pyplot as plt\n",
    "\n",
    "plt.scatter(a,b)\n"
   ]
  },
  {
   "cell_type": "code",
   "execution_count": 15,
   "metadata": {},
   "outputs": [
    {
     "data": {
      "text/plain": [
       "<matplotlib.collections.PathCollection at 0x7f9d205f9890>"
      ]
     },
     "execution_count": 15,
     "metadata": {},
     "output_type": "execute_result"
    },
    {
     "data": {
      "image/png": "[encoded data removed]",
      "text/plain": [
       "<Figure size 432x288 with 1 Axes>"
      ]
     },
     "metadata": {
      "needs_background": "light"
     },
     "output_type": "display_data"
    }
   ],
   "source": [
    "plt.scatter(a,b20)\n",
    "\n"
   ]
  },
  {
   "cell_type": "code",
   "execution_count": null,
   "metadata": {},
   "outputs": [],
   "source": []
  }
 ],
 "metadata": {
  "kernelspec": {
   "display_name": "Python 3",
   "language": "python",
   "name": "python3"
  },
  "language_info": {
   "codemirror_mode": {
    "name": "ipython",
    "version": 3
   },
   "file_extension": ".py",
   "mimetype": "text/x-python",
   "name": "python",
   "nbconvert_exporter": "python",
   "pygments_lexer": "ipython3",
   "version": "3.7.6"
  },
  "toc-autonumbering": true,
  "toc-showmarkdowntxt": true
 },
 "nbformat": 4,
 "nbformat_minor": 4
}
