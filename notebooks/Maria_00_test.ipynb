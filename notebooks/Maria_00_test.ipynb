{
 "cells": [
  {
   "cell_type": "markdown",
   "metadata": {},
   "source": [
    "# Create album"
   ]
  },
  {
   "cell_type": "code",
   "execution_count": 1,
   "metadata": {},
   "outputs": [
    {
     "name": "stderr",
     "output_type": "stream",
     "text": [
      "Using TensorFlow backend.\n"
     ]
    }
   ],
   "source": [
    "from keras.models import Sequential\n",
    "from keras.layers import Dense\n",
    "from keras.layers import Flatten\n",
    "from keras.layers.convolutional import Conv1D\n",
    "from keras.layers.convolutional import MaxPooling1D\n",
    "from sklearn.preprocessing import StandardScaler\n",
    "from keras.models import Model\n",
    "from keras.layers import *    \n",
    "import os \n",
    "import pyreadr\n",
    "import numpy as np\n",
    "import pyreadr\n",
    "import pandas as pd"
   ]
  },
  {
   "cell_type": "code",
   "execution_count": 2,
   "metadata": {},
   "outputs": [],
   "source": [
    "DF = pyreadr.read_r('/Users/mxenoc/Desktop/workspace/butterfly/data/omics.RData')\n",
    "DF = DF[\"DF\"]"
   ]
  },
  {
   "cell_type": "code",
   "execution_count": 3,
   "metadata": {},
   "outputs": [],
   "source": [
    "import butterfly.album"
   ]
  },
  {
   "cell_type": "code",
   "execution_count": 4,
   "metadata": {},
   "outputs": [],
   "source": [
    "# Choose your responses, predictors, and size for the image\n",
    "predictor = 'serum_l'\n",
    "response = 'plasma_l'\n",
    "pixels = 40\n",
    "features = 62"
   ]
  },
  {
   "cell_type": "code",
   "execution_count": null,
   "metadata": {},
   "outputs": [],
   "source": [
    "album = butterfly.album.create_album(DF, predictor, pixels)"
   ]
  },
  {
   "cell_type": "code",
   "execution_count": null,
   "metadata": {},
   "outputs": [],
   "source": []
  },
  {
   "cell_type": "code",
   "execution_count": 335,
   "metadata": {},
   "outputs": [],
   "source": [
    "import butterfly.CNN"
   ]
  },
  {
   "cell_type": "code",
   "execution_count": 336,
   "metadata": {},
   "outputs": [],
   "source": [
    "#Decide which dataset you want to predict\n",
    "response = [col for col in DF if col.startswith(response)]\n",
    "response.append(\"patientID\")\n",
    "response.append(\"trimester\")    \n",
    "response_df = DF[response]\n",
    "#Make sure your B trimesters are properly converted to 4"
   ]
  },
  {
   "cell_type": "code",
   "execution_count": 337,
   "metadata": {},
   "outputs": [],
   "source": [
    "#Get every combination of patient IDs in pairs of m's\n",
    "# Function which returns subset or r length from n \n",
    "from itertools import combinations \n",
    "\n",
    "m = 2\n",
    "IDs = response_df['patientID'].unique()\n",
    "IDs = IDs.tolist()\n",
    "exclude = list(combinations(IDs, m))"
   ]
  },
  {
   "cell_type": "code",
   "execution_count": 338,
   "metadata": {},
   "outputs": [],
   "source": [
    "#from joblib import Parallel, delayed\n",
    "#import multiprocessing\n",
    "\n",
    "#num_cores = multiprocessing.cpu_count()\n",
    "\n",
    "#results = Parallel(n_jobs=num_cores)(delayed(processInput)(i) for i in inputs)"
   ]
  },
  {
   "cell_type": "code",
   "execution_count": 341,
   "metadata": {},
   "outputs": [],
   "source": [
    "XX = album\n",
    "yy = response_df.drop(['patientID', 'trimester'], axis =1 ).values"
   ]
  },
  {
   "cell_type": "code",
   "execution_count": null,
   "metadata": {},
   "outputs": [],
   "source": []
  },
  {
   "cell_type": "code",
   "execution_count": 320,
   "metadata": {},
   "outputs": [],
   "source": [
    "#for cv in range(len(exclude)):\n",
    "#Create your calibration and validation datasets\n",
    "pt1ex = response_df.index[response_df['patientID'] == exclude[cv][0]].tolist()\n",
    "pt2ex = response_df.index[response_df['patientID'] == exclude[cv][1]].tolist()\n",
    "ptex = pt1ex+pt2ex\n",
    "\n",
    "#Divide in calibration and validation\n",
    "X_c = np.delete(XX, ptex, 0)\n",
    "X_c = X_c.reshape((X_c.shape[0], X_c.shape[1], pixels))\n",
    "y_c = np.delete(yy, ptex, 0)\n",
    "y_c = pd.DataFrame(StandardScaler().fit_transform(y_c))\n",
    "\n",
    "X_v = np.asarray([XX[i]  for i in ptex])\n",
    "X_v = X_v.reshape((X_v.shape[0], X_v.shape[1], pixels))\n",
    "y_v = np.asarray([yy[i] for i in ptex])\n",
    "y_v = pd.DataFrame(StandardScaler().fit_transform(y_v))"
   ]
  },
  {
   "cell_type": "code",
   "execution_count": 321,
   "metadata": {},
   "outputs": [],
   "source": [
    "#Create your CNN\n",
    "model = Sequential()\n",
    "model.add(Conv1D(filters=64, kernel_size=2, activation='relu', input_shape=(pixels, pixels)))\n",
    "model.add(MaxPooling1D(pool_size=2))\n",
    "model.add(Flatten())\n",
    "model.add(Dense(50, activation='relu'))\n",
    "model.add(Dense(features))\n",
    "model.compile(optimizer='adam', loss='mse')"
   ]
  },
  {
   "cell_type": "code",
   "execution_count": 322,
   "metadata": {},
   "outputs": [
    {
     "data": {
      "text/plain": [
       "<keras.callbacks.callbacks.History at 0x7f9cf356bd10>"
      ]
     },
     "execution_count": 322,
     "metadata": {},
     "output_type": "execute_result"
    }
   ],
   "source": [
    "model.fit(X_c, y_c, epochs=3000, verbose=0)"
   ]
  },
  {
   "cell_type": "code",
   "execution_count": 283,
   "metadata": {},
   "outputs": [],
   "source": [
    "    # demonstrate prediction\n",
    "   # x_input = X_v\n",
    "  #  x_input = x_input.reshape((1, pixels, pixels))        \n",
    " #   y_pred = model.predict(x_input, verbose=0)\n",
    "\n",
    "\n",
    "#    cv.append()"
   ]
  },
  {
   "cell_type": "code",
   "execution_count": 323,
   "metadata": {},
   "outputs": [],
   "source": [
    "# demonstrate prediction\n",
    "y_pred = model.predict(X_v, verbose = 0)"
   ]
  },
  {
   "cell_type": "code",
   "execution_count": 324,
   "metadata": {},
   "outputs": [],
   "source": [
    "y_pred = pd.DataFrame(y_pred)"
   ]
  },
  {
   "cell_type": "code",
   "execution_count": 325,
   "metadata": {},
   "outputs": [],
   "source": [
    "diff = y_v-y_pred"
   ]
  },
  {
   "cell_type": "code",
   "execution_count": 326,
   "metadata": {},
   "outputs": [
    {
     "name": "stdout",
     "output_type": "stream",
     "text": [
      "         0         1         2         3         4         5         6   \\\n",
      "0 -1.189997  0.282872 -0.206189  0.201836  1.140724 -0.648441  0.065761   \n",
      "1 -1.022549 -0.512389 -1.074073 -0.009745  0.318854 -0.835739  0.314445   \n",
      "2 -0.766761 -1.551895 -0.033070 -0.286972 -0.523864 -0.876643  0.782067   \n",
      "3  1.908640  3.124434  3.425289  3.126978  3.419892  2.718077  1.833939   \n",
      "4  0.931456  0.666289 -0.671044  0.830256  0.106642  1.078831 -1.180568   \n",
      "5 -0.021089  0.336526 -1.065506 -0.209681 -0.667245  0.885574 -1.074900   \n",
      "6  0.004648 -1.282011  0.147353 -1.017366 -1.437006 -0.356602 -0.656882   \n",
      "7  1.197877 -1.313982 -1.015403 -1.206323 -0.800987 -0.394968  0.161126   \n",
      "\n",
      "         7         8         9   ...        52        53        54        55  \\\n",
      "0 -0.177157 -0.368692 -0.758671  ... -0.794712  2.098785  0.388825  0.504933   \n",
      "1  0.281636 -0.349362 -0.956931  ... -0.571744  1.013463 -0.416039 -0.810022   \n",
      "2  0.554702  0.142680 -1.283361  ... -1.127544 -0.412275 -1.355323 -0.862101   \n",
      "3  1.533923  1.480699  2.740830  ... -0.932825 -1.183963  3.770904  0.993963   \n",
      "4 -1.035920 -1.102291  1.054774  ...  1.049193  2.260453  0.428854  1.550286   \n",
      "5 -1.076524 -0.945145  0.989605  ...  1.482135  1.773261 -0.122344  1.183225   \n",
      "6 -1.724605 -0.186851 -0.751130  ...  2.518298 -1.106510 -1.461684 -0.669159   \n",
      "7  0.867134  1.271335 -0.439334  ...  0.691071 -3.953218 -1.494700 -1.200570   \n",
      "\n",
      "         56        57        58        59        60        61  \n",
      "0 -0.351444  0.446767  0.226717  0.811833 -0.193762 -0.187062  \n",
      "1 -0.467487 -0.567800  0.023020  1.341282  0.103357 -0.946952  \n",
      "2 -1.049630 -1.022072 -0.430114  1.911030 -2.173520  0.642072  \n",
      "3  3.016768  2.912487  0.345129  1.472682  3.068246  3.403213  \n",
      "4  0.884634 -0.085422  1.009492 -2.727832  0.899991 -1.055514  \n",
      "5  0.549250 -0.403701  0.755186 -2.529714  0.533212 -0.554448  \n",
      "6 -1.343877 -0.643254  1.496780  1.431508 -1.626479  1.475818  \n",
      "7 -0.656795 -0.694500 -0.730593 -0.624154 -0.796185  0.696388  \n",
      "\n",
      "[8 rows x 62 columns]\n"
     ]
    }
   ],
   "source": [
    "np.set_printoptions(suppress=True)\n",
    "print(diff)"
   ]
  },
  {
   "cell_type": "code",
   "execution_count": null,
   "metadata": {},
   "outputs": [],
   "source": []
  },
  {
   "cell_type": "code",
   "execution_count": 327,
   "metadata": {},
   "outputs": [],
   "source": [
    "corr = y_v.corrwith(y_pred, axis = 0).values"
   ]
  },
  {
   "cell_type": "code",
   "execution_count": null,
   "metadata": {},
   "outputs": [],
   "source": []
  },
  {
   "cell_type": "code",
   "execution_count": 328,
   "metadata": {},
   "outputs": [
    {
     "data": {
      "text/plain": [
       "0.12096306039079661"
      ]
     },
     "execution_count": 328,
     "metadata": {},
     "output_type": "execute_result"
    }
   ],
   "source": [
    "np.mean(corr.clip(min=0))"
   ]
  },
  {
   "cell_type": "code",
   "execution_count": null,
   "metadata": {},
   "outputs": [],
   "source": []
  }
 ],
 "metadata": {
  "kernelspec": {
   "display_name": "Python 3",
   "language": "python",
   "name": "python3"
  },
  "language_info": {
   "codemirror_mode": {
    "name": "ipython",
    "version": 3
   },
   "file_extension": ".py",
   "mimetype": "text/x-python",
   "name": "python",
   "nbconvert_exporter": "python",
   "pygments_lexer": "ipython3",
   "version": "3.7.6"
  },
  "toc-autonumbering": true,
  "toc-showmarkdowntxt": true
 },
 "nbformat": 4,
 "nbformat_minor": 4
}
