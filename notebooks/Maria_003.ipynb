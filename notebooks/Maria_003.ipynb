{
 "cells": [
  {
   "cell_type": "markdown",
   "source": [
    "# Create album"
   ],
   "metadata": {
    "collapsed": false
   }
  },
  {
   "cell_type": "code",
   "execution_count": null,
   "outputs": [],
   "source": [
    "from keras.models import Sequential\n",
    "from keras.layers import Dense\n",
    "from keras.layers import Flatten\n",
    "from keras.layers.convolutional import Conv1D\n",
    "from keras.layers.convolutional import MaxPooling1D\n",
    "from sklearn.preprocessing import StandardScaler\n",
    "from keras.models import Model\n",
    "from keras.layers import *    \n",
    "import os \n",
    "import pyreadr\n",
    "import numpy as np\n",
    "import pyreadr\n",
    "import pandas as pd\n",
    "import butterfly.album\n",
    "import butterfly.CNN\n",
    "from itertools import combinations \n",
    "import multiprocessing\n",
    "from joblib import Parallel, delayed"
   ],
   "metadata": {
    "collapsed": false,
    "pycharm": {
     "name": "#%%\n"
    }
   }
  },
  {
   "cell_type": "code",
   "execution_count": null,
   "outputs": [],
   "source": [
    "#Import the data\n",
    "DF = pyreadr.read_r('/Users/mxenoc/Desktop/workspace/butterfly/data/omics.RData')\n",
    "#DF = pyreadr.read_r('/home/mxenoc/workspace/butterfly/data/omics.RData')\n",
    "DF = DF[\"DF\"]"
   ],
   "metadata": {
    "collapsed": false,
    "pycharm": {
     "name": "#%%\n"
    }
   }
  },
  {
   "cell_type": "code",
   "execution_count": null,
   "outputs": [],
   "source": [
    "# Choose your predicted omics, size for the image and number of features we are predicting\n",
    "response = 'serum_l'\n",
    "pixels = 40\n",
    "features = 62\n",
    "\n",
    "response = [col for col in DF if col.startswith(response)]\n",
    "response.append(\"patientID\")\n",
    "response.append(\"trimester\")    \n",
    "response_df = DF[response]\n",
    "\n",
    "yy = response_df.drop(['patientID', 'trimester'], axis =1 ).values\n",
    "\n",
    "#Make sure your B trimesters are properly converted to 4"
   ],
   "metadata": {
    "collapsed": false,
    "pycharm": {
     "name": "#%%\n"
    }
   }
  },
  {
   "cell_type": "code",
   "execution_count": null,
   "outputs": [],
   "source": [
    "#Get every combination of patient IDs in pairs of m's\n",
    "# Function which returns subset or r length from n \n",
    "m = 2\n",
    "IDs = response_df['patientID'].unique()\n",
    "IDs = IDs.tolist()\n",
    "exclude = list(combinations(IDs, m))"
   ],
   "metadata": {
    "collapsed": false,
    "pycharm": {
     "name": "#%%\n"
    }
   }
  },
  {
   "cell_type": "code",
   "execution_count": null,
   "outputs": [],
   "source": [
    "predictors = ['rna', 'plasma_l', 'microb', 'immune', 'metabol', 'plasma_s']"
   ],
   "metadata": {
    "collapsed": false,
    "pycharm": {
     "name": "#%%\n"
    }
   }
  },
  {
   "cell_type": "code",
   "execution_count": null,
   "outputs": [],
   "source": [
    "album = Parallel(n_jobs=2, backend=\"threading\")(delayed(butterfly.album.create_album)(DF, predictors[al], pixels) for al in range(6))"
   ],
   "metadata": {
    "collapsed": false,
    "pycharm": {
     "name": "#%%\n"
    }
   }
  },
  {
   "cell_type": "code",
   "execution_count": null,
   "outputs": [],
   "source": [
    "yy = response_df.drop(['patientID', 'trimester'], axis =1 ).values\n",
    "prediction = []\n",
    "observed = []"
   ],
   "metadata": {
    "collapsed": false,
    "pycharm": {
     "name": "#%%\n"
    }
   }
  },
  {
   "cell_type": "code",
   "execution_count": null,
   "outputs": [],
   "source": [
    "prediction, observed = Parallel(n_jobs=3, backend=\"threading\")(delayed(butterfly.CNN.model)\n",
    "                                                               (response_df, exclude, cv, album, pixels) \n",
    "                                                               for cv in range(len(exclude)))"
   ],
   "metadata": {
    "collapsed": false,
    "pycharm": {
     "name": "#%%\n"
    }
   }
  }
 ],
 "metadata": {
  "kernelspec": {
   "display_name": "Python 3",
   "language": "python",
   "name": "python3"
  },
  "language_info": {
   "codemirror_mode": {
    "name": "ipython",
    "version": 3
   },
   "file_extension": ".py",
   "mimetype": "text/x-python",
   "name": "python",
   "nbconvert_exporter": "python",
   "pygments_lexer": "ipython3",
   "version": "3.7.6"
  },
  "pycharm": {
   "stem_cell": {
    "cell_type": "raw",
    "source": [],
    "metadata": {
     "collapsed": false
    }
   }
  },
  "toc-autonumbering": true,
  "toc-showmarkdowntxt": true
 },
 "nbformat": 4,
 "nbformat_minor": 4
}