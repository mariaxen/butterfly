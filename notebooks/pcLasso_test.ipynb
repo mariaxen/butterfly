{
 "cells": [
  {
   "cell_type": "code",
   "execution_count": 34,
   "metadata": {},
   "outputs": [],
   "source": [
    "all = 60000*64"
   ]
  },
  {
   "cell_type": "code",
   "execution_count": 35,
   "metadata": {},
   "outputs": [
    {
     "data": {
      "text/html": [
       "3840000"
      ],
      "text/latex": [
       "3840000"
      ],
      "text/markdown": [
       "3840000"
      ],
      "text/plain": [
       "[1] 3840000"
      ]
     },
     "metadata": {},
     "output_type": "display_data"
    }
   ],
   "source": [
    "all"
   ]
  },
  {
   "cell_type": "code",
   "execution_count": 36,
   "metadata": {},
   "outputs": [],
   "source": [
    "X_train = matrix(rexp(all, rate=.1), ncol=60000)"
   ]
  },
  {
   "cell_type": "code",
   "execution_count": 37,
   "metadata": {},
   "outputs": [
    {
     "data": {
      "text/html": [
       "64"
      ],
      "text/latex": [
       "64"
      ],
      "text/markdown": [
       "64"
      ],
      "text/plain": [
       "[1] 64"
      ]
     },
     "metadata": {},
     "output_type": "display_data"
    }
   ],
   "source": [
    "nrow(X_train)"
   ]
  },
  {
   "cell_type": "code",
   "execution_count": 38,
   "metadata": {},
   "outputs": [],
   "source": [
    "y_train = runif(64, 0.0, 1.0)"
   ]
  },
  {
   "cell_type": "code",
   "execution_count": 39,
   "metadata": {},
   "outputs": [
    {
     "data": {
      "text/html": [
       "64"
      ],
      "text/latex": [
       "64"
      ],
      "text/markdown": [
       "64"
      ],
      "text/plain": [
       "[1] 64"
      ]
     },
     "metadata": {},
     "output_type": "display_data"
    }
   ],
   "source": [
    "length(y_train)"
   ]
  },
  {
   "cell_type": "code",
   "execution_count": 40,
   "metadata": {},
   "outputs": [],
   "source": [
    "library(pcLasso)"
   ]
  },
  {
   "cell_type": "code",
   "execution_count": 41,
   "metadata": {},
   "outputs": [
    {
     "ename": "ERROR",
     "evalue": "Error in pcLassof(x, y, w, mg, aa, ulam, theta, ngroups, thr = thr, maxit = maxit, : long vectors (argument 9) are not supported in .Fortran\n",
     "output_type": "error",
     "traceback": [
      "Error in pcLassof(x, y, w, mg, aa, ulam, theta, ngroups, thr = thr, maxit = maxit, : long vectors (argument 9) are not supported in .Fortran\nTraceback:\n",
      "1. cv.pcLasso(X_train, y_train, ratio = 0.8, nfolds = 5)",
      "2. pcLasso(x, y, groups = groups, ratio = ratio, theta = theta, \n .     family = family, ...)",
      "3. pcLassof(x, y, w, mg, aa, ulam, theta, ngroups, thr = thr, maxit = maxit, \n .     family = family, verbose = verbose)"
     ]
    }
   ],
   "source": [
    "cv.pcLasso(X_train, y_train, ratio=0.8, nfolds = 5)"
   ]
  },
  {
   "cell_type": "code",
   "execution_count": null,
   "metadata": {},
   "outputs": [],
   "source": []
  }
 ],
 "metadata": {
  "kernelspec": {
   "display_name": "R",
   "language": "R",
   "name": "ir"
  },
  "language_info": {
   "codemirror_mode": "r",
   "file_extension": ".r",
   "mimetype": "text/x-r-source",
   "name": "R",
   "pygments_lexer": "r",
   "version": "3.6.1"
  }
 },
 "nbformat": 4,
 "nbformat_minor": 4
}
