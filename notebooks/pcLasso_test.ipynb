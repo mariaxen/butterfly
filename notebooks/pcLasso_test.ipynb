{
 "cells": [
  {
   "cell_type": "code",
   "execution_count": null,
   "outputs": [],
   "source": [
    "all_train = 5000*64"
   ],
   "metadata": {
    "collapsed": false,
    "pycharm": {
     "name": "#%%\n"
    }
   }
  },
  {
   "cell_type": "code",
   "execution_count": null,
   "outputs": [],
   "source": [
    "all_test = 5000*4"
   ],
   "metadata": {
    "collapsed": false,
    "pycharm": {
     "name": "#%%\n"
    }
   }
  },
  {
   "cell_type": "code",
   "execution_count": null,
   "outputs": [],
   "source": [
    "X_train = matrix(rexp(all_train, rate=.1), ncol=5000)"
   ],
   "metadata": {
    "collapsed": false,
    "pycharm": {
     "name": "#%%\n"
    }
   }
  },
  {
   "cell_type": "code",
   "execution_count": null,
   "outputs": [],
   "source": [
    "X_test = matrix(rexp(all_test, rate=.1), ncol=5000)"
   ],
   "metadata": {
    "collapsed": false,
    "pycharm": {
     "name": "#%%\n"
    }
   }
  },
  {
   "cell_type": "code",
   "execution_count": null,
   "outputs": [],
   "source": [
    "y_train = runif(64, 0.0, 1.0)"
   ],
   "metadata": {
    "collapsed": false,
    "pycharm": {
     "name": "#%%\n"
    }
   }
  },
  {
   "cell_type": "code",
   "execution_count": null,
   "outputs": [],
   "source": [
    "length(y_train)"
   ],
   "metadata": {
    "collapsed": false,
    "pycharm": {
     "name": "#%%\n"
    }
   }
  },
  {
   "cell_type": "code",
   "execution_count": null,
   "outputs": [],
   "source": [
    "nrow(X_train)"
   ],
   "metadata": {
    "collapsed": false,
    "pycharm": {
     "name": "#%%\n"
    }
   }
  },
  {
   "cell_type": "code",
   "execution_count": null,
   "outputs": [],
   "source": [
    "nrow(X_test)"
   ],
   "metadata": {
    "collapsed": false,
    "pycharm": {
     "name": "#%%\n"
    }
   }
  },
  {
   "cell_type": "code",
   "execution_count": null,
   "outputs": [],
   "source": [
    "install.packages('blockForest')\n",
    "library(pcLasso)\n",
    "library(blockForest)"
   ],
   "metadata": {
    "collapsed": false,
    "pycharm": {
     "name": "#%%\n"
    }
   }
  },
  {
   "cell_type": "code",
   "execution_count": null,
   "outputs": [],
   "source": [
    "groups = list()\n",
    "groups[[1]] <- c(1:1000)\n",
    "groups[[2]] <- c(1001:5000)"
   ],
   "metadata": {
    "collapsed": false,
    "pycharm": {
     "name": "#%%\n"
    }
   }
  },
  {
   "cell_type": "code",
   "execution_count": null,
   "outputs": [],
   "source": [
    "colnames(X_train) <- paste(\"X\", 1:ncol(X_train), sep=\"\")"
   ],
   "metadata": {
    "collapsed": false,
    "pycharm": {
     "name": "#%%\n"
    }
   }
  },
  {
   "cell_type": "code",
   "execution_count": null,
   "outputs": [],
   "source": [
    "colnames(X_test) <- paste(\"X\", 1:ncol(X_test), sep=\"\")"
   ],
   "metadata": {
    "collapsed": false,
    "pycharm": {
     "name": "#%%\n"
    }
   }
  },
  {
   "cell_type": "code",
   "execution_count": null,
   "outputs": [],
   "source": [
    "forest_obj <- blockfor(X_train, y_train, num.trees = 100, replace = TRUE, blocks = groups,\n",
    "                       nsets = 10, num.trees.pre = 50, splitrule=\"extratrees\", \n",
    "                       block.method = \"BlockForest\")"
   ],
   "metadata": {
    "collapsed": false,
    "pycharm": {
     "name": "#%%\n"
    }
   }
  },
  {
   "cell_type": "code",
   "execution_count": null,
   "outputs": [],
   "source": [
    "prd <- predict(forest_obj$forest, X_test, block.method = \"BlockForest\")"
   ],
   "metadata": {
    "collapsed": false,
    "pycharm": {
     "name": "#%%\n"
    }
   }
  },
  {
   "cell_type": "code",
   "execution_count": null,
   "outputs": [],
   "source": [
    "predictions(prd)"
   ],
   "metadata": {
    "collapsed": false,
    "pycharm": {
     "name": "#%%\n"
    }
   }
  },
  {
   "cell_type": "code",
   "execution_count": null,
   "outputs": [],
   "source": [],
   "metadata": {
    "collapsed": false,
    "pycharm": {
     "name": "#%%\n"
    }
   }
  },
  {
   "cell_type": "code",
   "execution_count": null,
   "outputs": [],
   "source": [
    "X <- cbind(matrix(nrow=40, ncol=5, data=rnorm(40*5)),\n",
    "           matrix(nrow=40, ncol=30, data=rnorm(40*30, mean=1, sd=2)),\n",
    "matrix(nrow=40, ncol=100, data=rnorm(40*100, mean=2, sd=3))) \n",
    "\n",
    "colnames(X) <- paste(\"X\", 1:ncol(X), sep=\"\")\n",
    "\n",
    "# Survival outcome:\n",
    "ysurv <- rnorm(40)\n",
    "# Divide in training and test data:\n",
    "Xtrain <- X[1:30,] \n",
    "ysurvtrain <- ysurv[1:30] \n"
   ],
   "metadata": {
    "collapsed": false,
    "pycharm": {
     "name": "#%%\n"
    }
   }
  },
  {
   "cell_type": "code",
   "execution_count": null,
   "outputs": [],
   "source": [],
   "metadata": {
    "collapsed": false,
    "pycharm": {
     "name": "#%%\n"
    }
   }
  },
  {
   "cell_type": "code",
   "execution_count": null,
   "outputs": [],
   "source": [
    "X_train"
   ],
   "metadata": {
    "collapsed": false,
    "pycharm": {
     "name": "#%%\n"
    }
   }
  },
  {
   "cell_type": "code",
   "execution_count": null,
   "outputs": [],
   "source": [],
   "metadata": {
    "collapsed": false,
    "pycharm": {
     "name": "#%%\n"
    }
   }
  },
  {
   "cell_type": "code",
   "execution_count": null,
   "outputs": [],
   "source": [
    "blockforobj <- blockfor(Xtrain, ysurvtrain, num.trees = 100, replace = TRUE, block=groups, \n",
    "                        nsets = 10, num.trees.pre = 50, splitrule=\"extratrees\",\n",
    "                        block.method = \"BlockForest\")"
   ],
   "metadata": {
    "collapsed": false,
    "pycharm": {
     "name": "#%%\n"
    }
   }
  },
  {
   "cell_type": "code",
   "execution_count": null,
   "outputs": [],
   "source": [
    "ncol(Xtrain)"
   ],
   "metadata": {
    "collapsed": false,
    "pycharm": {
     "name": "#%%\n"
    }
   }
  },
  {
   "cell_type": "code",
   "execution_count": null,
   "outputs": [],
   "source": [
    "predres <- predict(blockforobj$forest, Xtrain, block.method = \"BlockForest\")"
   ],
   "metadata": {
    "collapsed": false,
    "pycharm": {
     "name": "#%%\n"
    }
   }
  },
  {
   "cell_type": "code",
   "execution_count": null,
   "outputs": [],
   "source": [
    "predres"
   ],
   "metadata": {
    "collapsed": false,
    "pycharm": {
     "name": "#%%\n"
    }
   }
  },
  {
   "cell_type": "code",
   "execution_count": null,
   "outputs": [],
   "source": [],
   "metadata": {
    "collapsed": false,
    "pycharm": {
     "name": "#%%\n"
    }
   }
  },
  {
   "cell_type": "code",
   "execution_count": null,
   "outputs": [],
   "source": [],
   "metadata": {
    "collapsed": false,
    "pycharm": {
     "name": "#%%\n"
    }
   }
  },
  {
   "cell_type": "code",
   "execution_count": null,
   "outputs": [],
   "source": [],
   "metadata": {
    "collapsed": false,
    "pycharm": {
     "name": "#%%\n"
    }
   }
  },
  {
   "cell_type": "code",
   "execution_count": null,
   "outputs": [],
   "source": [],
   "metadata": {
    "collapsed": false,
    "pycharm": {
     "name": "#%%\n"
    }
   }
  },
  {
   "cell_type": "code",
   "execution_count": null,
   "outputs": [],
   "source": [],
   "metadata": {
    "collapsed": false,
    "pycharm": {
     "name": "#%%\n"
    }
   }
  },
  {
   "cell_type": "code",
   "execution_count": null,
   "outputs": [],
   "source": [],
   "metadata": {
    "collapsed": false,
    "pycharm": {
     "name": "#%%\n"
    }
   }
  },
  {
   "cell_type": "code",
   "execution_count": null,
   "outputs": [],
   "source": [
    "pcLasso(X_train, y_train, groups = groups, ratio=0.8)"
   ],
   "metadata": {
    "collapsed": false,
    "pycharm": {
     "name": "#%%\n"
    }
   }
  },
  {
   "cell_type": "code",
   "execution_count": null,
   "outputs": [],
   "source": [
    "print('maria')"
   ],
   "metadata": {
    "collapsed": false,
    "pycharm": {
     "name": "#%%\n"
    }
   }
  },
  {
   "cell_type": "code",
   "execution_count": null,
   "outputs": [],
   "source": [
    "x = X_train\n",
    "y= y_train\n",
    "w = rep(1,length(y))\n",
    "family = \"gaussian\"\n",
    "ratio = 0.8\n",
    "theta = NULL\n",
    "groups = vector(\"list\", 1)\n",
    "lambda.min.ratio = ifelse(nrow(x) < ncol(x), 0.01, 1e-04)\n",
    "nlam = 100\n",
    "lambda = NULL\n",
    "standardize = F\n",
    "SVD_info = NULL\n",
    "nv = NULL\n",
    "propack = T\n",
    "thr = 1e-4\n",
    "maxit = 1e5\n",
    "verbose=FALSE"
   ],
   "metadata": {
    "collapsed": false,
    "pycharm": {
     "name": "#%%\n"
    }
   }
  },
  {
   "cell_type": "code",
   "execution_count": null,
   "outputs": [],
   "source": [
    "groups = list()\n",
    "groups[[1]] <- c(1:25000)\n",
    "groups[[2]] <- c(25001:50000)"
   ],
   "metadata": {
    "collapsed": false,
    "pycharm": {
     "name": "#%%\n"
    }
   }
  },
  {
   "cell_type": "code",
   "execution_count": null,
   "outputs": [],
   "source": [],
   "metadata": {
    "collapsed": false,
    "pycharm": {
     "name": "#%%\n"
    }
   }
  },
  {
   "cell_type": "code",
   "execution_count": null,
   "outputs": [],
   "source": [],
   "metadata": {
    "collapsed": false,
    "pycharm": {
     "name": "#%%\n"
    }
   }
  },
  {
   "cell_type": "code",
   "execution_count": null,
   "outputs": [],
   "source": [
    "    ngroups <- length(groups)\n",
    "\n"
   ],
   "metadata": {
    "collapsed": false,
    "pycharm": {
     "name": "#%%\n"
    }
   }
  },
  {
   "cell_type": "code",
   "execution_count": null,
   "outputs": [],
   "source": [
    "    sizes <- unlist(lapply(groups, length))"
   ],
   "metadata": {
    "collapsed": false,
    "pycharm": {
     "name": "#%%\n"
    }
   }
  },
  {
   "cell_type": "code",
   "execution_count": null,
   "outputs": [],
   "source": [
    "ngroups"
   ],
   "metadata": {
    "collapsed": false,
    "pycharm": {
     "name": "#%%\n"
    }
   }
  },
  {
   "cell_type": "code",
   "execution_count": null,
   "outputs": [],
   "source": [
    "p"
   ],
   "metadata": {
    "collapsed": false,
    "pycharm": {
     "name": "#%%\n"
    }
   }
  },
  {
   "cell_type": "code",
   "execution_count": null,
   "outputs": [],
   "source": [
    "length(unique(unlist(groups)))"
   ],
   "metadata": {
    "collapsed": false,
    "pycharm": {
     "name": "#%%\n"
    }
   }
  },
  {
   "cell_type": "code",
   "execution_count": null,
   "outputs": [],
   "source": [
    "    n <- nrow(x)\n",
    "    p <- ncol(x)\n",
    "    y <- as.vector(y)\n",
    "\n",
    "    # check that each feature appears in some group\n",
    "    if (length(groups) == 1) groups[[1]] <- 1:p\n",
    "    if (length(unique(unlist(groups))) < p) {\n",
    "        stop(\"Some features not assigned to a group\")\n",
    "    }\n",
    "    ngroups <- length(groups)\n",
    "    sizes <- unlist(lapply(groups, length))\n",
    "    overlap <- F\n",
    "    origx <- x\n",
    "    origmx <- colMeans(x)\n",
    "    origp <- ncol(x)\n",
    "    origgroups <- groups"
   ],
   "metadata": {
    "collapsed": false,
    "pycharm": {
     "name": "#%%\n"
    }
   }
  },
  {
   "cell_type": "code",
   "execution_count": null,
   "outputs": [],
   "source": [
    "   if (length(origgroups) > 1) {\n",
    "        nc <- length(unlist(origgroups))\n",
    "        if (nc > p) {   # there is overlap\n",
    "            groups <- vector(\"list\", length(origgroups))\n",
    "            overlap <- T\n",
    "            x <- matrix(NA, n, nc)\n",
    "            i1 <- 1\n",
    "            for(k in 1:ngroups) {\n",
    "                i2 <- i1 + length(origgroups[[k]]) - 1\n",
    "                x[, i1:i2] <- origx[, origgroups[[k]]]\n",
    "                groups[[k]] <- i1:i2\n",
    "                i1 <- i2 + 1\n",
    "            }\n",
    "        }\n",
    "        p <- ncol(x)\n",
    "    }"
   ],
   "metadata": {
    "collapsed": false,
    "pycharm": {
     "name": "#%%\n"
    }
   }
  },
  {
   "cell_type": "code",
   "execution_count": null,
   "outputs": [],
   "source": [
    "    # scale x and y\n",
    "    mx <- colMeans(x)\n",
    "    if (standardize) {\n",
    "        sx <- apply(x, 2, sd) * sqrt((n-1) / n)\n",
    "    } else {\n",
    "        sx <- rep(1, ncol(x))\n",
    "    }\n",
    "    x <- scale(x, mx, sx)\n",
    "\n",
    "    my <- NA\n",
    "    if (family == \"gaussian\") {\n",
    "        my <- mean(y)\n",
    "        y <- y - my\n",
    "    }\n"
   ],
   "metadata": {
    "collapsed": false,
    "pycharm": {
     "name": "#%%\n"
    }
   }
  },
  {
   "cell_type": "code",
   "execution_count": null,
   "outputs": [],
   "source": [
    "v = d = dd = vector(\"list\", ngroups)"
   ],
   "metadata": {
    "collapsed": false,
    "pycharm": {
     "name": "#%%\n"
    }
   }
  },
  {
   "cell_type": "code",
   "execution_count": null,
   "outputs": [],
   "source": [
    "        for (k in 1:ngroups) {\n",
    "            nvv <- nv\n",
    "            if (is.null(nv)) {\n",
    "                nvv <- min(nrow(x[, groups[[k]], drop = F]),\n",
    "                           ncol(x[, groups[[k]], drop = F]))\n",
    "            }\n",
    "            if (nrow(x) > length(groups[[k]])) {\n",
    "                xtemp <- t(x[, groups[[k]]]) %*% x[, groups[[k]]]\n",
    "                eig <- eigen(xtemp)\n",
    "                v[[k]] <- eig$vec\n",
    "                d[[k]] <- eig$val\n",
    "                dd[[k]] <- max(d[[k]]) - d[[k]] + .01\n",
    "            }\n",
    "            else {\n",
    "                if (propack) {\n",
    "                    sv <- svd::propack.svd(x[, groups[[k]], drop = F],\n",
    "                                           neig = nvv)\n",
    "                } else {\n",
    "                    sv <- svd(x[, groups[[k]], drop = F], nv = nvv)\n",
    "                }\n",
    "                v[[k]] <- sv$v\n",
    "                d[[k]] <- sv$d^2\n",
    "                dd[[k]] <-  max(d[[k]]) - d[[k]] + .01\n",
    "            }\n",
    "            }"
   ],
   "metadata": {
    "collapsed": false,
    "pycharm": {
     "name": "#%%\n"
    }
   }
  },
  {
   "cell_type": "code",
   "execution_count": null,
   "outputs": [],
   "source": [
    "        thetanew <- rep(NA, ngroups)\n",
    "        for (k in 1:ngroups) {\n",
    "            thetanew[k] <- d[[k]][2] * (1 - ratio) / (ratio * (d[[k]][1] - d[[k]][2]))\n",
    "        }\n",
    "        theta <- mean(thetanew)\n",
    "\n"
   ],
   "metadata": {
    "collapsed": false,
    "pycharm": {
     "name": "#%%\n"
    }
   }
  },
  {
   "cell_type": "code",
   "execution_count": null,
   "outputs": [],
   "source": [
    "        aa <- matrix(0, p, max(sizes))\n",
    "        i1 <- 1\n",
    "\n"
   ],
   "metadata": {
    "collapsed": false,
    "pycharm": {
     "name": "#%%\n"
    }
   }
  },
  {
   "cell_type": "code",
   "execution_count": null,
   "outputs": [],
   "source": [
    "p"
   ],
   "metadata": {
    "collapsed": false,
    "pycharm": {
     "name": "#%%\n"
    }
   }
  },
  {
   "cell_type": "code",
   "execution_count": null,
   "outputs": [],
   "source": [
    "max(sizes)"
   ],
   "metadata": {
    "collapsed": false,
    "pycharm": {
     "name": "#%%\n"
    }
   }
  },
  {
   "cell_type": "code",
   "execution_count": null,
   "outputs": [],
   "source": [
    "        for(k in 1:ngroups) {\n",
    "            i2 <- i1 + sizes[k] - 1\n",
    "            aa[i1:i2, 1:sizes[k]] <- scale(v[[k]], FALSE, 1/(dd[[k]])) %*% t(v[[k]])\n",
    "            i1 <- i2 + 1\n",
    "        }"
   ],
   "metadata": {
    "collapsed": false,
    "pycharm": {
     "name": "#%%\n"
    }
   }
  },
  {
   "cell_type": "code",
   "execution_count": null,
   "outputs": [],
   "source": [
    "length(aa)"
   ],
   "metadata": {
    "collapsed": false,
    "pycharm": {
     "name": "#%%\n"
    }
   }
  },
  {
   "cell_type": "code",
   "execution_count": null,
   "outputs": [],
   "source": [
    "50*2"
   ],
   "metadata": {
    "collapsed": false,
    "pycharm": {
     "name": "#%%\n"
    }
   }
  },
  {
   "cell_type": "code",
   "execution_count": null,
   "outputs": [],
   "source": [
    "\n",
    "    # if SVD_info not provided, compute the VD_{d1^2 - dj^2}V^T matrices for each group\n",
    "    # and concatenate row-wise\n",
    "\n",
    "    # compute mg: vector of length length(sizes)+1. Denotes the number for the\n",
    "    # first feature in group k, with an additional last entry = p + 1.\n",
    "    i1 <- 1\n",
    "    mg <- c(1, cumsum(sizes) + 1)\n",
    "\n",
    "    # get lambda sequence\n",
    "    ulam <- lambda * n   # we need this multiplication by n because documentation has RSS/(2n),\n",
    "                         # but fortran code assumes RSS/2\n",
    "    if (is.null(lambda)) {\n",
    "        maxlam <- max(abs(t(x) %*% (y - mean(y))))\n",
    "        if (family == \"binomial\") {\n",
    "            maxlam <- 4 * maxlam\n",
    "        }\n",
    "        ulam <- exp(seq(log(maxlam), log(maxlam * lambda.min.ratio), length = nlam))\n",
    "    }\n",
    "    nlam <- length(ulam)\n"
   ],
   "metadata": {
    "collapsed": false,
    "pycharm": {
     "name": "#%%\n"
    }
   }
  },
  {
   "cell_type": "code",
   "execution_count": null,
   "outputs": [],
   "source": [
    "x, y, w, mg, aa, ulam, theta, ngroups, thr=thr, maxit=maxit,\n",
    "                    family=family, verbose=verbose"
   ],
   "metadata": {
    "collapsed": false,
    "pycharm": {
     "name": "#%%\n"
    }
   }
  },
  {
   "cell_type": "code",
   "execution_count": null,
   "outputs": [],
   "source": [],
   "metadata": {
    "collapsed": false,
    "pycharm": {
     "name": "#%%\n"
    }
   }
  }
 ],
 "metadata": {
  "kernelspec": {
   "display_name": "R",
   "language": "R",
   "name": "ir"
  },
  "language_info": {
   "codemirror_mode": "r",
   "file_extension": ".r",
   "mimetype": "text/x-r-source",
   "name": "R",
   "pygments_lexer": "r",
   "version": "3.6.1"
  },
  "pycharm": {
   "stem_cell": {
    "cell_type": "raw",
    "source": [],
    "metadata": {
     "collapsed": false
    }
   }
  }
 },
 "nbformat": 4,
 "nbformat_minor": 4
}