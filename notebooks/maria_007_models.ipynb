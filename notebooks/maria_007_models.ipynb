{
 "cells": [
  {
   "cell_type": "code",
   "execution_count": 480,
   "metadata": {},
   "outputs": [
    {
     "name": "stdout",
     "output_type": "stream",
     "text": [
      "The autoreload extension is already loaded. To reload it, use:\n",
      "  %reload_ext autoreload\n"
     ]
    }
   ],
   "source": [
    "%load_ext autoreload\n",
    "%autoreload 2\n",
    "\n",
    "from keras.models import Sequential\n",
    "from keras.layers import Dense\n",
    "from keras.layers import Flatten\n",
    "from keras.layers.convolutional import Conv1D\n",
    "from keras.layers.convolutional import MaxPooling1D\n",
    "from sklearn.preprocessing import StandardScaler\n",
    "from keras.models import Model\n",
    "from keras.layers import *    \n",
    "import os \n",
    "import pyreadr\n",
    "import numpy as np\n",
    "import pyreadr\n",
    "import pandas as pd\n",
    "import multiprocessing\n",
    "from joblib import Parallel, delayed\n",
    "import butterfly.album\n",
    "import butterfly.Models\n",
    "from itertools import combinations \n",
    "from joblib import parallel_backend\n",
    "import matplotlib.pyplot as plt\n",
    "from datetime import datetime\n",
    "from tqdm import tqdm\n",
    "from sklearn.metrics import r2_score\n",
    "import pickle\n",
    "from sklearn.model_selection import GroupKFold\n",
    "from random import sample\n",
    "from scipy import stats\n",
    "from sklearn.metrics import mean_absolute_error\n",
    "from collections import defaultdict\n",
    "import time\n",
    "from keras.applications.resnet50 import ResNet50\n",
    "from sklearn.dummy import DummyRegressor\n",
    "import random"
   ]
  },
  {
   "cell_type": "code",
   "execution_count": 481,
   "metadata": {},
   "outputs": [],
   "source": [
    "#Model\n",
    "folds = 10 #number of folds\n",
    "features = 1 #number of features to predict\n",
    "epochs = 200 #number of epochs\n",
    "optimiser = 'adam' #model optimiser\n",
    "loss = 'mse' #model loss\n",
    "ntrees = 100"
   ]
  },
  {
   "cell_type": "code",
   "execution_count": 482,
   "metadata": {},
   "outputs": [],
   "source": [
    "#Import your data\n",
    "#DF = pyreadr.read_r('/Users/mxenoc/Desktop/workspace/butterfly/data/omics.RData')\n",
    "DF = pyreadr.read_r('/home/mxenoc/workspace/butterfly/data/omics.RData')\n",
    "DF = DF[\"DF\"]"
   ]
  },
  {
   "cell_type": "code",
   "execution_count": 483,
   "metadata": {},
   "outputs": [],
   "source": [
    "#Define the predictor datasets\n",
    "omics = ['rna', 'plasma_l', 'serum_l', 'microb', 'immune', 'metabol', 'plasma_s']"
   ]
  },
  {
   "cell_type": "code",
   "execution_count": 549,
   "metadata": {},
   "outputs": [],
   "source": [
    "os.chdir('/home/mxenoc/workspace/butterfly/src/butterfly')"
   ]
  },
  {
   "cell_type": "code",
   "execution_count": 550,
   "metadata": {},
   "outputs": [],
   "source": [
    "with open('albums_all.pkl', 'rb') as f:\n",
    "    albums_all = pickle.load(f)"
   ]
  },
  {
   "cell_type": "code",
   "execution_count": 487,
   "metadata": {},
   "outputs": [],
   "source": [
    "with open('albums.pkl', 'rb') as f:\n",
    "    albums = pickle.load(f)"
   ]
  },
  {
   "cell_type": "code",
   "execution_count": 554,
   "metadata": {},
   "outputs": [],
   "source": [
    "os.chdir('/home/mxenoc/workspace/butterfly/notebooks')"
   ]
  },
  {
   "cell_type": "code",
   "execution_count": 555,
   "metadata": {},
   "outputs": [],
   "source": [
    "with open('RF_predictor.pkl', 'rb') as f:\n",
    "    RF_predictor = pickle.load(f)"
   ]
  },
  {
   "cell_type": "code",
   "execution_count": 492,
   "metadata": {},
   "outputs": [],
   "source": [
    "with open('responses_60.pkl', 'rb') as f:\n",
    "    responses = pickle.load(f)"
   ]
  },
  {
   "cell_type": "code",
   "execution_count": 493,
   "metadata": {},
   "outputs": [],
   "source": [
    "n_samples = 60 #same as the number of responses"
   ]
  },
  {
   "cell_type": "code",
   "execution_count": 494,
   "metadata": {},
   "outputs": [
    {
     "name": "stderr",
     "output_type": "stream",
     "text": [
      "\n",
      "  0%|          | 0/7 [00:00<?, ?it/s]\u001b[A\n",
      " 14%|█▍        | 1/7 [05:44<34:27, 344.53s/it]\u001b[A\n",
      " 29%|██▊       | 2/7 [11:12<28:18, 339.66s/it]\u001b[A/home/mxenoc/anaconda3/lib/python3.7/site-packages/joblib/externals/loky/process_executor.py:706: UserWarning: A worker stopped while some jobs were given to the executor. This can be caused by a too short worker timeout or by a memory leak.\n",
      "  \"timeout or by a memory leak.\", UserWarning\n",
      "\n",
      " 43%|████▎     | 3/7 [17:34<23:28, 352.20s/it]\u001b[A\n",
      " 57%|█████▋    | 4/7 [23:36<17:45, 355.33s/it]\u001b[A\n",
      " 71%|███████▏  | 5/7 [29:53<12:03, 361.84s/it]\u001b[A\n",
      " 86%|████████▌ | 6/7 [36:02<06:03, 363.77s/it]\u001b[A\n",
      "100%|██████████| 7/7 [42:42<00:00, 366.12s/it]\u001b[A\n"
     ]
    }
   ],
   "source": [
    "CNN = defaultdict(list)\n",
    "\n",
    "for predictor_index in tqdm(range(len(omics))):\n",
    "        \n",
    "    prediction_train, observed_train, prediction_test, observed_test = zip(*Parallel(n_jobs=n_samples)\n",
    "                           (delayed(butterfly.Models.CNN)(albums_all, DF, feat_n, predictor_index,  \n",
    "                            responses, 128, features, folds, epochs, optimiser, loss, 'CNN')for feat_n in range(n_samples)))\n",
    "        \n",
    "    CNN['prediction_train'].append(prediction_train)\n",
    "    CNN['observed_train'].append(observed_train)\n",
    "    CNN['prediction_test'].append(prediction_test)\n",
    "    CNN['observed_test'].append(observed_test)"
   ]
  },
  {
   "cell_type": "code",
   "execution_count": 495,
   "metadata": {},
   "outputs": [],
   "source": [
    "with open('CNN.pkl', 'wb') as f:  \n",
    "    pickle.dump(CNN, f)"
   ]
  },
  {
   "cell_type": "code",
   "execution_count": 700,
   "metadata": {},
   "outputs": [
    {
     "name": "stderr",
     "output_type": "stream",
     "text": [
      "\n",
      "\n",
      "\n",
      "  0%|          | 0/7 [00:00<?, ?it/s]\u001b[A\u001b[A\u001b[A"
     ]
    },
    {
     "ename": "KeyboardInterrupt",
     "evalue": "",
     "output_type": "error",
     "traceback": [
      "\u001b[0;31m---------------------------------------------------------------------------\u001b[0m",
      "\u001b[0;31mKeyboardInterrupt\u001b[0m                         Traceback (most recent call last)",
      "\u001b[0;32m~/anaconda3/lib/python3.7/site-packages/joblib/parallel.py\u001b[0m in \u001b[0;36mretrieve\u001b[0;34m(self)\u001b[0m\n\u001b[1;32m    832\u001b[0m                 \u001b[0;32mif\u001b[0m \u001b[0mgetattr\u001b[0m\u001b[0;34m(\u001b[0m\u001b[0mself\u001b[0m\u001b[0;34m.\u001b[0m\u001b[0m_backend\u001b[0m\u001b[0;34m,\u001b[0m \u001b[0;34m'supports_timeout'\u001b[0m\u001b[0;34m,\u001b[0m \u001b[0;32mFalse\u001b[0m\u001b[0;34m)\u001b[0m\u001b[0;34m:\u001b[0m\u001b[0;34m\u001b[0m\u001b[0;34m\u001b[0m\u001b[0m\n\u001b[0;32m--> 833\u001b[0;31m                     \u001b[0mself\u001b[0m\u001b[0;34m.\u001b[0m\u001b[0m_output\u001b[0m\u001b[0;34m.\u001b[0m\u001b[0mextend\u001b[0m\u001b[0;34m(\u001b[0m\u001b[0mjob\u001b[0m\u001b[0;34m.\u001b[0m\u001b[0mget\u001b[0m\u001b[0;34m(\u001b[0m\u001b[0mtimeout\u001b[0m\u001b[0;34m=\u001b[0m\u001b[0mself\u001b[0m\u001b[0;34m.\u001b[0m\u001b[0mtimeout\u001b[0m\u001b[0;34m)\u001b[0m\u001b[0;34m)\u001b[0m\u001b[0;34m\u001b[0m\u001b[0;34m\u001b[0m\u001b[0m\n\u001b[0m\u001b[1;32m    834\u001b[0m                 \u001b[0;32melse\u001b[0m\u001b[0;34m:\u001b[0m\u001b[0;34m\u001b[0m\u001b[0;34m\u001b[0m\u001b[0m\n",
      "\u001b[0;32m~/anaconda3/lib/python3.7/site-packages/joblib/_parallel_backends.py\u001b[0m in \u001b[0;36mwrap_future_result\u001b[0;34m(future, timeout)\u001b[0m\n\u001b[1;32m    520\u001b[0m         \u001b[0;32mtry\u001b[0m\u001b[0;34m:\u001b[0m\u001b[0;34m\u001b[0m\u001b[0;34m\u001b[0m\u001b[0m\n\u001b[0;32m--> 521\u001b[0;31m             \u001b[0;32mreturn\u001b[0m \u001b[0mfuture\u001b[0m\u001b[0;34m.\u001b[0m\u001b[0mresult\u001b[0m\u001b[0;34m(\u001b[0m\u001b[0mtimeout\u001b[0m\u001b[0;34m=\u001b[0m\u001b[0mtimeout\u001b[0m\u001b[0;34m)\u001b[0m\u001b[0;34m\u001b[0m\u001b[0;34m\u001b[0m\u001b[0m\n\u001b[0m\u001b[1;32m    522\u001b[0m         \u001b[0;32mexcept\u001b[0m \u001b[0mLokyTimeoutError\u001b[0m\u001b[0;34m:\u001b[0m\u001b[0;34m\u001b[0m\u001b[0;34m\u001b[0m\u001b[0m\n",
      "\u001b[0;32m~/anaconda3/lib/python3.7/concurrent/futures/_base.py\u001b[0m in \u001b[0;36mresult\u001b[0;34m(self, timeout)\u001b[0m\n\u001b[1;32m    429\u001b[0m \u001b[0;34m\u001b[0m\u001b[0m\n\u001b[0;32m--> 430\u001b[0;31m             \u001b[0mself\u001b[0m\u001b[0;34m.\u001b[0m\u001b[0m_condition\u001b[0m\u001b[0;34m.\u001b[0m\u001b[0mwait\u001b[0m\u001b[0;34m(\u001b[0m\u001b[0mtimeout\u001b[0m\u001b[0;34m)\u001b[0m\u001b[0;34m\u001b[0m\u001b[0;34m\u001b[0m\u001b[0m\n\u001b[0m\u001b[1;32m    431\u001b[0m \u001b[0;34m\u001b[0m\u001b[0m\n",
      "\u001b[0;32m~/anaconda3/lib/python3.7/threading.py\u001b[0m in \u001b[0;36mwait\u001b[0;34m(self, timeout)\u001b[0m\n\u001b[1;32m    295\u001b[0m             \u001b[0;32mif\u001b[0m \u001b[0mtimeout\u001b[0m \u001b[0;32mis\u001b[0m \u001b[0;32mNone\u001b[0m\u001b[0;34m:\u001b[0m\u001b[0;34m\u001b[0m\u001b[0;34m\u001b[0m\u001b[0m\n\u001b[0;32m--> 296\u001b[0;31m                 \u001b[0mwaiter\u001b[0m\u001b[0;34m.\u001b[0m\u001b[0macquire\u001b[0m\u001b[0;34m(\u001b[0m\u001b[0;34m)\u001b[0m\u001b[0;34m\u001b[0m\u001b[0;34m\u001b[0m\u001b[0m\n\u001b[0m\u001b[1;32m    297\u001b[0m                 \u001b[0mgotit\u001b[0m \u001b[0;34m=\u001b[0m \u001b[0;32mTrue\u001b[0m\u001b[0;34m\u001b[0m\u001b[0;34m\u001b[0m\u001b[0m\n",
      "\u001b[0;31mKeyboardInterrupt\u001b[0m: ",
      "\nDuring handling of the above exception, another exception occurred:\n",
      "\u001b[0;31mKeyboardInterrupt\u001b[0m                         Traceback (most recent call last)",
      "\u001b[0;32m<ipython-input-700-7321d7e5b42b>\u001b[0m in \u001b[0;36m<module>\u001b[0;34m\u001b[0m\n\u001b[1;32m      6\u001b[0m                            (delayed(butterfly.Models.CNN)(albums, DF, feat_n, predictor_index,  \n\u001b[1;32m      7\u001b[0m                             \u001b[0mresponses\u001b[0m\u001b[0;34m,\u001b[0m \u001b[0;36m40\u001b[0m\u001b[0;34m,\u001b[0m \u001b[0mfeatures\u001b[0m\u001b[0;34m,\u001b[0m \u001b[0mfolds\u001b[0m\u001b[0;34m,\u001b[0m \u001b[0mepochs\u001b[0m\u001b[0;34m,\u001b[0m \u001b[0moptimiser\u001b[0m\u001b[0;34m,\u001b[0m \u001b[0mloss\u001b[0m\u001b[0;34m,\u001b[0m \u001b[0;34m'MCNN'\u001b[0m\u001b[0;34m,\u001b[0m\u001b[0;34m\u001b[0m\u001b[0;34m\u001b[0m\u001b[0m\n\u001b[0;32m----> 8\u001b[0;31m                                                          'TSNE_M', 2)for feat_n in range(n_samples)))\n\u001b[0m\u001b[1;32m      9\u001b[0m \u001b[0;34m\u001b[0m\u001b[0m\n\u001b[1;32m     10\u001b[0m     \u001b[0mMCNN\u001b[0m\u001b[0;34m[\u001b[0m\u001b[0;34m'prediction_train'\u001b[0m\u001b[0;34m]\u001b[0m\u001b[0;34m.\u001b[0m\u001b[0mappend\u001b[0m\u001b[0;34m(\u001b[0m\u001b[0mprediction_train\u001b[0m\u001b[0;34m)\u001b[0m\u001b[0;34m\u001b[0m\u001b[0;34m\u001b[0m\u001b[0m\n",
      "\u001b[0;32m~/anaconda3/lib/python3.7/site-packages/joblib/parallel.py\u001b[0m in \u001b[0;36m__call__\u001b[0;34m(self, iterable)\u001b[0m\n\u001b[1;32m    932\u001b[0m \u001b[0;34m\u001b[0m\u001b[0m\n\u001b[1;32m    933\u001b[0m             \u001b[0;32mwith\u001b[0m \u001b[0mself\u001b[0m\u001b[0;34m.\u001b[0m\u001b[0m_backend\u001b[0m\u001b[0;34m.\u001b[0m\u001b[0mretrieval_context\u001b[0m\u001b[0;34m(\u001b[0m\u001b[0;34m)\u001b[0m\u001b[0;34m:\u001b[0m\u001b[0;34m\u001b[0m\u001b[0;34m\u001b[0m\u001b[0m\n\u001b[0;32m--> 934\u001b[0;31m                 \u001b[0mself\u001b[0m\u001b[0;34m.\u001b[0m\u001b[0mretrieve\u001b[0m\u001b[0;34m(\u001b[0m\u001b[0;34m)\u001b[0m\u001b[0;34m\u001b[0m\u001b[0;34m\u001b[0m\u001b[0m\n\u001b[0m\u001b[1;32m    935\u001b[0m             \u001b[0;31m# Make sure that we get a last message telling us we are done\u001b[0m\u001b[0;34m\u001b[0m\u001b[0;34m\u001b[0m\u001b[0;34m\u001b[0m\u001b[0m\n\u001b[1;32m    936\u001b[0m             \u001b[0melapsed_time\u001b[0m \u001b[0;34m=\u001b[0m \u001b[0mtime\u001b[0m\u001b[0;34m.\u001b[0m\u001b[0mtime\u001b[0m\u001b[0;34m(\u001b[0m\u001b[0;34m)\u001b[0m \u001b[0;34m-\u001b[0m \u001b[0mself\u001b[0m\u001b[0;34m.\u001b[0m\u001b[0m_start_time\u001b[0m\u001b[0;34m\u001b[0m\u001b[0;34m\u001b[0m\u001b[0m\n",
      "\u001b[0;32m~/anaconda3/lib/python3.7/site-packages/joblib/parallel.py\u001b[0m in \u001b[0;36mretrieve\u001b[0;34m(self)\u001b[0m\n\u001b[1;32m    853\u001b[0m                     \u001b[0;31m# scheduling.\u001b[0m\u001b[0;34m\u001b[0m\u001b[0;34m\u001b[0m\u001b[0;34m\u001b[0m\u001b[0m\n\u001b[1;32m    854\u001b[0m                     \u001b[0mensure_ready\u001b[0m \u001b[0;34m=\u001b[0m \u001b[0mself\u001b[0m\u001b[0;34m.\u001b[0m\u001b[0m_managed_backend\u001b[0m\u001b[0;34m\u001b[0m\u001b[0;34m\u001b[0m\u001b[0m\n\u001b[0;32m--> 855\u001b[0;31m                     \u001b[0mbackend\u001b[0m\u001b[0;34m.\u001b[0m\u001b[0mabort_everything\u001b[0m\u001b[0;34m(\u001b[0m\u001b[0mensure_ready\u001b[0m\u001b[0;34m=\u001b[0m\u001b[0mensure_ready\u001b[0m\u001b[0;34m)\u001b[0m\u001b[0;34m\u001b[0m\u001b[0;34m\u001b[0m\u001b[0m\n\u001b[0m\u001b[1;32m    856\u001b[0m \u001b[0;34m\u001b[0m\u001b[0m\n\u001b[1;32m    857\u001b[0m                 \u001b[0;32mif\u001b[0m \u001b[0misinstance\u001b[0m\u001b[0;34m(\u001b[0m\u001b[0mexception\u001b[0m\u001b[0;34m,\u001b[0m \u001b[0mTransportableException\u001b[0m\u001b[0;34m)\u001b[0m\u001b[0;34m:\u001b[0m\u001b[0;34m\u001b[0m\u001b[0;34m\u001b[0m\u001b[0m\n",
      "\u001b[0;32m~/anaconda3/lib/python3.7/site-packages/joblib/_parallel_backends.py\u001b[0m in \u001b[0;36mabort_everything\u001b[0;34m(self, ensure_ready)\u001b[0m\n\u001b[1;32m    536\u001b[0m         \"\"\"Shutdown the workers and restart a new one with the same parameters\n\u001b[1;32m    537\u001b[0m         \"\"\"\n\u001b[0;32m--> 538\u001b[0;31m         \u001b[0mself\u001b[0m\u001b[0;34m.\u001b[0m\u001b[0m_workers\u001b[0m\u001b[0;34m.\u001b[0m\u001b[0mshutdown\u001b[0m\u001b[0;34m(\u001b[0m\u001b[0mkill_workers\u001b[0m\u001b[0;34m=\u001b[0m\u001b[0;32mTrue\u001b[0m\u001b[0;34m)\u001b[0m\u001b[0;34m\u001b[0m\u001b[0;34m\u001b[0m\u001b[0m\n\u001b[0m\u001b[1;32m    539\u001b[0m         \u001b[0mdelete_folder\u001b[0m\u001b[0;34m(\u001b[0m\u001b[0mself\u001b[0m\u001b[0;34m.\u001b[0m\u001b[0m_workers\u001b[0m\u001b[0;34m.\u001b[0m\u001b[0m_temp_folder\u001b[0m\u001b[0;34m)\u001b[0m\u001b[0;34m\u001b[0m\u001b[0;34m\u001b[0m\u001b[0m\n\u001b[1;32m    540\u001b[0m         \u001b[0mself\u001b[0m\u001b[0;34m.\u001b[0m\u001b[0m_workers\u001b[0m \u001b[0;34m=\u001b[0m \u001b[0;32mNone\u001b[0m\u001b[0;34m\u001b[0m\u001b[0;34m\u001b[0m\u001b[0m\n",
      "\u001b[0;32m~/anaconda3/lib/python3.7/site-packages/joblib/externals/loky/process_executor.py\u001b[0m in \u001b[0;36mshutdown\u001b[0;34m(self, wait, kill_workers)\u001b[0m\n\u001b[1;32m   1094\u001b[0m                     \u001b[0;32mpass\u001b[0m\u001b[0;34m\u001b[0m\u001b[0;34m\u001b[0m\u001b[0m\n\u001b[1;32m   1095\u001b[0m             \u001b[0;32mif\u001b[0m \u001b[0mwait\u001b[0m\u001b[0;34m:\u001b[0m\u001b[0;34m\u001b[0m\u001b[0;34m\u001b[0m\u001b[0m\n\u001b[0;32m-> 1096\u001b[0;31m                 \u001b[0mqmt\u001b[0m\u001b[0;34m.\u001b[0m\u001b[0mjoin\u001b[0m\u001b[0;34m(\u001b[0m\u001b[0;34m)\u001b[0m\u001b[0;34m\u001b[0m\u001b[0;34m\u001b[0m\u001b[0m\n\u001b[0m\u001b[1;32m   1097\u001b[0m \u001b[0;34m\u001b[0m\u001b[0m\n\u001b[1;32m   1098\u001b[0m         \u001b[0mcq\u001b[0m \u001b[0;34m=\u001b[0m \u001b[0mself\u001b[0m\u001b[0;34m.\u001b[0m\u001b[0m_call_queue\u001b[0m\u001b[0;34m\u001b[0m\u001b[0;34m\u001b[0m\u001b[0m\n",
      "\u001b[0;32m~/anaconda3/lib/python3.7/threading.py\u001b[0m in \u001b[0;36mjoin\u001b[0;34m(self, timeout)\u001b[0m\n\u001b[1;32m   1042\u001b[0m \u001b[0;34m\u001b[0m\u001b[0m\n\u001b[1;32m   1043\u001b[0m         \u001b[0;32mif\u001b[0m \u001b[0mtimeout\u001b[0m \u001b[0;32mis\u001b[0m \u001b[0;32mNone\u001b[0m\u001b[0;34m:\u001b[0m\u001b[0;34m\u001b[0m\u001b[0;34m\u001b[0m\u001b[0m\n\u001b[0;32m-> 1044\u001b[0;31m             \u001b[0mself\u001b[0m\u001b[0;34m.\u001b[0m\u001b[0m_wait_for_tstate_lock\u001b[0m\u001b[0;34m(\u001b[0m\u001b[0;34m)\u001b[0m\u001b[0;34m\u001b[0m\u001b[0;34m\u001b[0m\u001b[0m\n\u001b[0m\u001b[1;32m   1045\u001b[0m         \u001b[0;32melse\u001b[0m\u001b[0;34m:\u001b[0m\u001b[0;34m\u001b[0m\u001b[0;34m\u001b[0m\u001b[0m\n\u001b[1;32m   1046\u001b[0m             \u001b[0;31m# the behavior of a negative timeout isn't documented, but\u001b[0m\u001b[0;34m\u001b[0m\u001b[0;34m\u001b[0m\u001b[0;34m\u001b[0m\u001b[0m\n",
      "\u001b[0;32m~/anaconda3/lib/python3.7/threading.py\u001b[0m in \u001b[0;36m_wait_for_tstate_lock\u001b[0;34m(self, block, timeout)\u001b[0m\n\u001b[1;32m   1058\u001b[0m         \u001b[0;32mif\u001b[0m \u001b[0mlock\u001b[0m \u001b[0;32mis\u001b[0m \u001b[0;32mNone\u001b[0m\u001b[0;34m:\u001b[0m  \u001b[0;31m# already determined that the C code is done\u001b[0m\u001b[0;34m\u001b[0m\u001b[0;34m\u001b[0m\u001b[0m\n\u001b[1;32m   1059\u001b[0m             \u001b[0;32massert\u001b[0m \u001b[0mself\u001b[0m\u001b[0;34m.\u001b[0m\u001b[0m_is_stopped\u001b[0m\u001b[0;34m\u001b[0m\u001b[0;34m\u001b[0m\u001b[0m\n\u001b[0;32m-> 1060\u001b[0;31m         \u001b[0;32melif\u001b[0m \u001b[0mlock\u001b[0m\u001b[0;34m.\u001b[0m\u001b[0macquire\u001b[0m\u001b[0;34m(\u001b[0m\u001b[0mblock\u001b[0m\u001b[0;34m,\u001b[0m \u001b[0mtimeout\u001b[0m\u001b[0;34m)\u001b[0m\u001b[0;34m:\u001b[0m\u001b[0;34m\u001b[0m\u001b[0;34m\u001b[0m\u001b[0m\n\u001b[0m\u001b[1;32m   1061\u001b[0m             \u001b[0mlock\u001b[0m\u001b[0;34m.\u001b[0m\u001b[0mrelease\u001b[0m\u001b[0;34m(\u001b[0m\u001b[0;34m)\u001b[0m\u001b[0;34m\u001b[0m\u001b[0;34m\u001b[0m\u001b[0m\n\u001b[1;32m   1062\u001b[0m             \u001b[0mself\u001b[0m\u001b[0;34m.\u001b[0m\u001b[0m_stop\u001b[0m\u001b[0;34m(\u001b[0m\u001b[0;34m)\u001b[0m\u001b[0;34m\u001b[0m\u001b[0;34m\u001b[0m\u001b[0m\n",
      "\u001b[0;31mKeyboardInterrupt\u001b[0m: "
     ]
    }
   ],
   "source": [
    "MCNN = defaultdict(list)\n",
    "\n",
    "for predictor_index in tqdm(range(len(omics))):\n",
    "        \n",
    "    prediction_train, observed_train, prediction_test, observed_test = zip(*Parallel(n_jobs=n_samples)\n",
    "                           (delayed(butterfly.Models.CNN)(albums, DF, feat_n, predictor_index,  \n",
    "                            responses, 40, features, folds, epochs, optimiser, loss, 'MCNN',\n",
    "                                                         'TSNE_M', 2)for feat_n in range(n_samples)))\n",
    "        \n",
    "    MCNN['prediction_train'].append(prediction_train)\n",
    "    MCNN['observed_train'].append(observed_train)\n",
    "    MCNN['prediction_test'].append(prediction_test)\n",
    "    MCNN['observed_test'].append(observed_test)"
   ]
  },
  {
   "cell_type": "code",
   "execution_count": null,
   "metadata": {},
   "outputs": [],
   "source": [
    "with open('MCNN_M.pkl', 'wb') as f:  \n",
    "    pickle.dump(MCNN_M, f)"
   ]
  },
  {
   "cell_type": "code",
   "execution_count": null,
   "metadata": {},
   "outputs": [
    {
     "name": "stderr",
     "output_type": "stream",
     "text": [
      " 14%|█▍        | 1/7 [20:08<2:00:50, 1208.43s/it]/home/mxenoc/anaconda3/lib/python3.7/site-packages/joblib/externals/loky/process_executor.py:706: UserWarning: A worker stopped while some jobs were given to the executor. This can be caused by a too short worker timeout or by a memory leak.\n",
      "  \"timeout or by a memory leak.\", UserWarning\n",
      " 71%|███████▏  | 5/7 [2:01:46<47:58, 1439.45s/it]  "
     ]
    }
   ],
   "source": [
    "RF = defaultdict(list)\n",
    "\n",
    "for predictor_index in tqdm(range(len(omics))):\n",
    "\n",
    "    prediction_train, observed_train, prediction_test, observed_test = zip(*Parallel(n_jobs=n_samples)\n",
    "                           (delayed(butterfly.Models.RF)(DF, responses, predictor_index, feat_n, \n",
    "                            RF_predictor, folds, ntrees, 'RF_regressor')for feat_n in range(n_samples)))\n",
    "        \n",
    "    RF['prediction_train'].append(prediction_train)\n",
    "    RF['observed_train'].append(observed_train)\n",
    "    RF['prediction_test'].append(prediction_test)\n",
    "    RF['observed_test'].append(observed_test)"
   ]
  },
  {
   "cell_type": "code",
   "execution_count": null,
   "metadata": {},
   "outputs": [],
   "source": [
    "with open('RF.pkl', 'wb') as f:  \n",
    "    pickle.dump(RF, f)"
   ]
  },
  {
   "cell_type": "code",
   "execution_count": 496,
   "metadata": {},
   "outputs": [
    {
     "name": "stderr",
     "output_type": "stream",
     "text": [
      "\n",
      "  0%|          | 0/7 [00:00<?, ?it/s]\u001b[A\n",
      " 14%|█▍        | 1/7 [00:58<05:52, 58.72s/it]\u001b[A\n",
      " 29%|██▊       | 2/7 [04:59<09:26, 113.24s/it]\u001b[A\n",
      " 43%|████▎     | 3/7 [08:47<09:51, 147.90s/it]\u001b[A\n",
      " 57%|█████▋    | 4/7 [09:24<05:43, 114.37s/it]\u001b[A\n",
      " 71%|███████▏  | 5/7 [09:44<02:52, 86.16s/it] \u001b[A\n",
      " 86%|████████▌ | 6/7 [10:06<01:06, 66.86s/it]\u001b[A\n",
      "100%|██████████| 7/7 [13:30<00:00, 115.76s/it]\u001b[A\n"
     ]
    }
   ],
   "source": [
    "LS = defaultdict(list)\n",
    "\n",
    "for predictor_index in tqdm(range(len(omics))):\n",
    "\n",
    "    prediction_train, observed_train, prediction_test, observed_test = zip(*Parallel(n_jobs=n_samples)\n",
    "                           (delayed(butterfly.Models.RF)(DF, responses, predictor_index, feat_n, \n",
    "                            RF_predictor, folds, ntrees, 'Lasso')for feat_n in range(n_samples)))\n",
    "        \n",
    "    LS['prediction_train'].append(prediction_train)\n",
    "    LS['observed_train'].append(observed_train)\n",
    "    LS['prediction_test'].append(prediction_test)\n",
    "    LS['observed_test'].append(observed_test)"
   ]
  },
  {
   "cell_type": "code",
   "execution_count": 497,
   "metadata": {},
   "outputs": [],
   "source": [
    "with open('LS.pkl', 'wb') as f:  \n",
    "    pickle.dump(LS, f)"
   ]
  },
  {
   "cell_type": "code",
   "execution_count": 498,
   "metadata": {},
   "outputs": [
    {
     "name": "stderr",
     "output_type": "stream",
     "text": [
      "\n",
      "  0%|          | 0/7 [00:00<?, ?it/s]\u001b[A\n",
      " 14%|█▍        | 1/7 [00:11<01:08, 11.39s/it]\u001b[A\n",
      " 29%|██▊       | 2/7 [00:19<00:52, 10.51s/it]\u001b[A\n",
      " 43%|████▎     | 3/7 [00:29<00:40, 10.23s/it]\u001b[A\n",
      " 57%|█████▋    | 4/7 [00:37<00:28,  9.64s/it]\u001b[A\n",
      " 71%|███████▏  | 5/7 [00:48<00:20, 10.04s/it]\u001b[A\n",
      " 86%|████████▌ | 6/7 [00:57<00:09,  9.65s/it]\u001b[A\n",
      "100%|██████████| 7/7 [01:06<00:00,  9.48s/it]\u001b[A\n"
     ]
    }
   ],
   "source": [
    "Dummy = defaultdict(list)\n",
    "\n",
    "for predictor_index in tqdm(range(len(omics))):\n",
    "\n",
    "    prediction_train, observed_train, prediction_test, observed_test = zip(*Parallel(n_jobs=n_samples)\n",
    "                           (delayed(butterfly.Models.RF)(DF, responses, predictor_index, feat_n, \n",
    "                            RF_predictor, folds, ntrees, 'Dummy')for feat_n in range(n_samples)))\n",
    "        \n",
    "    Dummy['prediction_train'].append(prediction_train)\n",
    "    Dummy['observed_train'].append(observed_train)\n",
    "    Dummy['prediction_test'].append(prediction_test)\n",
    "    Dummy['observed_test'].append(observed_test)"
   ]
  },
  {
   "cell_type": "code",
   "execution_count": 499,
   "metadata": {},
   "outputs": [],
   "source": [
    "with open('Dummy.pkl', 'wb') as f:  \n",
    "    pickle.dump(Dummy, f)"
   ]
  },
  {
   "cell_type": "code",
   "execution_count": 23,
   "metadata": {},
   "outputs": [],
   "source": [
    "# load model\n",
    "model = ResNet50()\n",
    "# summarize the model\n",
    "#model.summary()"
   ]
  },
  {
   "cell_type": "code",
   "execution_count": null,
   "metadata": {},
   "outputs": [],
   "source": [
    "n_samples = 30 #same as the number of responses\n",
    "\n",
    "RN = defaultdict(list)\n",
    "\n",
    "for predictor_index in tqdm(range(len(omics))):\n",
    "        \n",
    "    prediction_train, observed_train, prediction_test, observed_test = zip(*Parallel(n_jobs=n_samples)\n",
    "                           (delayed(butterfly.Models.CNN)(albums_all, DF, feat_n, predictor_index,  \n",
    "                            responses, 128, features, folds, epochs, optimiser, loss, 'ResNet')for feat_n in range(n_samples)))\n",
    "        \n",
    "    RN['prediction_train'].append(prediction_train)\n",
    "    RN['observed_train'].append(observed_train)\n",
    "    RN['prediction_test'].append(prediction_test)\n",
    "    RN['observed_test'].append(observed_test)"
   ]
  },
  {
   "cell_type": "code",
   "execution_count": 697,
   "metadata": {},
   "outputs": [],
   "source": [
    "os.chdir('/home/mxenoc/workspace/butterfly/notebooks')"
   ]
  },
  {
   "cell_type": "code",
   "execution_count": 698,
   "metadata": {},
   "outputs": [
    {
     "ename": "EOFError",
     "evalue": "Ran out of input",
     "output_type": "error",
     "traceback": [
      "\u001b[0;31m---------------------------------------------------------------------------\u001b[0m",
      "\u001b[0;31mEOFError\u001b[0m                                  Traceback (most recent call last)",
      "\u001b[0;32m<ipython-input-698-3df79e9b9860>\u001b[0m in \u001b[0;36m<module>\u001b[0;34m\u001b[0m\n\u001b[1;32m      1\u001b[0m \u001b[0;32mwith\u001b[0m \u001b[0mopen\u001b[0m\u001b[0;34m(\u001b[0m\u001b[0;34m'MCNN_M.pkl'\u001b[0m\u001b[0;34m,\u001b[0m \u001b[0;34m'rb'\u001b[0m\u001b[0;34m)\u001b[0m \u001b[0;32mas\u001b[0m \u001b[0mf\u001b[0m\u001b[0;34m:\u001b[0m\u001b[0;34m\u001b[0m\u001b[0;34m\u001b[0m\u001b[0m\n\u001b[0;32m----> 2\u001b[0;31m     \u001b[0mMCNN_M\u001b[0m \u001b[0;34m=\u001b[0m \u001b[0mpickle\u001b[0m\u001b[0;34m.\u001b[0m\u001b[0mload\u001b[0m\u001b[0;34m(\u001b[0m\u001b[0mf\u001b[0m\u001b[0;34m)\u001b[0m\u001b[0;34m\u001b[0m\u001b[0;34m\u001b[0m\u001b[0m\n\u001b[0m",
      "\u001b[0;31mEOFError\u001b[0m: Ran out of input"
     ]
    }
   ],
   "source": [
    "with open('MCNN_M.pkl', 'rb') as f:\n",
    "    MCNN_M = pickle.load(f)"
   ]
  },
  {
   "cell_type": "code",
   "execution_count": 675,
   "metadata": {},
   "outputs": [],
   "source": [
    "with open('CNN_Matrix.pkl', 'rb') as f:\n",
    "    CNN_Matrix = pickle.load(f)"
   ]
  },
  {
   "cell_type": "code",
   "execution_count": 310,
   "metadata": {},
   "outputs": [],
   "source": [
    "with open('CNN.pkl', 'rb') as f:\n",
    "    CNN = pickle.load(f)"
   ]
  },
  {
   "cell_type": "code",
   "execution_count": 514,
   "metadata": {},
   "outputs": [],
   "source": [
    "with open('RF.pkl', 'rb') as f:\n",
    "    RF = pickle.load(f)"
   ]
  },
  {
   "cell_type": "code",
   "execution_count": 525,
   "metadata": {},
   "outputs": [],
   "source": [
    "with open('MCNN.pkl', 'rb') as f:\n",
    "    MCNN = pickle.load(f)"
   ]
  },
  {
   "cell_type": "code",
   "execution_count": 580,
   "metadata": {},
   "outputs": [],
   "source": [
    "with open('RF_T.pkl', 'rb') as f:\n",
    "    RF_T = pickle.load(f)"
   ]
  },
  {
   "cell_type": "code",
   "execution_count": 516,
   "metadata": {},
   "outputs": [],
   "source": [
    "#responses\n",
    "feats  = np.hstack([np.tile('rna',n_samples), np.tile('plasma_l',n_samples), np.tile('serum_l',n_samples), np.tile('microbiome',n_samples), \n",
    "                    np.tile('immune',n_samples), np.tile('metabolomics',n_samples), np.tile('plasma_s',n_samples)])"
   ]
  },
  {
   "cell_type": "code",
   "execution_count": 517,
   "metadata": {},
   "outputs": [],
   "source": [
    "each_omic_CNN_r = []\n",
    "each_omic_CNN_p = []\n",
    "\n",
    "all_features_CNN_r = []\n",
    "all_features_CNN_p = []\n",
    "\n",
    "for l in range(len(omics)):\n",
    "    each_feature_CNN_r = []\n",
    "    each_feature_CNN_p = []\n",
    "    for k in range(n_samples):\n",
    "            each_feature_CNN_r.append(stats.spearmanr(CNN['prediction_test'][l][k], \n",
    "                                                          CNN['observed_test'][l][k])[0])\n",
    "            each_feature_CNN_p.append(stats.spearmanr(CNN['prediction_test'][l][k], \n",
    "                                                          CNN['observed_test'][l][k])[1])\n",
    "    all_features_CNN_r.append(each_feature_CNN_r)\n",
    "    all_features_CNN_p.append(each_feature_CNN_p)\n",
    "    each_omic_CNN_r.append(np.mean(each_feature_CNN_r))    \n",
    "    each_omic_CNN_p.append(np.mean(each_feature_CNN_p))    \n",
    "    \n",
    "CNN_r = np.hstack(all_features_CNN_r)\n",
    "CNN_p = np.hstack(all_features_CNN_p)\n",
    "CNN_r_p = pd.DataFrame({'r': CNN_r, 'p': CNN_p, 'omics': feats, 'model': 'CNN'})"
   ]
  },
  {
   "cell_type": "code",
   "execution_count": 518,
   "metadata": {},
   "outputs": [],
   "source": [
    "CNN_r_p = pd.DataFrame({'r': CNN_r, 'p': CNN_p, 'omics': feats, 'model': 'CNN'})"
   ]
  },
  {
   "cell_type": "code",
   "execution_count": 519,
   "metadata": {},
   "outputs": [],
   "source": [
    "each_omic_LS_r = []\n",
    "each_omic_LS_p = []\n",
    "\n",
    "all_features_LS_r = []\n",
    "all_features_LS_p = []\n",
    "\n",
    "for l in range(len(omics)):\n",
    "    each_feature_LS_r = []\n",
    "    each_feature_LS_p = []\n",
    "    for k in range(n_samples):\n",
    "            each_feature_LS_r.append(stats.spearmanr(LS['prediction_test'][l][k], \n",
    "                                                          LS['observed_test'][l][k])[0])\n",
    "            each_feature_LS_p.append(stats.spearmanr(LS['prediction_test'][l][k], \n",
    "                                                          LS['observed_test'][l][k])[1])\n",
    "    all_features_LS_r.append(each_feature_LS_r)\n",
    "    all_features_LS_p.append(each_feature_LS_p)\n",
    "    each_omic_LS_r.append(np.mean(each_feature_LS_r))    \n",
    "    each_omic_LS_p.append(np.mean(each_feature_LS_p))    \n",
    "    \n",
    "LS_r = np.hstack(all_features_LS_r)\n",
    "LS_p = np.hstack(all_features_LS_p)\n",
    "LS_r_p = pd.DataFrame({'r': LS_r, 'p': LS_p, 'omics': feats, 'model': 'LS'})"
   ]
  },
  {
   "cell_type": "code",
   "execution_count": 520,
   "metadata": {},
   "outputs": [],
   "source": [
    "LS_r_p = pd.DataFrame({'r': LS_r, 'p': LS_p, 'omics': feats, 'model': 'LS'})"
   ]
  },
  {
   "cell_type": "code",
   "execution_count": 695,
   "metadata": {},
   "outputs": [
    {
     "ename": "NameError",
     "evalue": "name 'MCNN_M' is not defined",
     "output_type": "error",
     "traceback": [
      "\u001b[0;31m---------------------------------------------------------------------------\u001b[0m",
      "\u001b[0;31mNameError\u001b[0m                                 Traceback (most recent call last)",
      "\u001b[0;32m<ipython-input-695-2746902c803e>\u001b[0m in \u001b[0;36m<module>\u001b[0;34m\u001b[0m\n\u001b[1;32m      9\u001b[0m     \u001b[0meach_feature_p\u001b[0m \u001b[0;34m=\u001b[0m \u001b[0;34m[\u001b[0m\u001b[0;34m]\u001b[0m\u001b[0;34m\u001b[0m\u001b[0;34m\u001b[0m\u001b[0m\n\u001b[1;32m     10\u001b[0m     \u001b[0;32mfor\u001b[0m \u001b[0mk\u001b[0m \u001b[0;32min\u001b[0m \u001b[0mrange\u001b[0m\u001b[0;34m(\u001b[0m\u001b[0mn_samples\u001b[0m\u001b[0;34m)\u001b[0m\u001b[0;34m:\u001b[0m\u001b[0;34m\u001b[0m\u001b[0;34m\u001b[0m\u001b[0m\n\u001b[0;32m---> 11\u001b[0;31m             each_feature_r.append(stats.spearmanr(MCNN_M['prediction_test'][l][k], \n\u001b[0m\u001b[1;32m     12\u001b[0m                                                           MCNN_M['observed_test'][l][k])[0])\n\u001b[1;32m     13\u001b[0m             each_feature_p.append(stats.spearmanr(MCNN_M['prediction_test'][l][k], \n",
      "\u001b[0;31mNameError\u001b[0m: name 'MCNN_M' is not defined"
     ]
    }
   ],
   "source": [
    "each_omic_r = []\n",
    "each_omic_p = []\n",
    "\n",
    "all_features_r = []\n",
    "all_features_p = []\n",
    "\n",
    "for l in range(len(omics)):\n",
    "    each_feature_r = []\n",
    "    each_feature_p = []\n",
    "    for k in range(n_samples):\n",
    "            each_feature_r.append(stats.spearmanr(MCNN_M['prediction_test'][l][k], \n",
    "                                                          MCNN_M['observed_test'][l][k])[0])\n",
    "            each_feature_p.append(stats.spearmanr(MCNN_M['prediction_test'][l][k], \n",
    "                                                          MCNN_M['observed_test'][l][k])[1])\n",
    "    all_features_r.append(each_feature_r)\n",
    "    all_features_p.append(each_feature_p)\n",
    "    each_omic_r.append(np.mean(each_feature_r))    \n",
    "    each_omic_p.append(np.mean(each_feature_p))  \n",
    "    \n",
    "r = np.hstack(all_features_r)\n",
    "p = np.hstack(all_features_p)\n",
    "MCNN_M_r_p = pd.DataFrame({'r': r, 'p': p, 'omics': feats, 'model': 'CNN_Matrix'})"
   ]
  },
  {
   "cell_type": "code",
   "execution_count": 521,
   "metadata": {},
   "outputs": [],
   "source": [
    "each_omic_RF_r = []\n",
    "each_omic_RF_p = []\n",
    "\n",
    "all_features_RF_r = []\n",
    "all_features_RF_p = []\n",
    "\n",
    "for l in range(len(omics)):\n",
    "    each_feature_RF_r = []\n",
    "    each_feature_RF_p = []\n",
    "    for k in range(n_samples):\n",
    "            each_feature_RF_r.append(stats.spearmanr(RF['prediction_test'][l][k], \n",
    "                                                          RF['observed_test'][l][k])[0])\n",
    "            each_feature_RF_p.append(stats.spearmanr(RF['prediction_test'][l][k], \n",
    "                                                          RF['observed_test'][l][k])[1])\n",
    "    all_features_RF_r.append(each_feature_RF_r)\n",
    "    all_features_RF_p.append(each_feature_RF_p)\n",
    "    each_omic_RF_r.append(np.mean(each_feature_RF_r))    \n",
    "    each_omic_RF_p.append(np.mean(each_feature_RF_p))    \n",
    "    \n",
    "RF_r = np.hstack(all_features_RF_r)\n",
    "RF_p = np.hstack(all_features_RF_p)\n",
    "RF_r_p = pd.DataFrame({'r': RF_r, 'p': RF_p, 'omics': feats, 'model': 'RF'})"
   ]
  },
  {
   "cell_type": "code",
   "execution_count": 522,
   "metadata": {},
   "outputs": [],
   "source": [
    "RF_r_p = pd.DataFrame({'r': RF_r, 'p': RF_p, 'omics': feats, 'model': 'RF'})"
   ]
  },
  {
   "cell_type": "code",
   "execution_count": 564,
   "metadata": {},
   "outputs": [],
   "source": [
    "each_omic_MCNN_r = []\n",
    "each_omic_MCNN_p = []\n",
    "\n",
    "all_features_MCNN_r = []\n",
    "all_features_MCNN_p = []\n",
    "\n",
    "for l in range(len(omics)):\n",
    "    each_feature_MCNN_r = []\n",
    "    each_feature_MCNN_p = []\n",
    "    for k in range(n_samples):\n",
    "            each_feature_MCNN_r.append(stats.spearmanr(MCNN['prediction_test'][l][k], \n",
    "                                                          MCNN['observed_test'][l][k])[0])\n",
    "            each_feature_MCNN_p.append(stats.spearmanr(MCNN['prediction_test'][l][k], \n",
    "                                                          MCNN['observed_test'][l][k])[1])\n",
    "    all_features_MCNN_r.append(each_feature_MCNN_r)\n",
    "    all_features_MCNN_p.append(each_feature_MCNN_p)\n",
    "    each_omic_MCNN_r.append(np.mean(each_feature_MCNN_r))    \n",
    "    each_omic_MCNN_p.append(np.mean(each_feature_MCNN_p))    \n",
    "    \n",
    "MCNN_r = np.hstack(all_features_MCNN_r)\n",
    "MCNN_p = np.hstack(all_features_MCNN_p)\n",
    "MCNN_r_p = pd.DataFrame({'r': MCNN_r, 'p': MCNN_p, 'omics': feats, 'model': 'MCNN'})"
   ]
  },
  {
   "cell_type": "code",
   "execution_count": 565,
   "metadata": {},
   "outputs": [],
   "source": [
    "MCNN_r_p = pd.DataFrame({'r': MCNN_r, 'p': MCNN_p, 'omics': feats, 'model': 'MCNN'})"
   ]
  },
  {
   "cell_type": "code",
   "execution_count": 527,
   "metadata": {},
   "outputs": [],
   "source": [
    "each_omic_Dummy_r = []\n",
    "each_omic_Dummy_p = []\n",
    "\n",
    "all_features_Dummy_r = []\n",
    "all_features_Dummy_p = []\n",
    "\n",
    "for l in range(len(omics)):\n",
    "    each_feature_Dummy_r = []\n",
    "    each_feature_Dummy_p = []\n",
    "    for k in range(n_samples):\n",
    "            each_feature_Dummy_r.append(stats.spearmanr(Dummy['prediction_test'][l][k], \n",
    "                                                          Dummy['observed_test'][l][k])[0])\n",
    "            each_feature_Dummy_p.append(stats.spearmanr(Dummy['prediction_test'][l][k], \n",
    "                                                          Dummy['observed_test'][l][k])[1])\n",
    "    all_features_Dummy_r.append(each_feature_Dummy_r)\n",
    "    all_features_Dummy_p.append(each_feature_Dummy_p)\n",
    "    each_omic_Dummy_r.append(np.mean(each_feature_Dummy_r))    \n",
    "    each_omic_Dummy_p.append(np.mean(each_feature_Dummy_p))    \n",
    "    \n",
    "Dummy_r = np.hstack(all_features_Dummy_r)\n",
    "Dummy_p = np.hstack(all_features_Dummy_p)\n",
    "Dummy_r_p = pd.DataFrame({'r': Dummy_r, 'p': Dummy_p, 'omics': feats, 'model': 'Dummy'})"
   ]
  },
  {
   "cell_type": "code",
   "execution_count": 528,
   "metadata": {},
   "outputs": [],
   "source": [
    "Dummy_r_p = pd.DataFrame({'r': Dummy_r, 'p': Dummy_p, 'omics': feats, 'model': 'Dummy'})"
   ]
  },
  {
   "cell_type": "code",
   "execution_count": 661,
   "metadata": {},
   "outputs": [],
   "source": [
    "each_omic_Random_r = []\n",
    "each_omic_Random_p = []\n",
    "\n",
    "all_features_Random_r = []\n",
    "all_features_Random_p = []\n",
    "\n",
    "for l in range(len(omics)):\n",
    "    each_feature_Random_r = []\n",
    "    each_feature_Random_p = []\n",
    "    for k in range(n_samples):\n",
    "            each_feature_Random_r.append(stats.spearmanr(pd.DataFrame(random.sample(range(10, 100), 68)), \n",
    "                                                          RF['observed_test'][l][k])[0])\n",
    "            each_feature_Random_p.append(stats.spearmanr(pd.DataFrame(random.sample(range(10, 100), 68)), \n",
    "                                                          RF['observed_test'][l][k])[1])\n",
    "    all_features_Random_r.append(each_feature_Random_r)\n",
    "    all_features_Random_p.append(each_feature_Random_p)\n",
    "    each_omic_Random_r.append(np.mean(each_feature_Random_r))    \n",
    "    each_omic_Random_p.append(np.mean(each_feature_Random_p))    \n",
    "    \n",
    "Random_r = np.hstack(all_features_Random_r)\n",
    "Random_p = np.hstack(all_features_Random_p)\n",
    "Random_r_p = pd.DataFrame({'r': Random_r, 'p': Random_p, 'omics': feats, 'model': 'Random'})"
   ]
  },
  {
   "cell_type": "code",
   "execution_count": 662,
   "metadata": {},
   "outputs": [],
   "source": [
    "Random_r_p = pd.DataFrame({'r': Random_r, 'p': Random_p, 'omics': feats, 'model': 'Random'})"
   ]
  },
  {
   "cell_type": "code",
   "execution_count": 663,
   "metadata": {},
   "outputs": [],
   "source": [
    "Random_df = Random_r_p[(Random_r_p['r']>0) & (Random_r_p['p']<=0.05)]"
   ]
  },
  {
   "cell_type": "code",
   "execution_count": 534,
   "metadata": {},
   "outputs": [],
   "source": [
    "Dummy_df = Dummy_r_p[(Dummy_r_p['r']>0) & (Dummy_r_p['p']<=0.05)]"
   ]
  },
  {
   "cell_type": "code",
   "execution_count": 679,
   "metadata": {},
   "outputs": [],
   "source": [
    "CNN_Matrix_df = CNN_Matrix_r_p[(CNN_Matrix_r_p['r']>0) & (CNN_Matrix_r_p['p']<=0.05)]"
   ]
  },
  {
   "cell_type": "code",
   "execution_count": 566,
   "metadata": {},
   "outputs": [],
   "source": [
    "MCNN_df = MCNN_r_p[(MCNN_r_p['r']>0) & (MCNN_r_p['p']<=0.05)]"
   ]
  },
  {
   "cell_type": "code",
   "execution_count": 624,
   "metadata": {},
   "outputs": [],
   "source": [
    "RF_T_df = RF_T_r_p[(RF_T_r_p['r']>0) & (RF_T_r_p['p']<=0.05)]"
   ]
  },
  {
   "cell_type": "code",
   "execution_count": 601,
   "metadata": {},
   "outputs": [],
   "source": [
    "RF_df = RF_r_p[(RF_r_p['r']>0) & (RF_r_p['p']<=0.05)]"
   ]
  },
  {
   "cell_type": "code",
   "execution_count": 536,
   "metadata": {},
   "outputs": [],
   "source": [
    "LS_df = LS_r_p[(LS_r_p['r']>0) & (LS_r_p['p']<=0.05)]"
   ]
  },
  {
   "cell_type": "code",
   "execution_count": 537,
   "metadata": {},
   "outputs": [],
   "source": [
    "CNN_df = CNN_r_p[(CNN_r_p['r']>0) & (CNN_r_p['p']<=0.05)]"
   ]
  },
  {
   "cell_type": "code",
   "execution_count": 680,
   "metadata": {},
   "outputs": [],
   "source": [
    "df_frames = [RF_df, RF_T_df, LS_df, CNN_df, CNN_Matrix_df, MCNN_df, Random_df]"
   ]
  },
  {
   "cell_type": "code",
   "execution_count": 681,
   "metadata": {},
   "outputs": [],
   "source": [
    "dfs = pd.concat(df_frames, sort=True)"
   ]
  },
  {
   "cell_type": "code",
   "execution_count": 682,
   "metadata": {},
   "outputs": [],
   "source": [
    "dfs = dfs.iloc[:,0:2]"
   ]
  },
  {
   "cell_type": "code",
   "execution_count": 683,
   "metadata": {},
   "outputs": [],
   "source": [
    "dfs = dfs.groupby([\"omics\", \"model\"]).size().reset_index(name=\"Time\")"
   ]
  },
  {
   "cell_type": "code",
   "execution_count": 684,
   "metadata": {},
   "outputs": [],
   "source": [
    "pivot_df = dfs.pivot(index='model', columns='omics', values='Time')"
   ]
  },
  {
   "cell_type": "code",
   "execution_count": 685,
   "metadata": {},
   "outputs": [
    {
     "data": {
      "text/html": [
       "<div>\n",
       "<style scoped>\n",
       "    .dataframe tbody tr th:only-of-type {\n",
       "        vertical-align: middle;\n",
       "    }\n",
       "\n",
       "    .dataframe tbody tr th {\n",
       "        vertical-align: top;\n",
       "    }\n",
       "\n",
       "    .dataframe thead th {\n",
       "        text-align: right;\n",
       "    }\n",
       "</style>\n",
       "<table border=\"1\" class=\"dataframe\">\n",
       "  <thead>\n",
       "    <tr style=\"text-align: right;\">\n",
       "      <th>omics</th>\n",
       "      <th>immune</th>\n",
       "      <th>metabolomics</th>\n",
       "      <th>microbiome</th>\n",
       "      <th>plasma_l</th>\n",
       "      <th>plasma_s</th>\n",
       "      <th>rna</th>\n",
       "      <th>serum_l</th>\n",
       "    </tr>\n",
       "    <tr>\n",
       "      <th>model</th>\n",
       "      <th></th>\n",
       "      <th></th>\n",
       "      <th></th>\n",
       "      <th></th>\n",
       "      <th></th>\n",
       "      <th></th>\n",
       "      <th></th>\n",
       "    </tr>\n",
       "  </thead>\n",
       "  <tbody>\n",
       "    <tr>\n",
       "      <td>CNN</td>\n",
       "      <td>NaN</td>\n",
       "      <td>2.0</td>\n",
       "      <td>8.0</td>\n",
       "      <td>2.0</td>\n",
       "      <td>4.0</td>\n",
       "      <td>5.0</td>\n",
       "      <td>2.0</td>\n",
       "    </tr>\n",
       "    <tr>\n",
       "      <td>CNN_Matrix</td>\n",
       "      <td>5.0</td>\n",
       "      <td>4.0</td>\n",
       "      <td>6.0</td>\n",
       "      <td>2.0</td>\n",
       "      <td>7.0</td>\n",
       "      <td>3.0</td>\n",
       "      <td>8.0</td>\n",
       "    </tr>\n",
       "    <tr>\n",
       "      <td>LS</td>\n",
       "      <td>2.0</td>\n",
       "      <td>2.0</td>\n",
       "      <td>NaN</td>\n",
       "      <td>7.0</td>\n",
       "      <td>11.0</td>\n",
       "      <td>2.0</td>\n",
       "      <td>10.0</td>\n",
       "    </tr>\n",
       "    <tr>\n",
       "      <td>MCNN</td>\n",
       "      <td>5.0</td>\n",
       "      <td>1.0</td>\n",
       "      <td>5.0</td>\n",
       "      <td>4.0</td>\n",
       "      <td>4.0</td>\n",
       "      <td>3.0</td>\n",
       "      <td>4.0</td>\n",
       "    </tr>\n",
       "    <tr>\n",
       "      <td>RF</td>\n",
       "      <td>5.0</td>\n",
       "      <td>17.0</td>\n",
       "      <td>NaN</td>\n",
       "      <td>7.0</td>\n",
       "      <td>17.0</td>\n",
       "      <td>NaN</td>\n",
       "      <td>6.0</td>\n",
       "    </tr>\n",
       "    <tr>\n",
       "      <td>RF_T</td>\n",
       "      <td>6.0</td>\n",
       "      <td>11.0</td>\n",
       "      <td>NaN</td>\n",
       "      <td>6.0</td>\n",
       "      <td>14.0</td>\n",
       "      <td>2.0</td>\n",
       "      <td>7.0</td>\n",
       "    </tr>\n",
       "    <tr>\n",
       "      <td>Random</td>\n",
       "      <td>4.0</td>\n",
       "      <td>1.0</td>\n",
       "      <td>NaN</td>\n",
       "      <td>NaN</td>\n",
       "      <td>4.0</td>\n",
       "      <td>1.0</td>\n",
       "      <td>3.0</td>\n",
       "    </tr>\n",
       "  </tbody>\n",
       "</table>\n",
       "</div>"
      ],
      "text/plain": [
       "omics       immune  metabolomics  microbiome  plasma_l  plasma_s  rna  serum_l\n",
       "model                                                                         \n",
       "CNN            NaN           2.0         8.0       2.0       4.0  5.0      2.0\n",
       "CNN_Matrix     5.0           4.0         6.0       2.0       7.0  3.0      8.0\n",
       "LS             2.0           2.0         NaN       7.0      11.0  2.0     10.0\n",
       "MCNN           5.0           1.0         5.0       4.0       4.0  3.0      4.0\n",
       "RF             5.0          17.0         NaN       7.0      17.0  NaN      6.0\n",
       "RF_T           6.0          11.0         NaN       6.0      14.0  2.0      7.0\n",
       "Random         4.0           1.0         NaN       NaN       4.0  1.0      3.0"
      ]
     },
     "execution_count": 685,
     "metadata": {},
     "output_type": "execute_result"
    }
   ],
   "source": [
    "pivot_df"
   ]
  },
  {
   "cell_type": "code",
   "execution_count": 686,
   "metadata": {},
   "outputs": [],
   "source": [
    "with open('pivot_df_60.pkl', 'wb') as f:  \n",
    "    pickle.dump(pivot_df, f)"
   ]
  },
  {
   "cell_type": "code",
   "execution_count": 687,
   "metadata": {},
   "outputs": [],
   "source": [
    "colors = [\"pink\", \"bisque\",\"olive\",\"skyblue\",\"goldenrod\",\"thistle\",\"gray\"]"
   ]
  },
  {
   "cell_type": "code",
   "execution_count": 693,
   "metadata": {},
   "outputs": [],
   "source": [
    "predictors = ['CNN_T', 'CNN_M', 'LASSO_M', 'MCNN_T', 'RF_M', 'RF_T', 'Random']\n",
    "y_pos = np.arange(len(predictors))"
   ]
  },
  {
   "cell_type": "code",
   "execution_count": 728,
   "metadata": {},
   "outputs": [
    {
     "data": {
      "image/png": "[encoded data removed]",
      "text/plain": [
       "<Figure size 936x720 with 1 Axes>"
      ]
     },
     "metadata": {
      "needs_background": "light"
     },
     "output_type": "display_data"
    }
   ],
   "source": [
    "pivot_df.plot.bar(stacked=True, color=colors, figsize=(13,10))\n",
    "plt.xticks(y_pos, predictors, rotation=0, fontsize=16)\n",
    "plt.yticks(fontsize=16)\n",
    "#plt.xlabel('Models', fontsize=18)\n",
    "plt.legend(loc=2, prop={'size': 16})\n",
    "plt.xlabel('')\n",
    "plt.ylabel('Number of features predicted', fontsize=20)\n",
    "plt.title('Prediction for 60 features from each dataset', fontsize=20)\n",
    "plt.savefig('benchmark.png', dpi=500)"
   ]
  },
  {
   "cell_type": "code",
   "execution_count": 358,
   "metadata": {},
   "outputs": [],
   "source": [
    "predictors = ['RF', 'LASSO', 'CNN', 'MCNN', 'Random', 'Dummy']\n",
    "y_pos = np.arange(len(predictors))"
   ]
  },
  {
   "cell_type": "code",
   "execution_count": 359,
   "metadata": {},
   "outputs": [],
   "source": [
    "features = [RF_df.shape[0], LS_df.shape[0], CNN_df.shape[0], \n",
    "            MCNN_df.shape[0], Random_df.shape[0], Dummy_df.shape[0]]"
   ]
  },
  {
   "cell_type": "code",
   "execution_count": null,
   "metadata": {},
   "outputs": [],
   "source": [
    "import seaborn as sns"
   ]
  },
  {
   "cell_type": "code",
   "execution_count": 338,
   "metadata": {},
   "outputs": [
    {
     "data": {
      "image/png": "[encoded data removed]",
      "text/plain": [
       "<Figure size 432x288 with 1 Axes>"
      ]
     },
     "metadata": {
      "needs_background": "light"
     },
     "output_type": "display_data"
    }
   ],
   "source": [
    "#Plot the results\n",
    "f = plt.figure()\n",
    "plt.bar(y_pos, features, color=['firebrick', 'gold', 'olivedrab', 'royalblue', \n",
    "                                       'cyan', 'salmon'])\n",
    "plt.xticks(y_pos, predictors)\n",
    "plt.xlabel('Model')\n",
    "plt.ylabel('Number of features predicted')\n",
    "plt.title('Prediction for 20 features from each dataset')\n",
    "plt.xticks(rotation=0)\n",
    "#plt.show()\n",
    "\n",
    "#os.chdir(Desktop)\n",
    "f.savefig(\"Bars.pdf\", bbox_inches='tight')"
   ]
  },
  {
   "cell_type": "code",
   "execution_count": null,
   "metadata": {},
   "outputs": [],
   "source": [
    "#Boxplots\n",
    "bxp = sns.boxplot(x=predictors, y=features, palette=\"Set2\")\n",
    "bxp.set_xticklabels(bxp.get_xticklabels(),rotation=0)\n",
    "plt.xlabel('Models')\n",
    "plt.ylabel('Spearman r')\n",
    "plt.title('Accuracy over 20 features per omic dataset')\n",
    "#plt.show()\n",
    "fig = bxp.get_figure()\n",
    "fig.savefig(\"boxesFeat_serum_l_test.pdf\")"
   ]
  }
 ],
 "metadata": {
  "kernelspec": {
   "display_name": "Python 3",
   "language": "python",
   "name": "python3"
  },
  "language_info": {
   "codemirror_mode": {
    "name": "ipython",
    "version": 3
   },
   "file_extension": ".py",
   "mimetype": "text/x-python",
   "name": "python",
   "nbconvert_exporter": "python",
   "pygments_lexer": "ipython3",
   "version": "3.7.4"
  }
 },
 "nbformat": 4,
 "nbformat_minor": 4
}
