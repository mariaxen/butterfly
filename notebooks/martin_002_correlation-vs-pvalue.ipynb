{
 "cells": [
  {
   "cell_type": "markdown",
   "metadata": {},
   "source": [
    "# Preamble"
   ]
  },
  {
   "cell_type": "code",
   "execution_count": 1,
   "metadata": {},
   "outputs": [],
   "source": [
    "%load_ext autoreload\n",
    "%autoreload 2\n",
    "\n",
    "# disable parallelization for BLAS and co.\n",
    "from nalabtools.utils.parallelization import set_threads_for_external_libraries\n",
    "set_threads_for_external_libraries(n_threads=1)\n",
    "\n",
    "# general\n",
    "import re\n",
    "import collections\n",
    "import pickle\n",
    "\n",
    "# data\n",
    "import numpy as np\n",
    "import pandas as pd\n",
    "\n",
    "# ml / stats\n",
    "import sklearn\n",
    "import statsmodels.stats.multitest\n",
    "\n",
    "# plotting\n",
    "import seaborn as sns\n",
    "import matplotlib.pyplot as plt\n",
    "\n",
    "# nalab\n",
    "import nalabtools\n",
    "\n",
    "# init notebook files\n",
    "import nalabtools.utils.misc\n",
    "nb = nalabtools.utils.misc.NotebookContext(\"martin_001_deepinsight\")"
   ]
  },
  {
   "cell_type": "markdown",
   "metadata": {},
   "source": [
    "# Correlation vs. p-value\n"
   ]
  },
  {
   "cell_type": "code",
   "execution_count": 3,
   "metadata": {},
   "outputs": [],
   "source": [
    "import scipy.stats\n",
    "def sample_pearson(c=1, n_data=100, n_samples=100):\n",
    "    for i in range(n_samples):\n",
    "        data = np.random.multivariate_normal((0,0), np.array([[1,c],[c,1]]), n_data)\n",
    "        yield scipy.stats.pearsonr(data[:,0], data[:,1])\n",
    "\n",
    "def sample_values(n_c, n_samples, n_data):\n",
    "\n",
    "    values = np.empty((n_c * n_samples, 3))\n",
    "    for i_c, c in enumerate(np.linspace(0,1, n_c)):\n",
    "        for i_r, (r, p) in enumerate(sample_pearson(c=c, n_data=n_data, n_samples=n_samples)):\n",
    "            values[i_c * n_samples + i_r, :] = c, r, p\n",
    "    return values\n",
    "\n",
    "def sample_df(values):\n",
    "    df = pd.DataFrame(values, columns=[\"c\", \"r\", \"p\"])\n",
    "    mean = df.groupby(\"c\").mean()\n",
    "    std = df.groupby(\"c\").std()\n",
    "    return mean, std\n"
   ]
  },
  {
   "cell_type": "code",
   "execution_count": 4,
   "metadata": {},
   "outputs": [
    {
     "data": {
      "text/plain": [
       "<matplotlib.legend.Legend at 0x7f49352a7090>"
      ]
     },
     "execution_count": 4,
     "metadata": {},
     "output_type": "execute_result"
    },
    {
     "data": {
      "image/png": "[encoded data removed]",
      "text/plain": [
       "<Figure size 432x288 with 1 Axes>"
      ]
     },
     "metadata": {
      "needs_background": "light"
     },
     "output_type": "display_data"
    }
   ],
   "source": [
    "m1, s1 = sample_df(sample_values(n_c=100, n_samples=100, n_data=10))\n",
    "m2, s2 = sample_df(sample_values(n_c=100, n_samples=100, n_data=50))\n",
    "m3, s3 = sample_df(sample_values(n_c=100, n_samples=100, n_data=100))\n",
    "m4, s4 = sample_df(sample_values(n_c=100, n_samples=100, n_data=1000))\n",
    "\n",
    "plt.scatter(m1.values[:,0], m1.values[:,1], label=f\"data={10}\")\n",
    "plt.scatter(m2.values[:,0], m2.values[:,1], label=f\"data={50}\")\n",
    "plt.scatter(m3.values[:,0], m3.values[:,1], label=f\"data={100}\")\n",
    "plt.scatter(m4.values[:,0], m4.values[:,1], label=f\"data={1000}\")\n",
    "plt.xlabel(\"r\")\n",
    "plt.ylabel(\"p\")\n",
    "plt.legend()\n",
    "# plt.figure()\n",
    "# plt.errorbar(mean.values[:,0], mean.values[:,1], xerr=std.values[:,0], yerr=std.values[:,1])\n",
    "# plt.figure()\n",
    "# plt.errorbar(mean.values[:,0], -np.log10(mean.values[:,1]), xerr=std.values[:,0], yerr=-np.log10(std.values[:,1]))\n",
    "# # sns.scatterplot(x=\"r\", y=\"p\", data=df.groupby(\"c\").mean())"
   ]
  },
  {
   "cell_type": "code",
   "execution_count": null,
   "metadata": {},
   "outputs": [],
   "source": []
  }
 ],
 "metadata": {
  "kernelspec": {
   "display_name": "Python (butterfly)",
   "language": "python",
   "name": "nalab-butterfly"
  },
  "language_info": {
   "codemirror_mode": {
    "name": "ipython",
    "version": 3
   },
   "file_extension": ".py",
   "mimetype": "text/x-python",
   "name": "python",
   "nbconvert_exporter": "python",
   "pygments_lexer": "ipython3",
   "version": "3.7.6"
  }
 },
 "nbformat": 4,
 "nbformat_minor": 4
}
