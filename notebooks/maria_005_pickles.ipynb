{
 "cells": [
  {
   "cell_type": "code",
   "execution_count": 1,
   "metadata": {},
   "outputs": [
    {
     "name": "stderr",
     "output_type": "stream",
     "text": [
      "Using TensorFlow backend.\n",
      "/home/mxenoc/anaconda3/lib/python3.7/site-packages/tensorflow/python/framework/dtypes.py:526: FutureWarning: Passing (type, 1) or '1type' as a synonym of type is deprecated; in a future version of numpy, it will be understood as (type, (1,)) / '(1,)type'.\n",
      "  _np_qint8 = np.dtype([(\"qint8\", np.int8, 1)])\n",
      "/home/mxenoc/anaconda3/lib/python3.7/site-packages/tensorflow/python/framework/dtypes.py:527: FutureWarning: Passing (type, 1) or '1type' as a synonym of type is deprecated; in a future version of numpy, it will be understood as (type, (1,)) / '(1,)type'.\n",
      "  _np_quint8 = np.dtype([(\"quint8\", np.uint8, 1)])\n",
      "/home/mxenoc/anaconda3/lib/python3.7/site-packages/tensorflow/python/framework/dtypes.py:528: FutureWarning: Passing (type, 1) or '1type' as a synonym of type is deprecated; in a future version of numpy, it will be understood as (type, (1,)) / '(1,)type'.\n",
      "  _np_qint16 = np.dtype([(\"qint16\", np.int16, 1)])\n",
      "/home/mxenoc/anaconda3/lib/python3.7/site-packages/tensorflow/python/framework/dtypes.py:529: FutureWarning: Passing (type, 1) or '1type' as a synonym of type is deprecated; in a future version of numpy, it will be understood as (type, (1,)) / '(1,)type'.\n",
      "  _np_quint16 = np.dtype([(\"quint16\", np.uint16, 1)])\n",
      "/home/mxenoc/anaconda3/lib/python3.7/site-packages/tensorflow/python/framework/dtypes.py:530: FutureWarning: Passing (type, 1) or '1type' as a synonym of type is deprecated; in a future version of numpy, it will be understood as (type, (1,)) / '(1,)type'.\n",
      "  _np_qint32 = np.dtype([(\"qint32\", np.int32, 1)])\n",
      "/home/mxenoc/anaconda3/lib/python3.7/site-packages/tensorflow/python/framework/dtypes.py:535: FutureWarning: Passing (type, 1) or '1type' as a synonym of type is deprecated; in a future version of numpy, it will be understood as (type, (1,)) / '(1,)type'.\n",
      "  np_resource = np.dtype([(\"resource\", np.ubyte, 1)])\n"
     ]
    }
   ],
   "source": [
    "%load_ext autoreload\n",
    "%autoreload 2\n",
    "\n",
    "import os \n",
    "import pyreadr\n",
    "import numpy as np\n",
    "import pyreadr\n",
    "import pandas as pd\n",
    "import multiprocessing\n",
    "from joblib import Parallel, delayed\n",
    "import butterfly.album\n",
    "import butterfly.Models\n",
    "from itertools import combinations \n",
    "from joblib import parallel_backend\n",
    "import matplotlib.pyplot as plt\n",
    "from datetime import datetime\n",
    "from tqdm import tqdm\n",
    "from sklearn.metrics import r2_score\n",
    "import pickle\n",
    "from sklearn.model_selection import GroupKFold\n",
    "from random import sample\n",
    "from scipy import stats\n",
    "from sklearn.metrics import mean_absolute_error\n",
    "import seaborn as sns\n",
    "from sklearn.preprocessing import StandardScaler\n",
    "from sklearn.preprocessing import QuantileTransformer"
   ]
  },
  {
   "cell_type": "code",
   "execution_count": 2,
   "metadata": {},
   "outputs": [],
   "source": [
    "#Define the predictor datasets\n",
    "omics = ['rna', 'plasma_l', 'serum_l', 'microb', 'immune', 'metabol', 'plasma_s']"
   ]
  },
  {
   "cell_type": "code",
   "execution_count": 3,
   "metadata": {},
   "outputs": [],
   "source": [
    "#Import your data\n",
    "#DF = pyreadr.read_r('/Users/mxenoc/Desktop/workspace/butterfly/data/omics.RData')\n",
    "DF = pyreadr.read_r('/home/mxenoc/workspace/butterfly/data/omics.RData')\n",
    "DF = DF[\"DF\"]"
   ]
  },
  {
   "cell_type": "code",
   "execution_count": null,
   "metadata": {},
   "outputs": [],
   "source": [
    "pixels = 128 #image size\n",
    "perplexity = 75 #perplexity for the tsne\n",
    "scaler = \"QuantileTransformer\"\n",
    "\n",
    "albums_all_75 = []\n",
    "for predictor_index in tqdm(range(len(omics))):\n",
    "    \n",
    "    #Get your predictor dataset\n",
    "    predictors = list(omics)\n",
    "    predictors.remove(omics[predictor_index])\n",
    "    predictors = tuple(predictors)\n",
    "\n",
    "    albums_all_75.append(butterfly.album.create_album(\n",
    "        DF, predictors, pixels, perplexity, scaler))"
   ]
  },
  {
   "cell_type": "code",
   "execution_count": 42,
   "metadata": {},
   "outputs": [],
   "source": [
    "os.chdir('/home/mxenoc/workspace/butterfly/data/pickles')\n",
    "with open('albums_all_QT_75.pkl', 'wb') as f:  \n",
    "    pickle.dump(albums_all_75, f)"
   ]
  },
  {
   "cell_type": "code",
   "execution_count": 43,
   "metadata": {},
   "outputs": [],
   "source": [
    "RF_predictor = []\n",
    "for predictor_index in range(len(omics)):\n",
    "    \n",
    "    #Get your predictor dataset\n",
    "    DFB = DF.copy()\n",
    "\n",
    "    unwanted = DFB.columns[DFB.columns.str.startswith(omics[predictor_index])]\n",
    "    DFB.drop(unwanted, axis=1, inplace=True)\n",
    "    DFB.drop(['patient_TR', 'patientID', 'trimester'], axis=1, inplace=True)\n",
    "    DFB = DFB.values\n",
    "    DFB = QuantileTransformer(n_quantiles=10, random_state=0).fit_transform(DFB)\n",
    "\n",
    "    RF_predictor.append(DFB)"
   ]
  },
  {
   "cell_type": "code",
   "execution_count": 44,
   "metadata": {},
   "outputs": [],
   "source": [
    "os.chdir('/home/mxenoc/workspace/butterfly/data/pickles')\n",
    "with open('RF_predictor_QT.pkl', 'wb') as f:  \n",
    "    pickle.dump(RF_predictor, f)"
   ]
  },
  {
   "cell_type": "code",
   "execution_count": 113,
   "metadata": {},
   "outputs": [],
   "source": [
    "groups_c = []\n",
    "for predictor_index in range(len(omics)):\n",
    "    \n",
    "    #Get your predictor dataset\n",
    "    DFB = DF.copy()\n",
    "\n",
    "    unwanted = DFB.columns[DFB.columns.str.startswith(omics[predictor_index])]\n",
    "    DFB.drop(unwanted, axis=1, inplace=True)\n",
    "    DFB.drop(['patient_TR', 'patientID', 'trimester'], axis=1, inplace=True)\n",
    "    DFB = pd.DataFrame(DFB.columns.values)\n",
    "    DFB.columns = ['test']\n",
    "\n",
    "    DFB['rna'] = np.where(DFB.test.str.startswith(omics[0]), 1, 0)\n",
    "    DFB['plasma_l'] = np.where(DFB.test.str.startswith(omics[1]), 2, 0)\n",
    "    DFB['serum_l'] = np.where(DFB.test.str.startswith(omics[2]), 3, 0)\n",
    "    DFB['microb'] = np.where(DFB.test.str.startswith(omics[3]), 4, 0)\n",
    "    DFB['immune'] = np.where(DFB.test.str.startswith(omics[4]), 5, 0)\n",
    "    DFB['metabol'] = np.where(DFB.test.str.startswith(omics[5]), 6, 0)\n",
    "    DFB['plasma_s'] = np.where(DFB.test.str.startswith(omics[6]), 7, 0)\n",
    "\n",
    "    DFB = DFB.drop(['test'], axis=1)\n",
    "    DFB['group_cols']= DFB.sum(axis=1)\n",
    "\n",
    "    groups_c.append(DFB['group_cols'])"
   ]
  },
  {
   "cell_type": "code",
   "execution_count": 117,
   "metadata": {},
   "outputs": [],
   "source": [
    "os.chdir('/home/mxenoc/workspace/butterfly/data/pickles')\n",
    "with open('groups_c.pkl', 'wb') as f:  \n",
    "    pickle.dump(groups_c, f)"
   ]
  },
  {
   "cell_type": "code",
   "execution_count": 45,
   "metadata": {},
   "outputs": [],
   "source": [
    "pixels = 40 #image size\n",
    "perplexity = 25 #perplexity for the tsne\n",
    "scaler = \"QuantileTransformer\"\n",
    "\n",
    "albums = Parallel(n_jobs=len(omics))(delayed(butterfly.album.create_album)\n",
    "                                                    (DF, omics[al], pixels, perplexity, scaler)\n",
    "                                                    for al in range(len(omics)))"
   ]
  },
  {
   "cell_type": "code",
   "execution_count": 46,
   "metadata": {},
   "outputs": [],
   "source": [
    "os.chdir('/home/mxenoc/workspace/butterfly/data/pickles')\n",
    "with open('albums_QT.pkl', 'wb') as f:  \n",
    "    pickle.dump(albums, f)"
   ]
  },
  {
   "cell_type": "code",
   "execution_count": 10,
   "metadata": {},
   "outputs": [],
   "source": [
    "n_samples = 10 #features to sample from each dataset\n",
    "\n",
    "#Define the predictor datasets\n",
    "omics = ['rna', 'plasma_l', 'serum_l', 'microb', 'immune', 'metabol', 'plasma_s']\n",
    "\n",
    "#Import your data\n",
    "#DF = pyreadr.read_r('/Users/mxenoc/Desktop/workspace/butterfly/data/omics.RData')\n",
    "DF = pyreadr.read_r('/home/mxenoc/workspace/butterfly/data/omics.RData')\n",
    "DF = DF[\"DF\"]\n",
    "\n",
    "responses = []\n",
    "for predictor_index in range(len(omics)):\n",
    "    \n",
    "    #Get your response dataset\n",
    "    DFB = DF.copy()\n",
    "    response = sample([col for col in DFB if col.startswith(omics[predictor_index])], n_samples)\n",
    "    responses.append(response)"
   ]
  },
  {
   "cell_type": "code",
   "execution_count": 11,
   "metadata": {},
   "outputs": [],
   "source": [
    "os.chdir('/home/mxenoc/workspace/butterfly/data/pickles')\n",
    "with open('responses_10.pkl', 'wb') as f:  \n",
    "    pickle.dump(responses, f)"
   ]
  },
  {
   "cell_type": "code",
   "execution_count": 71,
   "metadata": {},
   "outputs": [],
   "source": [
    "os.chdir('/home/mxenoc/workspace/butterfly/src/butterfly')"
   ]
  },
  {
   "cell_type": "code",
   "execution_count": 72,
   "metadata": {},
   "outputs": [],
   "source": [
    "with open('albums.pkl', 'rb') as f:\n",
    "    albums = pickle.load(f)"
   ]
  },
  {
   "cell_type": "code",
   "execution_count": 23,
   "metadata": {},
   "outputs": [],
   "source": [
    "pixels = 40 #image size\n",
    "perplexity = 25 #perplexity for the tsne\n",
    "scaler = \"Standard\"\n",
    "al = 0\n",
    "\n",
    "albums = butterfly.album.create_album(DF, omics[al], pixels, perplexity, scaler)"
   ]
  },
  {
   "cell_type": "code",
   "execution_count": 73,
   "metadata": {},
   "outputs": [],
   "source": [
    "pic = albums[5][5]"
   ]
  },
  {
   "cell_type": "code",
   "execution_count": 74,
   "metadata": {},
   "outputs": [
    {
     "data": {
      "image/png": "[encoded data removed]",
      "text/plain": [
       "<Figure size 432x288 with 1 Axes>"
      ]
     },
     "metadata": {
      "needs_background": "light"
     },
     "output_type": "display_data"
    }
   ],
   "source": [
    "plot_im = plt.imshow(pic, cmap = 'RdGy')"
   ]
  },
  {
   "cell_type": "code",
   "execution_count": 89,
   "metadata": {},
   "outputs": [
    {
     "data": {
      "text/plain": [
       "<matplotlib.axes._subplots.AxesSubplot at 0x7f82d85c78d0>"
      ]
     },
     "execution_count": 89,
     "metadata": {},
     "output_type": "execute_result"
    },
    {
     "data": {
      "image/png": "[encoded data removed]",
      "text/plain": [
       "<Figure size 432x288 with 2 Axes>"
      ]
     },
     "metadata": {
      "needs_background": "light"
     },
     "output_type": "display_data"
    }
   ],
   "source": [
    "import seaborn as sns\n",
    "sns.heatmap(pic)"
   ]
  },
  {
   "cell_type": "code",
   "execution_count": null,
   "metadata": {},
   "outputs": [],
   "source": []
  },
  {
   "cell_type": "code",
   "execution_count": null,
   "metadata": {},
   "outputs": [],
   "source": []
  }
 ],
 "metadata": {
  "kernelspec": {
   "display_name": "Python 3",
   "language": "python",
   "name": "python3"
  },
  "language_info": {
   "codemirror_mode": {
    "name": "ipython",
    "version": 3
   },
   "file_extension": ".py",
   "mimetype": "text/x-python",
   "name": "python",
   "nbconvert_exporter": "python",
   "pygments_lexer": "ipython3",
   "version": "3.7.4"
  }
 },
 "nbformat": 4,
 "nbformat_minor": 4
}
