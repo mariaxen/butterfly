{
 "cells": [
  {
   "cell_type": "markdown",
   "metadata": {
    "Collapsed": "false"
   },
   "source": [
    "# Preamble"
   ]
  },
  {
   "cell_type": "code",
   "execution_count": 1,
   "metadata": {
    "Collapsed": "false"
   },
   "outputs": [],
   "source": [
    "%load_ext autoreload\n",
    "%autoreload 2\n",
    "\n",
    "# disable parallelization for BLAS and co.\n",
    "from nalabtools.utils.parallelization import set_threads_for_external_libraries\n",
    "set_threads_for_external_libraries(n_threads=1)\n",
    "\n",
    "# general\n",
    "import re\n",
    "import collections\n",
    "import pickle\n",
    "\n",
    "# data\n",
    "import numpy as np\n",
    "import pandas as pd\n",
    "\n",
    "# ml / stats\n",
    "import scipy\n",
    "import sklearn\n",
    "import statsmodels.stats.multitest\n",
    "\n",
    "# plotting\n",
    "import seaborn as sns\n",
    "import matplotlib.pyplot as plt\n",
    "\n",
    "# nalab\n",
    "import nalabtools\n",
    "\n",
    "# init notebook files\n",
    "import nalabtools.utils.misc\n",
    "nb = nalabtools.utils.misc.NotebookContext(\"butterfly___martin_003_deepinsight\")"
   ]
  },
  {
   "cell_type": "code",
   "execution_count": 2,
   "metadata": {
    "Collapsed": "false"
   },
   "outputs": [],
   "source": [
    "import time"
   ]
  },
  {
   "cell_type": "code",
   "execution_count": 3,
   "metadata": {
    "Collapsed": "false"
   },
   "outputs": [],
   "source": [
    "def format_duration(totsec):\n",
    "    h = totsec//3600\n",
    "    m = (totsec%3600) // 60\n",
    "    sec =(totsec%3600)%60 #just for reference\n",
    "    print(\"%dh %dm %ds\" %(h,m,sec))"
   ]
  },
  {
   "cell_type": "code",
   "execution_count": 4,
   "metadata": {
    "Collapsed": "false"
   },
   "outputs": [
    {
     "data": {
      "text/plain": [
       "'3.1.0'"
      ]
     },
     "execution_count": 4,
     "metadata": {},
     "output_type": "execute_result"
    }
   ],
   "source": [
    "import rpy2\n",
    "rpy2.__version__"
   ]
  },
  {
   "cell_type": "code",
   "execution_count": 5,
   "metadata": {
    "Collapsed": "false"
   },
   "outputs": [
    {
     "name": "stderr",
     "output_type": "stream",
     "text": [
      "/home/mgbckr/miniconda3/envs/analysis3.7/lib/python3.7/site-packages/rpy2/robjects/pandas2ri.py:14: FutureWarning: pandas.core.index is deprecated and will be removed in a future version.  The public classes are available in the top-level namespace.\n",
      "  from pandas.core.index import Index as PandasIndex\n"
     ]
    }
   ],
   "source": [
    "%load_ext rpy2.ipython"
   ]
  },
  {
   "cell_type": "code",
   "execution_count": 6,
   "metadata": {
    "Collapsed": "false"
   },
   "outputs": [
    {
     "name": "stdout",
     "output_type": "stream",
     "text": [
      "[1] \"/home/mgbckr/miniconda3/envs/analysis3.7/lib/R\"\n"
     ]
    }
   ],
   "source": [
    "%%R\n",
    "R.home()"
   ]
  },
  {
   "cell_type": "markdown",
   "metadata": {
    "Collapsed": "false"
   },
   "source": [
    "# Load data"
   ]
  },
  {
   "cell_type": "code",
   "execution_count": 7,
   "metadata": {
    "Collapsed": "false"
   },
   "outputs": [],
   "source": [
    "import pathlib\n",
    "import nalabdata.fcs.load\n",
    "import nalabdata.fcs.meta"
   ]
  },
  {
   "cell_type": "code",
   "execution_count": 8,
   "metadata": {
    "Collapsed": "false"
   },
   "outputs": [
    {
     "name": "stdout",
     "output_type": "stream",
     "text": [
      "Loading from FCS files; this may take a while ...\n"
     ]
    },
    {
     "name": "stderr",
     "output_type": "stream",
     "text": [
      "R[write to console]: Loading required package: foreach\n",
      "\n",
      "R[write to console]: Loading required package: iterators\n",
      "\n",
      "R[write to console]: Loading required package: parallel\n",
      "\n",
      "R[write to console]: \n",
      "Attaching package: ‘dplyr’\n",
      "\n",
      "\n",
      "R[write to console]: The following object is masked from ‘package:flowCore’:\n",
      "\n",
      "    filter\n",
      "\n",
      "\n",
      "R[write to console]: The following objects are masked from ‘package:stats’:\n",
      "\n",
      "    filter, lag\n",
      "\n",
      "\n",
      "R[write to console]: The following objects are masked from ‘package:base’:\n",
      "\n",
      "    intersect, setdiff, setequal, union\n",
      "\n",
      "\n",
      "R[write to console]: \n",
      "\n",
      "R[write to console]: Warning messages:\n",
      "\n",
      "R[write to console]: 1: \n",
      "R[write to console]: In .getGeneric(f, where, package) :\n",
      "R[write to console]: \n",
      " \n",
      "R[write to console]:  input string 'unable to find an inherited method for function ‘spillover’ for signature.*(flowSet|ncdfFlowSet)' cannot be translated to UTF-8, is it valid in 'ANSI_X3.4-1968'?\n",
      "\n",
      "R[write to console]: 2: \n",
      "R[write to console]: In .getGeneric(f, where, package) :\n",
      "R[write to console]: \n",
      " \n",
      "R[write to console]:  input string 'unable to find an inherited method for function ‘spillover’ for signature.*(flowSet|ncdfFlowSet)' cannot be translated to UTF-8, is it valid in 'ANSI_X3.4-1968'?\n",
      "\n",
      "R[write to console]: 3: \n",
      "R[write to console]: In .getGeneric(f, where, package) :\n",
      "R[write to console]: \n",
      " \n",
      "R[write to console]:  input string 'unable to find an inherited method for function ‘spillover’ for signature.*(flowSet|ncdfFlowSet)' cannot be translated to UTF-8, is it valid in 'ANSI_X3.4-1968'?\n",
      "\n"
     ]
    },
    {
     "ename": "RRuntimeError",
     "evalue": "",
     "output_type": "error",
     "traceback": [
      "\u001b[0;31m---------------------------------------------------------------------------\u001b[0m",
      "\u001b[0;31mRRuntimeError\u001b[0m                             Traceback (most recent call last)",
      "\u001b[0;32m<ipython-input-8-b368a1899e48>\u001b[0m in \u001b[0;36m<module>\u001b[0;34m\u001b[0m\n\u001b[1;32m     19\u001b[0m         \u001b[0mcell_filter\u001b[0m\u001b[0;34m=\u001b[0m\u001b[0;34m\"granulocytes\"\u001b[0m\u001b[0;34m,\u001b[0m\u001b[0;34m\u001b[0m\u001b[0;34m\u001b[0m\u001b[0m\n\u001b[1;32m     20\u001b[0m         \u001b[0mn_cells_sample\u001b[0m\u001b[0;34m=\u001b[0m\u001b[0;36m10000\u001b[0m\u001b[0;34m,\u001b[0m\u001b[0;34m\u001b[0m\u001b[0;34m\u001b[0m\u001b[0m\n\u001b[0;32m---> 21\u001b[0;31m         n_jobs=64)\n\u001b[0m\u001b[1;32m     22\u001b[0m \u001b[0;34m\u001b[0m\u001b[0m\n\u001b[1;32m     23\u001b[0m     \u001b[0mpickle\u001b[0m\u001b[0;34m.\u001b[0m\u001b[0mdump\u001b[0m\u001b[0;34m(\u001b[0m\u001b[0;34m(\u001b[0m\u001b[0mdata_immuneclock_meta\u001b[0m\u001b[0;34m,\u001b[0m \u001b[0mdata_immuneclock_fcs\u001b[0m\u001b[0;34m)\u001b[0m\u001b[0;34m,\u001b[0m \u001b[0mopen\u001b[0m\u001b[0;34m(\u001b[0m\u001b[0mtmp_fcs_path\u001b[0m\u001b[0;34m,\u001b[0m \u001b[0;34m\"wb\"\u001b[0m\u001b[0;34m)\u001b[0m\u001b[0;34m)\u001b[0m\u001b[0;34m\u001b[0m\u001b[0;34m\u001b[0m\u001b[0m\n",
      "\u001b[0;32m~/mnt/nalab/workspaces/nalab-data/src/nalabdata/fcs/load.py\u001b[0m in \u001b[0;36mload_fcs\u001b[0;34m(files, n_cells_load, trans, cell_filter, n_cells_sample, n_jobs)\u001b[0m\n\u001b[1;32m     40\u001b[0m             \u001b[0mcell_filter\u001b[0m\u001b[0;34m=\u001b[0m\u001b[0mrpy2\u001b[0m\u001b[0;34m.\u001b[0m\u001b[0mrobjects\u001b[0m\u001b[0;34m.\u001b[0m\u001b[0mr\u001b[0m\u001b[0;34m(\u001b[0m\u001b[0;34m\"NULL\"\u001b[0m\u001b[0;34m)\u001b[0m \u001b[0;32mif\u001b[0m \u001b[0mcell_filter\u001b[0m \u001b[0;32mis\u001b[0m \u001b[0;32mNone\u001b[0m \u001b[0;32melse\u001b[0m \u001b[0mcell_filter\u001b[0m\u001b[0;34m,\u001b[0m\u001b[0;34m\u001b[0m\u001b[0;34m\u001b[0m\u001b[0m\n\u001b[1;32m     41\u001b[0m             \u001b[0mn_cells_sample\u001b[0m\u001b[0;34m=\u001b[0m\u001b[0mrpy2\u001b[0m\u001b[0;34m.\u001b[0m\u001b[0mrobjects\u001b[0m\u001b[0;34m.\u001b[0m\u001b[0mr\u001b[0m\u001b[0;34m(\u001b[0m\u001b[0;34m\"NULL\"\u001b[0m\u001b[0;34m)\u001b[0m \u001b[0;32mif\u001b[0m \u001b[0mn_cells_sample\u001b[0m \u001b[0;32mis\u001b[0m \u001b[0;32mNone\u001b[0m \u001b[0;32melse\u001b[0m \u001b[0mn_cells_sample\u001b[0m\u001b[0;34m,\u001b[0m\u001b[0;34m\u001b[0m\u001b[0;34m\u001b[0m\u001b[0m\n\u001b[0;32m---> 42\u001b[0;31m             n_jobs=n_jobs)\n\u001b[0m\u001b[1;32m     43\u001b[0m         with rpy2.robjects.conversion.localconverter(\n\u001b[1;32m     44\u001b[0m                 rpy2.robjects.default_converter + rpy2.robjects.pandas2ri.converter):\n",
      "\u001b[0;32m~/miniconda3/envs/analysis3.7/lib/python3.7/site-packages/rpy2/robjects/functions.py\u001b[0m in \u001b[0;36m__call__\u001b[0;34m(self, *args, **kwargs)\u001b[0m\n\u001b[1;32m    190\u001b[0m                 \u001b[0mkwargs\u001b[0m\u001b[0;34m[\u001b[0m\u001b[0mr_k\u001b[0m\u001b[0;34m]\u001b[0m \u001b[0;34m=\u001b[0m \u001b[0mv\u001b[0m\u001b[0;34m\u001b[0m\u001b[0;34m\u001b[0m\u001b[0m\n\u001b[1;32m    191\u001b[0m         return (super(SignatureTranslatedFunction, self)\n\u001b[0;32m--> 192\u001b[0;31m                 .__call__(*args, **kwargs))\n\u001b[0m\u001b[1;32m    193\u001b[0m \u001b[0;34m\u001b[0m\u001b[0m\n\u001b[1;32m    194\u001b[0m \u001b[0;34m\u001b[0m\u001b[0m\n",
      "\u001b[0;32m~/miniconda3/envs/analysis3.7/lib/python3.7/site-packages/rpy2/robjects/functions.py\u001b[0m in \u001b[0;36m__call__\u001b[0;34m(self, *args, **kwargs)\u001b[0m\n\u001b[1;32m    119\u001b[0m             \u001b[0;32melse\u001b[0m\u001b[0;34m:\u001b[0m\u001b[0;34m\u001b[0m\u001b[0;34m\u001b[0m\u001b[0m\n\u001b[1;32m    120\u001b[0m                 \u001b[0mnew_kwargs\u001b[0m\u001b[0;34m[\u001b[0m\u001b[0mk\u001b[0m\u001b[0;34m]\u001b[0m \u001b[0;34m=\u001b[0m \u001b[0mconversion\u001b[0m\u001b[0;34m.\u001b[0m\u001b[0mpy2rpy\u001b[0m\u001b[0;34m(\u001b[0m\u001b[0mv\u001b[0m\u001b[0;34m)\u001b[0m\u001b[0;34m\u001b[0m\u001b[0;34m\u001b[0m\u001b[0m\n\u001b[0;32m--> 121\u001b[0;31m         \u001b[0mres\u001b[0m \u001b[0;34m=\u001b[0m \u001b[0msuper\u001b[0m\u001b[0;34m(\u001b[0m\u001b[0mFunction\u001b[0m\u001b[0;34m,\u001b[0m \u001b[0mself\u001b[0m\u001b[0;34m)\u001b[0m\u001b[0;34m.\u001b[0m\u001b[0m__call__\u001b[0m\u001b[0;34m(\u001b[0m\u001b[0;34m*\u001b[0m\u001b[0mnew_args\u001b[0m\u001b[0;34m,\u001b[0m \u001b[0;34m**\u001b[0m\u001b[0mnew_kwargs\u001b[0m\u001b[0;34m)\u001b[0m\u001b[0;34m\u001b[0m\u001b[0;34m\u001b[0m\u001b[0m\n\u001b[0m\u001b[1;32m    122\u001b[0m         \u001b[0mres\u001b[0m \u001b[0;34m=\u001b[0m \u001b[0mconversion\u001b[0m\u001b[0;34m.\u001b[0m\u001b[0mrpy2py\u001b[0m\u001b[0;34m(\u001b[0m\u001b[0mres\u001b[0m\u001b[0;34m)\u001b[0m\u001b[0;34m\u001b[0m\u001b[0;34m\u001b[0m\u001b[0m\n\u001b[1;32m    123\u001b[0m         \u001b[0;32mreturn\u001b[0m \u001b[0mres\u001b[0m\u001b[0;34m\u001b[0m\u001b[0;34m\u001b[0m\u001b[0m\n",
      "\u001b[0;32m~/miniconda3/envs/analysis3.7/lib/python3.7/site-packages/rpy2/rinterface_lib/conversion.py\u001b[0m in \u001b[0;36m_\u001b[0;34m(*args, **kwargs)\u001b[0m\n\u001b[1;32m     26\u001b[0m \u001b[0;32mdef\u001b[0m \u001b[0m_cdata_res_to_rinterface\u001b[0m\u001b[0;34m(\u001b[0m\u001b[0mfunction\u001b[0m\u001b[0;34m)\u001b[0m\u001b[0;34m:\u001b[0m\u001b[0;34m\u001b[0m\u001b[0;34m\u001b[0m\u001b[0m\n\u001b[1;32m     27\u001b[0m     \u001b[0;32mdef\u001b[0m \u001b[0m_\u001b[0m\u001b[0;34m(\u001b[0m\u001b[0;34m*\u001b[0m\u001b[0margs\u001b[0m\u001b[0;34m,\u001b[0m \u001b[0;34m**\u001b[0m\u001b[0mkwargs\u001b[0m\u001b[0;34m)\u001b[0m\u001b[0;34m:\u001b[0m\u001b[0;34m\u001b[0m\u001b[0;34m\u001b[0m\u001b[0m\n\u001b[0;32m---> 28\u001b[0;31m         \u001b[0mcdata\u001b[0m \u001b[0;34m=\u001b[0m \u001b[0mfunction\u001b[0m\u001b[0;34m(\u001b[0m\u001b[0;34m*\u001b[0m\u001b[0margs\u001b[0m\u001b[0;34m,\u001b[0m \u001b[0;34m**\u001b[0m\u001b[0mkwargs\u001b[0m\u001b[0;34m)\u001b[0m\u001b[0;34m\u001b[0m\u001b[0;34m\u001b[0m\u001b[0m\n\u001b[0m\u001b[1;32m     29\u001b[0m         \u001b[0;31m# TODO: test cdata is of the expected CType\u001b[0m\u001b[0;34m\u001b[0m\u001b[0;34m\u001b[0m\u001b[0;34m\u001b[0m\u001b[0m\n\u001b[1;32m     30\u001b[0m         \u001b[0;32mreturn\u001b[0m \u001b[0m_cdata_to_rinterface\u001b[0m\u001b[0;34m(\u001b[0m\u001b[0mcdata\u001b[0m\u001b[0;34m)\u001b[0m\u001b[0;34m\u001b[0m\u001b[0;34m\u001b[0m\u001b[0m\n",
      "\u001b[0;32m~/miniconda3/envs/analysis3.7/lib/python3.7/site-packages/rpy2/rinterface.py\u001b[0m in \u001b[0;36m__call__\u001b[0;34m(self, *args, **kwargs)\u001b[0m\n\u001b[1;32m    783\u001b[0m                     error_occured))\n\u001b[1;32m    784\u001b[0m             \u001b[0;32mif\u001b[0m \u001b[0merror_occured\u001b[0m\u001b[0;34m[\u001b[0m\u001b[0;36m0\u001b[0m\u001b[0;34m]\u001b[0m\u001b[0;34m:\u001b[0m\u001b[0;34m\u001b[0m\u001b[0;34m\u001b[0m\u001b[0m\n\u001b[0;32m--> 785\u001b[0;31m                 \u001b[0;32mraise\u001b[0m \u001b[0membedded\u001b[0m\u001b[0;34m.\u001b[0m\u001b[0mRRuntimeError\u001b[0m\u001b[0;34m(\u001b[0m\u001b[0m_rinterface\u001b[0m\u001b[0;34m.\u001b[0m\u001b[0m_geterrmessage\u001b[0m\u001b[0;34m(\u001b[0m\u001b[0;34m)\u001b[0m\u001b[0;34m)\u001b[0m\u001b[0;34m\u001b[0m\u001b[0;34m\u001b[0m\u001b[0m\n\u001b[0m\u001b[1;32m    786\u001b[0m         \u001b[0;32mreturn\u001b[0m \u001b[0mres\u001b[0m\u001b[0;34m\u001b[0m\u001b[0;34m\u001b[0m\u001b[0m\n\u001b[1;32m    787\u001b[0m \u001b[0;34m\u001b[0m\u001b[0m\n",
      "\u001b[0;31mRRuntimeError\u001b[0m: "
     ]
    }
   ],
   "source": [
    "# immune clock\n",
    "tmp_fcs_path = pathlib.Path(nb.file(\"tmp_fcs_immuneclock.pickle\"))\n",
    "if tmp_fcs_path.exists():\n",
    "\n",
    "    print(\"Loading from temp file\")\n",
    "    data_immuneclock_meta, data_immuneclock_fcs = pickle.load(open(path, \"rb\"))\n",
    "    \n",
    "else:\n",
    "    \n",
    "    print(\"Loading from FCS files; this may take a while ...\")\n",
    "    \n",
    "    path = pathlib.Path(\"../data/_large/fcs/immune_clock/AllImmuneClock\")\n",
    "    files = list((path / \"Training\").glob(\"*\")) + list((path / \"Validation\").glob(\"*\"))\n",
    "\n",
    "    selected_files = files\n",
    "    data_immuneclock_meta = nalabdata.fcs.meta.meta_from_filenames(selected_files, context=\"immune_clock\")\n",
    "    data_immuneclock_fcs = nalabdata.fcs.load.load_fcs(\n",
    "        selected_files,  \n",
    "        cell_filter=\"granulocytes\", \n",
    "        n_cells_sample=10000,\n",
    "        n_jobs=64)\n",
    "    \n",
    "    pickle.dump((data_immuneclock_meta, data_immuneclock_fcs), open(tmp_fcs_path, \"wb\"))"
   ]
  },
  {
   "cell_type": "markdown",
   "metadata": {
    "Collapsed": "false"
   },
   "source": [
    "## AFCS"
   ]
  },
  {
   "cell_type": "code",
   "execution_count": 8,
   "metadata": {
    "Collapsed": "false"
   },
   "outputs": [
    {
     "name": "stderr",
     "output_type": "stream",
     "text": [
      "/home/mgbckr/mnt/nalab/workspaces/nalab-tools/src/nalabtools/utils/parallelization.py:48: UserWarning: This function should be called before `numpy` or similar modules are imported.\n",
      "  warnings.warn(\"This function should be called before `numpy` or similar modules are imported.\")\n"
     ]
    },
    {
     "name": "stdout",
     "output_type": "stream",
     "text": [
      "Loading from temp file\n"
     ]
    }
   ],
   "source": [
    "import nalabafcs.automate.run.steps\n",
    "import pathlib\n",
    "path = pathlib.Path(nb.file(\"fcs_temp.pickle\"))\n",
    "if path.exists():\n",
    "    print(\"Loading from temp file\")\n",
    "    data_fcs = pickle.load(open(path, \"rb\"))\n",
    "else:\n",
    "    print(\"Loading from FCS files\")\n",
    "    data_fcs = nalabafcs.automate.run.steps.load_fcs(n_jobs=100)\n",
    "pickle.dump(data_fcs, open(path, \"wb\"))"
   ]
  },
  {
   "cell_type": "code",
   "execution_count": 9,
   "metadata": {
    "Collapsed": "false"
   },
   "outputs": [
    {
     "data": {
      "text/plain": [
       "(840000, 41)"
      ]
     },
     "execution_count": 9,
     "metadata": {},
     "output_type": "execute_result"
    }
   ],
   "source": [
    "data_fcs.shape"
   ]
  },
  {
   "cell_type": "code",
   "execution_count": 451,
   "metadata": {
    "Collapsed": "false"
   },
   "outputs": [
    {
     "data": {
      "text/plain": [
       "21.0"
      ]
     },
     "execution_count": 451,
     "metadata": {},
     "output_type": "execute_result"
    }
   ],
   "source": [
    "data_fcs.index.unique().shape[0] / 4"
   ]
  },
  {
   "cell_type": "markdown",
   "metadata": {
    "Collapsed": "false"
   },
   "source": [
    "# Normalization"
   ]
  },
  {
   "cell_type": "code",
   "execution_count": 9,
   "metadata": {
    "Collapsed": "false"
   },
   "outputs": [],
   "source": [
    "preprocessing = sklearn.preprocessing.MinMaxScaler().fit(data_fcs.features)\n",
    "data_features = preprocessing.transform(data_fcs.features.values.copy(order=\"C\"))"
   ]
  },
  {
   "cell_type": "markdown",
   "metadata": {
    "Collapsed": "true"
   },
   "source": [
    "# Test embeddings"
   ]
  },
  {
   "cell_type": "markdown",
   "metadata": {
    "Collapsed": "false"
   },
   "source": [
    "Embedding packages:\n",
    "* https://github.com/DmitryUlyanov/Multicore-TSNE\n",
    "* https://github.com/pavlin-policar/openTSNE\n",
    "* https://github.com/CannyLab/tsne-cuda\n",
    "* https://github.com/lmcinnes/umap\n",
    "* https://github.com/eamid/trimap"
   ]
  },
  {
   "cell_type": "code",
   "execution_count": 7,
   "metadata": {
    "Collapsed": "false"
   },
   "outputs": [],
   "source": [
    "test_data = data_features"
   ]
  },
  {
   "cell_type": "markdown",
   "metadata": {
    "Collapsed": "false"
   },
   "source": [
    "## UMAP"
   ]
  },
  {
   "cell_type": "code",
   "execution_count": 61,
   "metadata": {
    "Collapsed": "false"
   },
   "outputs": [
    {
     "data": {
      "text/plain": [
       "'0.3.10'"
      ]
     },
     "execution_count": 61,
     "metadata": {},
     "output_type": "execute_result"
    }
   ],
   "source": [
    "import umap\n",
    "umap.__version__"
   ]
  },
  {
   "cell_type": "code",
   "execution_count": 47,
   "metadata": {
    "Collapsed": "false"
   },
   "outputs": [
    {
     "name": "stderr",
     "output_type": "stream",
     "text": [
      "/home/mgbckr/miniconda3/envs/analysis3.7/lib/python3.7/site-packages/numba/typed_passes.py:271: NumbaPerformanceWarning: \n",
      "The keyword argument 'parallel=True' was specified but no transformation for parallel execution was possible.\n",
      "\n",
      "To find out why, try turning on parallel diagnostics, see http://numba.pydata.org/numba-doc/latest/user/parallel.html#diagnostics for help.\n",
      "\n",
      "File \"../../../../../miniconda3/envs/analysis3.7/lib/python3.7/site-packages/umap/rp_tree.py\", line 135:\n",
      "@numba.njit(fastmath=True, nogil=True, parallel=True)\n",
      "def euclidean_random_projection_split(data, indices, rng_state):\n",
      "^\n",
      "\n",
      "  state.func_ir.loc))\n",
      "/home/mgbckr/miniconda3/envs/analysis3.7/lib/python3.7/site-packages/umap/nndescent.py:92: NumbaPerformanceWarning: \n",
      "The keyword argument 'parallel=True' was specified but no transformation for parallel execution was possible.\n",
      "\n",
      "To find out why, try turning on parallel diagnostics, see http://numba.pydata.org/numba-doc/latest/user/parallel.html#diagnostics for help.\n",
      "\n",
      "File \"../../../../../miniconda3/envs/analysis3.7/lib/python3.7/site-packages/umap/utils.py\", line 409:\n",
      "@numba.njit(parallel=True)\n",
      "def build_candidates(current_graph, n_vertices, n_neighbors, max_candidates, rng_state):\n",
      "^\n",
      "\n",
      "  current_graph, n_vertices, n_neighbors, max_candidates, rng_state\n",
      "/home/mgbckr/miniconda3/envs/analysis3.7/lib/python3.7/site-packages/numba/typed_passes.py:271: NumbaPerformanceWarning: \n",
      "The keyword argument 'parallel=True' was specified but no transformation for parallel execution was possible.\n",
      "\n",
      "To find out why, try turning on parallel diagnostics, see http://numba.pydata.org/numba-doc/latest/user/parallel.html#diagnostics for help.\n",
      "\n",
      "File \"../../../../../miniconda3/envs/analysis3.7/lib/python3.7/site-packages/umap/nndescent.py\", line 47:\n",
      "    @numba.njit(parallel=True)\n",
      "    def nn_descent(\n",
      "    ^\n",
      "\n",
      "  state.func_ir.loc))\n"
     ]
    }
   ],
   "source": [
    "start = time.time()\n",
    "embedding_umap = umap.UMAP().fit_transform(test_data)\n",
    "duration_um = time.time() - start"
   ]
  },
  {
   "cell_type": "code",
   "execution_count": 84,
   "metadata": {
    "Collapsed": "false"
   },
   "outputs": [
    {
     "name": "stdout",
     "output_type": "stream",
     "text": [
      "0h 49m 48s\n"
     ]
    }
   ],
   "source": [
    "format_duration(duration_um)"
   ]
  },
  {
   "cell_type": "code",
   "execution_count": 49,
   "metadata": {
    "Collapsed": "false"
   },
   "outputs": [
    {
     "data": {
      "image/png": "[encoded data removed]",
      "text/plain": [
       "<Figure size 432x288 with 1 Axes>"
      ]
     },
     "metadata": {
      "needs_background": "light"
     },
     "output_type": "display_data"
    }
   ],
   "source": [
    "plt.hist2d(embedding_umap[:,0], embedding_umap[:,1], bins=50, );"
   ]
  },
  {
   "cell_type": "markdown",
   "metadata": {
    "Collapsed": "false"
   },
   "source": [
    "## Multicore TSNE"
   ]
  },
  {
   "cell_type": "code",
   "execution_count": 54,
   "metadata": {
    "Collapsed": "false"
   },
   "outputs": [],
   "source": [
    "import MulticoreTSNE\n",
    "# MulticoreTSNE.__version__"
   ]
  },
  {
   "cell_type": "code",
   "execution_count": 55,
   "metadata": {
    "Collapsed": "false"
   },
   "outputs": [],
   "source": [
    "# %%time\n",
    "# tsne = MulticoreTSNE.MulticoreTSNE(n_jobs=1)\n",
    "# embedding = tsne.fit_transform(test_data)"
   ]
  },
  {
   "cell_type": "code",
   "execution_count": null,
   "metadata": {
    "Collapsed": "false"
   },
   "outputs": [],
   "source": [
    "start = time.time()\n",
    "embedding_mt = MulticoreTSNE.MulticoreTSNE(n_jobs=100).fit_transform(test_data)\n",
    "duration_mt = time.time() - start"
   ]
  },
  {
   "cell_type": "code",
   "execution_count": 85,
   "metadata": {
    "Collapsed": "false"
   },
   "outputs": [
    {
     "name": "stdout",
     "output_type": "stream",
     "text": [
      "1h 34m 24s\n"
     ]
    }
   ],
   "source": [
    "format_duration(duration_mt)"
   ]
  },
  {
   "cell_type": "code",
   "execution_count": null,
   "metadata": {
    "Collapsed": "false"
   },
   "outputs": [],
   "source": [
    "plt.hist2d(embedding_mt[:,0], embedding_mt[:,1], bins=50, );"
   ]
  },
  {
   "cell_type": "markdown",
   "metadata": {
    "Collapsed": "false"
   },
   "source": [
    "## openTSNE"
   ]
  },
  {
   "cell_type": "markdown",
   "metadata": {
    "Collapsed": "false"
   },
   "source": [
    "**WARNING**: seems to hang the kernel at least with pynndescent-0.3.3 ... let's try 0.4.6 which worked on my laptop ... nope, also hangs the kernel ... wtf???"
   ]
  },
  {
   "cell_type": "code",
   "execution_count": 50,
   "metadata": {
    "Collapsed": "false"
   },
   "outputs": [
    {
     "data": {
      "text/plain": [
       "'0.3.12'"
      ]
     },
     "execution_count": 50,
     "metadata": {},
     "output_type": "execute_result"
    }
   ],
   "source": [
    "import openTSNE\n",
    "openTSNE.__version__"
   ]
  },
  {
   "cell_type": "code",
   "execution_count": 51,
   "metadata": {
    "Collapsed": "false"
   },
   "outputs": [],
   "source": [
    "start = time.time()\n",
    "embedding_ot = openTSNE.TSNE(n_jobs=100).fit(test_data)\n",
    "duration_ot = time.time() - start"
   ]
  },
  {
   "cell_type": "code",
   "execution_count": 86,
   "metadata": {
    "Collapsed": "false"
   },
   "outputs": [
    {
     "name": "stdout",
     "output_type": "stream",
     "text": [
      "0h 21m 18s\n"
     ]
    }
   ],
   "source": [
    "format_duration(duration_ot)"
   ]
  },
  {
   "cell_type": "code",
   "execution_count": 53,
   "metadata": {
    "Collapsed": "false"
   },
   "outputs": [
    {
     "data": {
      "image/png": "[encoded data removed]",
      "text/plain": [
       "<Figure size 432x288 with 1 Axes>"
      ]
     },
     "metadata": {
      "needs_background": "light"
     },
     "output_type": "display_data"
    }
   ],
   "source": [
    "plt.hist2d(embedding_ot[:,0], embedding_ot[:,1], bins=50, );"
   ]
  },
  {
   "cell_type": "markdown",
   "metadata": {
    "Collapsed": "false"
   },
   "source": [
    "## FitSNE"
   ]
  },
  {
   "cell_type": "markdown",
   "metadata": {
    "Collapsed": "false"
   },
   "source": [
    "**WARNING**: kills the kernel if `n < m`\n"
   ]
  },
  {
   "cell_type": "code",
   "execution_count": 34,
   "metadata": {
    "Collapsed": "false"
   },
   "outputs": [],
   "source": [
    "import fitsne"
   ]
  },
  {
   "cell_type": "code",
   "execution_count": 35,
   "metadata": {
    "Collapsed": "false"
   },
   "outputs": [],
   "source": [
    "start = time.time()\n",
    "embedding_ft = fitsne.FItSNE(np.ascontiguousarray(test_data), nthreads=100)\n",
    "duration_ft = time.time() - start"
   ]
  },
  {
   "cell_type": "code",
   "execution_count": 87,
   "metadata": {
    "Collapsed": "false"
   },
   "outputs": [
    {
     "name": "stdout",
     "output_type": "stream",
     "text": [
      "0h 17m 15s\n"
     ]
    }
   ],
   "source": [
    "format_duration(duration_ft)"
   ]
  },
  {
   "cell_type": "code",
   "execution_count": null,
   "metadata": {
    "Collapsed": "false"
   },
   "outputs": [],
   "source": [
    "plt.hist2d(embedding_ft[:,0], embedding_ft[:,1], bins=40, );"
   ]
  },
  {
   "cell_type": "markdown",
   "metadata": {
    "Collapsed": "false"
   },
   "source": [
    "## Trimap"
   ]
  },
  {
   "cell_type": "code",
   "execution_count": 38,
   "metadata": {
    "Collapsed": "false"
   },
   "outputs": [
    {
     "data": {
      "text/plain": [
       "'1.0.13'"
      ]
     },
     "execution_count": 38,
     "metadata": {},
     "output_type": "execute_result"
    }
   ],
   "source": [
    "import trimap\n",
    "trimap.__version__"
   ]
  },
  {
   "cell_type": "code",
   "execution_count": 39,
   "metadata": {
    "Collapsed": "false"
   },
   "outputs": [
    {
     "name": "stdout",
     "output_type": "stream",
     "text": [
      "TRIMAP(n_inliers=10, n_outliers=5, n_random=5, distance=euclidean,lr=1000.0, n_iters=400, weight_adj=500.0, apply_pca=True, opt_method=dbd, verbose=True, return_seq=False)\n",
      "running TriMap on 840000 points with dimension 37\n",
      "pre-processing\n",
      "found nearest neighbors\n",
      "sampled triplets\n",
      "running TriMap with dbd\n",
      "Iteration:  100, Loss: 18862.326, Violated triplets: 0.0408\n",
      "Iteration:  200, Loss: 16833.502, Violated triplets: 0.0364\n",
      "Iteration:  300, Loss: 15701.461, Violated triplets: 0.0340\n",
      "Iteration:  400, Loss: 14985.802, Violated triplets: 0.0324\n",
      "Elapsed time: 0:41:27.672711\n"
     ]
    }
   ],
   "source": [
    "start = time.time()\n",
    "embedding_tm = trimap.TRIMAP().fit_transform(test_data)\n",
    "duration_tm = time.time() - start"
   ]
  },
  {
   "cell_type": "code",
   "execution_count": 88,
   "metadata": {
    "Collapsed": "false"
   },
   "outputs": [
    {
     "name": "stdout",
     "output_type": "stream",
     "text": [
      "0h 41m 27s\n"
     ]
    }
   ],
   "source": [
    "format_duration(duration_tm)"
   ]
  },
  {
   "cell_type": "code",
   "execution_count": 41,
   "metadata": {
    "Collapsed": "false"
   },
   "outputs": [
    {
     "data": {
      "image/png": "[encoded data removed]",
      "text/plain": [
       "<Figure size 432x288 with 1 Axes>"
      ]
     },
     "metadata": {
      "needs_background": "light"
     },
     "output_type": "display_data"
    }
   ],
   "source": [
    "plt.hist2d(embedding_tm[:,0], embedding_tm[:,1], bins=50, );"
   ]
  },
  {
   "cell_type": "markdown",
   "metadata": {
    "Collapsed": "false"
   },
   "source": [
    "## PCA"
   ]
  },
  {
   "cell_type": "code",
   "execution_count": 42,
   "metadata": {
    "Collapsed": "false"
   },
   "outputs": [
    {
     "data": {
      "text/plain": [
       "'0.22.1'"
      ]
     },
     "execution_count": 42,
     "metadata": {},
     "output_type": "execute_result"
    }
   ],
   "source": [
    "import sklearn.decomposition\n",
    "sklearn.__version__"
   ]
  },
  {
   "cell_type": "code",
   "execution_count": 43,
   "metadata": {
    "Collapsed": "false"
   },
   "outputs": [],
   "source": [
    "start = time.time()\n",
    "embedding_pca = sklearn.decomposition.PCA(n_components=2).fit_transform(test_data)\n",
    "duration_pca = time.time() - start"
   ]
  },
  {
   "cell_type": "code",
   "execution_count": 89,
   "metadata": {
    "Collapsed": "false"
   },
   "outputs": [
    {
     "name": "stdout",
     "output_type": "stream",
     "text": [
      "0h 0m 4s\n"
     ]
    }
   ],
   "source": [
    "format_duration(duration_pca)"
   ]
  },
  {
   "cell_type": "code",
   "execution_count": 45,
   "metadata": {
    "Collapsed": "false"
   },
   "outputs": [
    {
     "data": {
      "image/png": "[encoded data removed]",
      "text/plain": [
       "<Figure size 432x288 with 1 Axes>"
      ]
     },
     "metadata": {
      "needs_background": "light"
     },
     "output_type": "display_data"
    }
   ],
   "source": [
    "plt.hist2d(embedding_pca[:,0], embedding_pca[:,1], bins=50, );"
   ]
  },
  {
   "cell_type": "markdown",
   "metadata": {
    "Collapsed": "false"
   },
   "source": [
    "## Kernel PCA"
   ]
  },
  {
   "cell_type": "markdown",
   "metadata": {
    "Collapsed": "false"
   },
   "source": [
    "**WARNING**: Memory error for > 100000 samples"
   ]
  },
  {
   "cell_type": "code",
   "execution_count": 91,
   "metadata": {
    "Collapsed": "false"
   },
   "outputs": [
    {
     "data": {
      "text/plain": [
       "'0.22.1'"
      ]
     },
     "execution_count": 91,
     "metadata": {},
     "output_type": "execute_result"
    }
   ],
   "source": [
    "import sklearn.decomposition\n",
    "sklearn.__version__"
   ]
  },
  {
   "cell_type": "code",
   "execution_count": 99,
   "metadata": {
    "Collapsed": "false"
   },
   "outputs": [],
   "source": [
    "start = time.time()\n",
    "embedding_kp = sklearn.decomposition.KernelPCA(n_components=2, kernel=\"rbf\").fit_transform(test_data[:1000,:])\n",
    "duration_kp = time.time() - start"
   ]
  },
  {
   "cell_type": "code",
   "execution_count": 100,
   "metadata": {
    "Collapsed": "false"
   },
   "outputs": [
    {
     "name": "stdout",
     "output_type": "stream",
     "text": [
      "0h 0m 0s\n"
     ]
    }
   ],
   "source": [
    "format_duration(duration_kp)"
   ]
  },
  {
   "cell_type": "code",
   "execution_count": 101,
   "metadata": {
    "Collapsed": "false"
   },
   "outputs": [
    {
     "data": {
      "text/plain": [
       "<matplotlib.collections.PathCollection at 0x7fec40384190>"
      ]
     },
     "execution_count": 101,
     "metadata": {},
     "output_type": "execute_result"
    },
    {
     "data": {
      "image/png": "[encoded data removed]",
      "text/plain": [
       "<Figure size 432x288 with 1 Axes>"
      ]
     },
     "metadata": {
      "needs_background": "light"
     },
     "output_type": "display_data"
    }
   ],
   "source": [
    "plt.scatter(embedding_kp[:,0], embedding_kp[:,1])"
   ]
  },
  {
   "cell_type": "markdown",
   "metadata": {
    "Collapsed": "false"
   },
   "source": [
    "# Test single cell album transformer"
   ]
  },
  {
   "cell_type": "code",
   "execution_count": 43,
   "metadata": {
    "Collapsed": "false"
   },
   "outputs": [
    {
     "name": "stdout",
     "output_type": "stream",
     "text": [
      "Embedding\n"
     ]
    },
    {
     "name": "stderr",
     "output_type": "stream",
     "text": [
      "group:     0, row:   8, col:  38: : 0it [00:00, ?it/s]"
     ]
    },
    {
     "name": "stdout",
     "output_type": "stream",
     "text": [
      "Rotating\n",
      "Images\n"
     ]
    },
    {
     "name": "stderr",
     "output_type": "stream",
     "text": [
      "group:     2, row:  39, col:  39: : 3it [00:02,  1.11it/s]\n"
     ]
    },
    {
     "data": {
      "text/plain": [
       "<matplotlib.axes._subplots.AxesSubplot at 0x7fc02a7dc710>"
      ]
     },
     "execution_count": 43,
     "metadata": {},
     "output_type": "execute_result"
    },
    {
     "data": {
      "image/png": "[encoded data removed]",
      "text/plain": [
       "<Figure size 432x288 with 1 Axes>"
      ]
     },
     "metadata": {
      "needs_background": "light"
     },
     "output_type": "display_data"
    },
    {
     "data": {
      "image/png": "[encoded data removed]",
      "text/plain": [
       "<Figure size 432x288 with 2 Axes>"
      ]
     },
     "metadata": {
      "needs_background": "light"
     },
     "output_type": "display_data"
    },
    {
     "data": {
      "image/png": "[encoded data removed]",
      "text/plain": [
       "<Figure size 432x288 with 2 Axes>"
      ]
     },
     "metadata": {
      "needs_background": "light"
     },
     "output_type": "display_data"
    }
   ],
   "source": [
    "import numpy as np\n",
    "from sklearn.manifold import TSNE\n",
    "X = np.array([[0, 0, 0], [0, 1, 1], [1, 0, 1], [1, 1, 1]])\n",
    "X = np.random.random((1000, 20))\n",
    "groups = np.random.choice([1,2,3], 1000)\n",
    "\n",
    "import butterfly.deepinsight.album2\n",
    "t =butterfly.deepinsight.album2.SingleCellTransformer(size=40, store_embeddings=True)\n",
    "X_album = t.fit_transform(X, groups)\n",
    "\n",
    "plt.scatter(t.X_embedded_[:,0], t.X_embedded_[:,1])\n",
    "plt.figure()\n",
    "plt.scatter(t.X_rotated_[:,0], t.X_rotated_[:,1])\n",
    "sns.heatmap(X_album[0, 0, :])\n",
    "plt.figure()\n",
    "sns.heatmap(X_album[1, 0, :])"
   ]
  },
  {
   "cell_type": "markdown",
   "metadata": {
    "Collapsed": "false"
   },
   "source": [
    "# Incremental single cell transformer"
   ]
  },
  {
   "cell_type": "code",
   "execution_count": 463,
   "metadata": {
    "Collapsed": "false"
   },
   "outputs": [
    {
     "name": "stdout",
     "output_type": "stream",
     "text": [
      "Embedding\n"
     ]
    },
    {
     "name": "stderr",
     "output_type": "stream",
     "text": [
      "group:     0, row:   0: : 0it [00:00, ?it/s]/home/mgbckr/mnt/nalab/workspaces/nalab-butterfly/src/butterfly/deepinsight/album2.py:220: RuntimeWarning: Mean of empty slice.\n",
      "  if self.means:\n",
      "/home/mgbckr/miniconda3/envs/analysis3.7/lib/python3.7/site-packages/numpy/core/_methods.py:154: RuntimeWarning: invalid value encountered in true_divide\n",
      "  ret, rcount, out=ret, casting='unsafe', subok=False)\n",
      "group:     1, row:  18: : 1it [00:00,  7.42it/s]"
     ]
    },
    {
     "name": "stdout",
     "output_type": "stream",
     "text": [
      "Rotating\n",
      "Images\n"
     ]
    },
    {
     "name": "stderr",
     "output_type": "stream",
     "text": [
      "group:     2, row:  39: : 3it [00:00,  7.34it/s]\n"
     ]
    }
   ],
   "source": [
    "import numpy as np\n",
    "from sklearn.manifold import TSNE\n",
    "# X = np.array([[0, 0, 0], [0, 1, 1], [1, 0, 1], [1, 1, 1]])\n",
    "X = np.random.random((1000, 20))\n",
    "groups = np.random.choice([1,2,3], 1000)\n",
    "\n",
    "import butterfly.deepinsight.album2\n",
    "t = butterfly.deepinsight.album2.SingleCellTransformer(size=40, store_embeddings=True, means=True)\n",
    "X_album = t.fit_transform(X, groups)"
   ]
  },
  {
   "cell_type": "code",
   "execution_count": 464,
   "metadata": {
    "Collapsed": "false"
   },
   "outputs": [
    {
     "data": {
      "text/plain": [
       "<matplotlib.axes._subplots.AxesSubplot at 0x7f71e68ae890>"
      ]
     },
     "execution_count": 464,
     "metadata": {},
     "output_type": "execute_result"
    },
    {
     "data": {
      "image/png": "[encoded data removed]",
      "text/plain": [
       "<Figure size 432x288 with 1 Axes>"
      ]
     },
     "metadata": {
      "needs_background": "light"
     },
     "output_type": "display_data"
    },
    {
     "data": {
      "image/png": "[encoded data removed]",
      "text/plain": [
       "<Figure size 432x288 with 2 Axes>"
      ]
     },
     "metadata": {
      "needs_background": "light"
     },
     "output_type": "display_data"
    },
    {
     "data": {
      "image/png": "[encoded data removed]",
      "text/plain": [
       "<Figure size 432x288 with 2 Axes>"
      ]
     },
     "metadata": {
      "needs_background": "light"
     },
     "output_type": "display_data"
    }
   ],
   "source": [
    "plt.scatter(t.X_embedded_[:,0], t.X_embedded_[:,1])\n",
    "plt.figure()\n",
    "plt.scatter(t.X_rotated_[:,0], t.X_rotated_[:,1])\n",
    "sns.heatmap(X_album[0, 0, :])\n",
    "plt.figure()\n",
    "sns.heatmap(X_album[1, 0, :])"
   ]
  },
  {
   "cell_type": "code",
   "execution_count": 487,
   "metadata": {
    "Collapsed": "false"
   },
   "outputs": [
    {
     "data": {
      "text/plain": [
       "<matplotlib.axes._subplots.AxesSubplot at 0x7f71ea0da050>"
      ]
     },
     "execution_count": 487,
     "metadata": {},
     "output_type": "execute_result"
    },
    {
     "data": {
      "image/png": "[encoded data removed]",
      "text/plain": [
       "<Figure size 432x288 with 2 Axes>"
      ]
     },
     "metadata": {
      "needs_background": "light"
     },
     "output_type": "display_data"
    }
   ],
   "source": [
    "sns.heatmap(X_album[0,1,:])"
   ]
  },
  {
   "cell_type": "code",
   "execution_count": 511,
   "metadata": {
    "Collapsed": "false"
   },
   "outputs": [
    {
     "data": {
      "text/plain": [
       "<matplotlib.axes._subplots.AxesSubplot at 0x7f71e3c2e990>"
      ]
     },
     "execution_count": 511,
     "metadata": {},
     "output_type": "execute_result"
    },
    {
     "data": {
      "image/png": "[encoded data removed]",
      "text/plain": [
       "<Figure size 432x288 with 3 Axes>"
      ]
     },
     "metadata": {
      "needs_background": "light"
     },
     "output_type": "display_data"
    }
   ],
   "source": [
    "def get_values(level=1):\n",
    "    for i in range(X_album.shape[2]):\n",
    "        for j in range(X_album.shape[3]):\n",
    "            value = X_album[0, level, i, j]\n",
    "            if not np.isnan(value):\n",
    "                yield i, j, value\n",
    "\n",
    "dim = 3\n",
    "values = list(get_values(level=dim))\n",
    "x = [x for x, _, _ in values]\n",
    "y = [y for _, y, _ in values]\n",
    "d = [d for _, _, d in values]\n",
    "inter = scipy.interpolate.Rbf(x, y, d, smooth=0, function=\"gaussian\")  # always goes through nodal points\n",
    "\n",
    "array = np.empty(X_album.shape[2:])\n",
    "for i in range(X_album.shape[2]):\n",
    "    for j in range(X_album.shape[3]):\n",
    "        array[i, j] = inter([i], [j])\n",
    "\n",
    "sns.heatmap(array, vmin=0, vmax=1)\n",
    "sns.heatmap(X_album[0,dim,:], vmin=0, vmax=1)"
   ]
  },
  {
   "cell_type": "markdown",
   "metadata": {
    "Collapsed": "false"
   },
   "source": [
    "# Test Skorch"
   ]
  },
  {
   "cell_type": "code",
   "execution_count": 519,
   "metadata": {
    "Collapsed": "false"
   },
   "outputs": [
    {
     "name": "stderr",
     "output_type": "stream",
     "text": [
      "/home/mgbckr/miniconda3/envs/analysis3.7/lib/python3.7/site-packages/sklearn/utils/deprecation.py:144: FutureWarning: The sklearn.metrics.scorer module is  deprecated in version 0.22 and will be removed in version 0.24. The corresponding classes / functions should instead be imported from sklearn.metrics. Anything that cannot be imported from sklearn.metrics is now part of the private API.\n",
      "  warnings.warn(message, FutureWarning)\n"
     ]
    },
    {
     "name": "stdout",
     "output_type": "stream",
     "text": [
      "  epoch    train_loss    valid_acc    valid_loss     dur\n",
      "-------  ------------  -----------  ------------  ------\n",
      "      1        \u001b[36m0.7049\u001b[0m       \u001b[32m0.5500\u001b[0m        \u001b[35m0.6803\u001b[0m  0.1550\n",
      "      2        \u001b[36m0.6804\u001b[0m       \u001b[32m0.5850\u001b[0m        \u001b[35m0.6700\u001b[0m  0.0237\n",
      "      3        \u001b[36m0.6642\u001b[0m       \u001b[32m0.6500\u001b[0m        \u001b[35m0.6585\u001b[0m  0.0205\n",
      "      4        \u001b[36m0.6416\u001b[0m       0.6300        \u001b[35m0.6465\u001b[0m  0.0208\n",
      "      5        \u001b[36m0.6288\u001b[0m       0.6350        \u001b[35m0.6371\u001b[0m  0.0205\n",
      "      6        \u001b[36m0.6218\u001b[0m       \u001b[32m0.6550\u001b[0m        \u001b[35m0.6242\u001b[0m  0.0202\n",
      "      7        \u001b[36m0.6084\u001b[0m       \u001b[32m0.7000\u001b[0m        \u001b[35m0.6159\u001b[0m  0.0199\n",
      "      8        \u001b[36m0.6056\u001b[0m       \u001b[32m0.7150\u001b[0m        \u001b[35m0.6044\u001b[0m  0.0199\n",
      "      9        \u001b[36m0.5913\u001b[0m       0.7100        \u001b[35m0.5982\u001b[0m  0.0199\n",
      "     10        \u001b[36m0.5858\u001b[0m       \u001b[32m0.7250\u001b[0m        \u001b[35m0.5829\u001b[0m  0.0201\n"
     ]
    }
   ],
   "source": [
    "import numpy as np\n",
    "from sklearn.datasets import make_classification\n",
    "from torch import nn\n",
    "import torch.nn.functional as F\n",
    "\n",
    "from skorch import NeuralNetClassifier\n",
    "\n",
    "\n",
    "X, y = make_classification(1000, 20, n_informative=10, random_state=0)\n",
    "X = X.astype(np.float32)\n",
    "y = y.astype(np.int64)\n",
    "\n",
    "class MyModule(nn.Module):\n",
    "    def __init__(self, num_units=10, nonlin=F.relu):\n",
    "        super(MyModule, self).__init__()\n",
    "\n",
    "        self.dense0 = nn.Linear(20, num_units)\n",
    "        self.nonlin = nonlin\n",
    "        self.dropout = nn.Dropout(0.5)\n",
    "        self.dense1 = nn.Linear(num_units, 10)\n",
    "        self.output = nn.Linear(10, 2)\n",
    "\n",
    "    def forward(self, X, **kwargs):\n",
    "        X = self.nonlin(self.dense0(X))\n",
    "        X = self.dropout(X)\n",
    "        X = F.relu(self.dense1(X))\n",
    "        X = F.softmax(self.output(X), dim=-1)\n",
    "        return X\n",
    "\n",
    "\n",
    "net = NeuralNetClassifier(\n",
    "    MyModule,\n",
    "    max_epochs=10,\n",
    "    lr=0.1,\n",
    "    # Shuffle training data on each epoch\n",
    "    iterator_train__shuffle=True,\n",
    ")\n",
    "\n",
    "net.fit(X, y)\n",
    "y_proba = net.predict_proba(X)"
   ]
  },
  {
   "cell_type": "markdown",
   "metadata": {
    "Collapsed": "false"
   },
   "source": [
    "# Derive images and dataset"
   ]
  },
  {
   "cell_type": "code",
   "execution_count": 512,
   "metadata": {
    "Collapsed": "false"
   },
   "outputs": [],
   "source": [
    "# sklearn.preprocessing.LabelEncoder().fit_transform(data_fcs.index.values)\n",
    "# data_fcs.index.values == data_fcs.index.values[0]\n",
    "# data_fcs.index.factorize()"
   ]
  },
  {
   "cell_type": "code",
   "execution_count": 513,
   "metadata": {
    "Collapsed": "false"
   },
   "outputs": [
    {
     "name": "stdout",
     "output_type": "stream",
     "text": [
      "Embedding\n",
      "Rotating\n"
     ]
    },
    {
     "name": "stderr",
     "output_type": "stream",
     "text": [
      "group:     0, row:  29: : 0it [00:00, ?it/s]"
     ]
    },
    {
     "name": "stdout",
     "output_type": "stream",
     "text": [
      "Images\n"
     ]
    },
    {
     "name": "stderr",
     "output_type": "stream",
     "text": [
      "group:    83, row:  39: : 84it [00:22,  3.75it/s]\n"
     ]
    }
   ],
   "source": [
    "import fitsne\n",
    "import butterfly.deepinsight.album2\n",
    "\n",
    "start = time.time()\n",
    "\n",
    "t = butterfly.deepinsight.album2.SingleCellTransformer(\n",
    "    size=40, \n",
    "    embedding_algorithm=lambda X: fitsne.FItSNE(np.ascontiguousarray(X), nthreads=100),\n",
    "#     embedding_algorithm=None,\n",
    "    store_embeddings=True)\n",
    "X_album = t.fit_transform(data_features, data_fcs.index.factorize()[0])\n",
    "\n",
    "duration = time.time() - start"
   ]
  },
  {
   "cell_type": "code",
   "execution_count": 514,
   "metadata": {
    "Collapsed": "false"
   },
   "outputs": [
    {
     "name": "stdout",
     "output_type": "stream",
     "text": [
      "0h 14m 33s\n"
     ]
    }
   ],
   "source": [
    "format_duration(duration)"
   ]
  },
  {
   "cell_type": "code",
   "execution_count": 515,
   "metadata": {
    "Collapsed": "false"
   },
   "outputs": [
    {
     "data": {
      "text/plain": [
       "<matplotlib.axes._subplots.AxesSubplot at 0x7f71ea024f10>"
      ]
     },
     "execution_count": 515,
     "metadata": {},
     "output_type": "execute_result"
    },
    {
     "data": {
      "image/png": "[encoded data removed]",
      "text/plain": [
       "<Figure size 432x288 with 1 Axes>"
      ]
     },
     "metadata": {
      "needs_background": "light"
     },
     "output_type": "display_data"
    },
    {
     "data": {
      "image/png": "[encoded data removed]",
      "text/plain": [
       "<Figure size 432x288 with 2 Axes>"
      ]
     },
     "metadata": {
      "needs_background": "light"
     },
     "output_type": "display_data"
    },
    {
     "data": {
      "image/png": "[encoded data removed]",
      "text/plain": [
       "<Figure size 432x288 with 2 Axes>"
      ]
     },
     "metadata": {
      "needs_background": "light"
     },
     "output_type": "display_data"
    }
   ],
   "source": [
    "plt.scatter(t.X_embedded_[:,0], t.X_embedded_[:,1])\n",
    "plt.figure()\n",
    "plt.scatter(t.X_rotated_[:,0], t.X_rotated_[:,1])\n",
    "sns.heatmap(X_album[0, 0, :])\n",
    "plt.figure()\n",
    "sns.heatmap(X_album[1, 0, :])"
   ]
  },
  {
   "cell_type": "code",
   "execution_count": 24,
   "metadata": {
    "Collapsed": "false"
   },
   "outputs": [],
   "source": []
  },
  {
   "cell_type": "code",
   "execution_count": 106,
   "metadata": {
    "Collapsed": "false"
   },
   "outputs": [],
   "source": [
    "# t1 / t2 task\n",
    "select_t1_t2 = np.array([b in [1,2] for a,b in data_fcs.index.drop_duplicates().values])\n",
    "X_album_t1_t2 = X_album[select_t1_t2,:]\n",
    "y_t1_t2 = np.array([b == 2 for _,b in data_fcs.index.drop_duplicates().values[select_t1_t2]])\n",
    "groups_t1_t2 = np.array([a for a,_ in data_fcs.index.drop_duplicates().values[select_t1_t2]])"
   ]
  },
  {
   "cell_type": "code",
   "execution_count": 423,
   "metadata": {
    "Collapsed": "false"
   },
   "outputs": [],
   "source": [
    "import nalabtools.sklearn.model_selection\n",
    "\n",
    "X = X_album_t1_t2\n",
    "y = y_t1_t2\n",
    "groups = groups_t1_t2\n",
    "\n",
    "splits_test = sklearn.model_selection.GroupShuffleSplit(n_splits=1, test_size=0.10).split(X.reshape(X.shape[0], -1), y, groups=groups)\n",
    "# splits_test = sklearn.model_selection.StratifiedShuffleSplit(n_splits=1, test_size=0.10).split(X.reshape(X.shape[0], -1), y, groups=groups)\n",
    "remain_idx, test_idx = next(splits_test)\n",
    "\n",
    "X_remain = X[remain_idx,:]\n",
    "y_remain = y[remain_idx]\n",
    "groups_remain = groups[remain_idx]\n",
    "\n",
    "X_test = X[test_idx,:]\n",
    "y_test = y[test_idx]\n",
    "\n",
    "splits_val = sklearn.model_selection.GroupShuffleSplit(n_splits=1, test_size=0.10).split(X_remain.reshape(X_remain.shape[0], -1), y_remain, groups=groups_remain)\n",
    "# splits_val = sklearn.model_selection.StratifiedShuffleSplit(n_splits=1, test_size=0.10).split(X_remain.reshape(X_remain.shape[0], -1), y_remain, groups=groups_remain)\n",
    "train_idx, val_idx = next(splits_val)\n",
    "\n",
    "# X_train = X_remain[train_idx, :]\n",
    "# y_train = y_remain[train_idx]\n",
    "X_train = X_remain\n",
    "y_train = y_remain\n",
    "X_val = X_test\n",
    "y_val = y_test"
   ]
  },
  {
   "cell_type": "code",
   "execution_count": 424,
   "metadata": {
    "Collapsed": "false"
   },
   "outputs": [],
   "source": [
    "import torch.utils.data\n",
    "dataset_train = butterfly.deepinsight.album2.AlbumDataset(X_train, y_train)\n",
    "dataset_val = butterfly.deepinsight.album2.AlbumDataset(X_val, y_val)\n",
    "dataset_test = butterfly.deepinsight.album2.AlbumDataset(X_test, y_test)"
   ]
  },
  {
   "cell_type": "code",
   "execution_count": 425,
   "metadata": {
    "Collapsed": "false"
   },
   "outputs": [],
   "source": [
    "bs = 10\n",
    "dataloader_train = torch.utils.data.DataLoader(\n",
    "    dataset_train, batch_size=bs, shuffle=True, num_workers=2)\n",
    "dataloader_val = torch.utils.data.DataLoader(\n",
    "    dataset_val, batch_size=bs * 2)\n",
    "dataloader_test = torch.utils.data.DataLoader(\n",
    "    dataset_test, batch_size=bs * 2)"
   ]
  },
  {
   "cell_type": "markdown",
   "metadata": {
    "Collapsed": "false"
   },
   "source": [
    "# Network"
   ]
  },
  {
   "cell_type": "code",
   "execution_count": 426,
   "metadata": {
    "Collapsed": "false"
   },
   "outputs": [],
   "source": [
    "import torch.optim as optim\n",
    "import butterfly.deepinsight.deepinsight\n",
    "from tqdm import tqdm\n",
    "import torchvision\n",
    "from torch.utils.tensorboard import SummaryWriter"
   ]
  },
  {
   "cell_type": "code",
   "execution_count": 427,
   "metadata": {
    "Collapsed": "false"
   },
   "outputs": [],
   "source": [
    "writer = SummaryWriter(nb.folder('runs/singel_cell_16'))"
   ]
  },
  {
   "cell_type": "code",
   "execution_count": 428,
   "metadata": {
    "Collapsed": "false"
   },
   "outputs": [],
   "source": [
    "def matplotlib_imshow(img, one_channel=False):\n",
    "    if one_channel:\n",
    "        img = img.mean(dim=0)\n",
    "    img = img / 2 + 0.5     # unnormalize\n",
    "    npimg = img.numpy()\n",
    "    if one_channel:\n",
    "        plt.imshow(npimg, cmap=\"Greys\")\n",
    "    else:\n",
    "        plt.imshow(np.transpose(npimg, (1, 2, 0)))"
   ]
  },
  {
   "cell_type": "code",
   "execution_count": 429,
   "metadata": {
    "Collapsed": "false"
   },
   "outputs": [
    {
     "data": {
      "text/plain": [
       "<matplotlib.axes._subplots.AxesSubplot at 0x7f723fd65150>"
      ]
     },
     "execution_count": 429,
     "metadata": {},
     "output_type": "execute_result"
    },
    {
     "data": {
      "image/png": "[encoded data removed]",
      "text/plain": [
       "<Figure size 432x288 with 2 Axes>"
      ]
     },
     "metadata": {
      "needs_background": "light"
     },
     "output_type": "display_data"
    }
   ],
   "source": [
    "sns.heatmap(X_train[0,0,:])"
   ]
  },
  {
   "cell_type": "code",
   "execution_count": 430,
   "metadata": {
    "Collapsed": "false"
   },
   "outputs": [
    {
     "data": {
      "image/png": "[encoded data removed]",
      "text/plain": [
       "<Figure size 432x288 with 1 Axes>"
      ]
     },
     "metadata": {
      "needs_background": "light"
     },
     "output_type": "display_data"
    }
   ],
   "source": [
    "img_grid = torchvision.utils.make_grid(torch.from_numpy(X_train[:4,[0],:,:]), padding=10)\n",
    "writer.add_image('test_image', img_grid)\n",
    "matplotlib_imshow(img_grid)"
   ]
  },
  {
   "cell_type": "code",
   "execution_count": 431,
   "metadata": {
    "Collapsed": "false"
   },
   "outputs": [],
   "source": [
    "import butterfly.deepinsight.deepinsight\n",
    "m = butterfly.deepinsight.deepinsight.DeepInsight(\n",
    "    input_dim=X_train.shape[2:],\n",
    "    kernel_size1=1, kernel_size2=2, n_initial_filters=1)\n",
    "\n",
    "\n",
    "# dataiter = iter(dataloader_train)\n",
    "# images, labels = dataiter.next()\n",
    "\n",
    "# writer.add_graph(m, images[:4,:])\n",
    "# writer.flush()"
   ]
  },
  {
   "cell_type": "code",
   "execution_count": 432,
   "metadata": {
    "Collapsed": "false"
   },
   "outputs": [],
   "source": [
    "# # embeddings\n",
    "# # Bugfix: https://github.com/pytorch/pytorch/issues/30966\n",
    "# import tensorflow as tf\n",
    "# import tensorboard as tb\n",
    "# tf.io.gfile = tb.compat.tensorflow_stub.io.gfile\n",
    "\n",
    "# features = images.view(-1, 40 * 40)\n",
    "# writer.add_embedding(features,\n",
    "#                     metadata=labels,\n",
    "#                     label_img=images.unsqueeze(1))\n",
    "# writer.close()"
   ]
  },
  {
   "cell_type": "code",
   "execution_count": 433,
   "metadata": {
    "Collapsed": "false"
   },
   "outputs": [
    {
     "name": "stderr",
     "output_type": "stream",
     "text": [
      "Processing [epoch=499, batch= 0] training_loss=0.000: 100%|██████████| 500/500 [00:22<00:00, 22.68it/s]"
     ]
    },
    {
     "name": "stdout",
     "output_type": "stream",
     "text": [
      "Finished Training`\n"
     ]
    },
    {
     "name": "stderr",
     "output_type": "stream",
     "text": [
      "\n"
     ]
    }
   ],
   "source": [
    "criterion = torch.nn.CrossEntropyLoss()\n",
    "optimizer = optim.SGD(m.parameters(), lr=0.001, momentum=0.9, )\n",
    "dataloader_train = torch.utils.data.DataLoader(dataset_train, batch_size=64, shuffle=True)\n",
    "\n",
    "pbar = tqdm(range(500))\n",
    "for epoch in pbar:  # loop over the dataset multiple times\n",
    "\n",
    "    m.train()\n",
    "    running_loss = 0.0\n",
    "    for i, (inputs, labels) in enumerate(dataloader_train):\n",
    "        \n",
    "        # zero the parameter gradients\n",
    "        optimizer.zero_grad()\n",
    "\n",
    "        # forward + backward + optimize\n",
    "        outputs = m(inputs)\n",
    "        loss = criterion(outputs, labels)\n",
    "        loss.backward()\n",
    "        optimizer.step()\n",
    "\n",
    "        # print statistics\n",
    "        running_loss += loss.item()\n",
    "        every = 1\n",
    "        if i % every == every - 1:\n",
    "            \n",
    "            m.eval()\n",
    "            \n",
    "            with torch.no_grad():\n",
    "                loss_val = sum(criterion(m(x), y) for x, y in dataloader_val)\n",
    "                loss_val /= len(dataloader_val)\n",
    "                \n",
    "            loss_train = running_loss / every\n",
    "            writer.add_scalars(\"loss\", dict(train=loss_train, validation=loss_val), epoch * len(dataloader_train) + i)\n",
    "            running_loss = 0.0\n",
    "            \n",
    "            pbar.set_description(f\"Processing [epoch={epoch}, batch={i:2d}] training_loss={running_loss / every:.03f}\")\n",
    "            \n",
    "            m.train()\n",
    "        \n",
    "            \n",
    "print('Finished Training`')"
   ]
  },
  {
   "cell_type": "code",
   "execution_count": 434,
   "metadata": {
    "Collapsed": "false"
   },
   "outputs": [
    {
     "data": {
      "text/plain": [
       "(36, 1, 40, 40)"
      ]
     },
     "execution_count": 434,
     "metadata": {},
     "output_type": "execute_result"
    }
   ],
   "source": [
    "X_train.shape"
   ]
  },
  {
   "cell_type": "code",
   "execution_count": 435,
   "metadata": {
    "Collapsed": "false"
   },
   "outputs": [
    {
     "data": {
      "text/plain": [
       "(6, 1, 40, 40)"
      ]
     },
     "execution_count": 435,
     "metadata": {},
     "output_type": "execute_result"
    }
   ],
   "source": [
    "X_test.shape"
   ]
  },
  {
   "cell_type": "markdown",
   "metadata": {
    "Collapsed": "false"
   },
   "source": [
    "# Evaluation"
   ]
  },
  {
   "cell_type": "code",
   "execution_count": 436,
   "metadata": {
    "Collapsed": "false"
   },
   "outputs": [
    {
     "name": "stdout",
     "output_type": "stream",
     "text": [
      "0.5555555555555556\n",
      "0.6604938271604939\n"
     ]
    }
   ],
   "source": [
    "y_pred_proba = m(torch.tensor(X_train).float())\n",
    "y_pred = np.argmax(y_pred_proba.detach().numpy(), axis=1)\n",
    "print(sklearn.metrics.accuracy_score(y_train, y_pred))\n",
    "print(sklearn.metrics.roc_auc_score(y_train, y_pred_proba[:,1].detach()))"
   ]
  },
  {
   "cell_type": "code",
   "execution_count": 437,
   "metadata": {
    "Collapsed": "false"
   },
   "outputs": [
    {
     "name": "stdout",
     "output_type": "stream",
     "text": [
      "0.6666666666666666\n",
      "0.6666666666666667\n"
     ]
    }
   ],
   "source": [
    "y_pred_proba = m(torch.tensor(X_val).float())\n",
    "y_pred = np.argmax(y_pred_proba.detach().numpy(), axis=1)\n",
    "print(sklearn.metrics.accuracy_score(y_val, y_pred))\n",
    "print(sklearn.metrics.roc_auc_score(y_val, y_pred_proba[:,1].detach()))"
   ]
  },
  {
   "cell_type": "code",
   "execution_count": 438,
   "metadata": {
    "Collapsed": "false"
   },
   "outputs": [
    {
     "name": "stdout",
     "output_type": "stream",
     "text": [
      "0.6666666666666666\n",
      "0.6666666666666667\n"
     ]
    }
   ],
   "source": [
    "y_pred_proba = m(torch.tensor(X_test).float())\n",
    "y_pred = np.argmax(y_pred_proba.detach().numpy(), axis=1)\n",
    "print(sklearn.metrics.accuracy_score(y_test, y_pred))\n",
    "print(sklearn.metrics.roc_auc_score(y_test, y_pred_proba[:,1].detach()))"
   ]
  },
  {
   "cell_type": "code",
   "execution_count": null,
   "metadata": {
    "Collapsed": "false"
   },
   "outputs": [],
   "source": []
  },
  {
   "cell_type": "code",
   "execution_count": 439,
   "metadata": {
    "Collapsed": "false"
   },
   "outputs": [
    {
     "data": {
      "text/plain": [
       "RandomForestClassifier(bootstrap=True, ccp_alpha=0.0, class_weight=None,\n",
       "                       criterion='gini', max_depth=None, max_features='auto',\n",
       "                       max_leaf_nodes=None, max_samples=None,\n",
       "                       min_impurity_decrease=0.0, min_impurity_split=None,\n",
       "                       min_samples_leaf=1, min_samples_split=2,\n",
       "                       min_weight_fraction_leaf=0.0, n_estimators=100,\n",
       "                       n_jobs=None, oob_score=False, random_state=None,\n",
       "                       verbose=0, warm_start=False)"
      ]
     },
     "execution_count": 439,
     "metadata": {},
     "output_type": "execute_result"
    }
   ],
   "source": [
    "import sklearn.ensemble\n",
    "rf = sklearn.ensemble.RandomForestClassifier(n_estimators=100)\n",
    "rf.fit(X_train.reshape(X_train.shape[0], -1), y_train)"
   ]
  },
  {
   "cell_type": "code",
   "execution_count": 440,
   "metadata": {
    "Collapsed": "false"
   },
   "outputs": [
    {
     "name": "stdout",
     "output_type": "stream",
     "text": [
      "1.0\n",
      "1.0\n"
     ]
    }
   ],
   "source": [
    "print(sklearn.metrics.accuracy_score(y_train, rf.predict(X_train.reshape(X_train.shape[0], -1))))\n",
    "print(sklearn.metrics.roc_auc_score(y_train, rf.predict_proba(X_train.reshape(X_train.shape[0], -1))[:,1]))"
   ]
  },
  {
   "cell_type": "code",
   "execution_count": 441,
   "metadata": {
    "Collapsed": "false"
   },
   "outputs": [
    {
     "name": "stdout",
     "output_type": "stream",
     "text": [
      "0.3333333333333333\n",
      "0.4444444444444445\n"
     ]
    }
   ],
   "source": [
    "print(sklearn.metrics.accuracy_score(y_val, rf.predict(X_val.reshape(X_val.shape[0], -1))))\n",
    "print(sklearn.metrics.roc_auc_score(y_val, rf.predict_proba(X_val.reshape(X_val.shape[0], -1))[:,1]))"
   ]
  },
  {
   "cell_type": "code",
   "execution_count": 442,
   "metadata": {
    "Collapsed": "false"
   },
   "outputs": [
    {
     "name": "stdout",
     "output_type": "stream",
     "text": [
      "0.3333333333333333\n",
      "0.4444444444444445\n"
     ]
    }
   ],
   "source": [
    "print(sklearn.metrics.accuracy_score(y_test, rf.predict(X_test.reshape(X_val.shape[0], -1))))\n",
    "print(sklearn.metrics.roc_auc_score(y_test, rf.predict_proba(X_test.reshape(X_val.shape[0], -1))[:,1]))"
   ]
  },
  {
   "cell_type": "code",
   "execution_count": null,
   "metadata": {
    "Collapsed": "false"
   },
   "outputs": [],
   "source": []
  },
  {
   "cell_type": "code",
   "execution_count": 443,
   "metadata": {
    "Collapsed": "false"
   },
   "outputs": [
    {
     "data": {
      "text/plain": [
       "RandomForestClassifier(bootstrap=True, ccp_alpha=0.0, class_weight=None,\n",
       "                       criterion='gini', max_depth=None, max_features='auto',\n",
       "                       max_leaf_nodes=None, max_samples=None,\n",
       "                       min_impurity_decrease=0.0, min_impurity_split=None,\n",
       "                       min_samples_leaf=1, min_samples_split=2,\n",
       "                       min_weight_fraction_leaf=0.0, n_estimators=100,\n",
       "                       n_jobs=None, oob_score=False, random_state=None,\n",
       "                       verbose=0, warm_start=False)"
      ]
     },
     "execution_count": 443,
     "metadata": {},
     "output_type": "execute_result"
    }
   ],
   "source": [
    "import sklearn.ensemble\n",
    "rf = sklearn.ensemble.RandomForestClassifier(n_estimators=100)\n",
    "rf.fit(\n",
    "    np.concatenate([X_train.reshape(X_train.shape[0], -1), X_val.reshape(X_val.shape[0], -1)]), \n",
    "    np.concatenate([y_train, y_val]))"
   ]
  },
  {
   "cell_type": "code",
   "execution_count": 444,
   "metadata": {
    "Collapsed": "false"
   },
   "outputs": [
    {
     "name": "stdout",
     "output_type": "stream",
     "text": [
      "1.0\n",
      "1.0\n"
     ]
    }
   ],
   "source": [
    "print(sklearn.metrics.accuracy_score(y_train, rf.predict(X_train.reshape(X_train.shape[0], -1))))\n",
    "print(sklearn.metrics.roc_auc_score(y_train, rf.predict_proba(X_train.reshape(X_train.shape[0], -1))[:,1]))"
   ]
  },
  {
   "cell_type": "code",
   "execution_count": 445,
   "metadata": {
    "Collapsed": "false"
   },
   "outputs": [
    {
     "name": "stdout",
     "output_type": "stream",
     "text": [
      "1.0\n",
      "1.0\n"
     ]
    }
   ],
   "source": [
    "print(sklearn.metrics.accuracy_score(y_val, rf.predict(X_val.reshape(X_val.shape[0], -1))))\n",
    "print(sklearn.metrics.roc_auc_score(y_val, rf.predict_proba(X_val.reshape(X_val.shape[0], -1))[:,1]))"
   ]
  },
  {
   "cell_type": "code",
   "execution_count": 446,
   "metadata": {
    "Collapsed": "false"
   },
   "outputs": [
    {
     "name": "stdout",
     "output_type": "stream",
     "text": [
      "1.0\n",
      "1.0\n"
     ]
    }
   ],
   "source": [
    "print(sklearn.metrics.accuracy_score(y_test, rf.predict(X_test.reshape(X_val.shape[0], -1))))\n",
    "print(sklearn.metrics.roc_auc_score(y_test, rf.predict_proba(X_test.reshape(X_val.shape[0], -1))[:,1]))"
   ]
  },
  {
   "cell_type": "markdown",
   "metadata": {
    "Collapsed": "false"
   },
   "source": [
    "# Skorch"
   ]
  },
  {
   "cell_type": "code",
   "execution_count": 1,
   "metadata": {
    "Collapsed": "false"
   },
   "outputs": [
    {
     "name": "stderr",
     "output_type": "stream",
     "text": [
      "/home/mgbckr/miniconda3/envs/analysis3.7/lib/python3.7/site-packages/sklearn/utils/deprecation.py:144: FutureWarning: The sklearn.metrics.scorer module is  deprecated in version 0.22 and will be removed in version 0.24. The corresponding classes / functions should instead be imported from sklearn.metrics. Anything that cannot be imported from sklearn.metrics is now part of the private API.\n",
      "  warnings.warn(message, FutureWarning)\n"
     ]
    },
    {
     "ename": "NameError",
     "evalue": "name 'butterfly' is not defined",
     "output_type": "error",
     "traceback": [
      "\u001b[0;31m---------------------------------------------------------------------------\u001b[0m",
      "\u001b[0;31mNameError\u001b[0m                                 Traceback (most recent call last)",
      "\u001b[0;32m<ipython-input-1-2f94a5b1453f>\u001b[0m in \u001b[0;36m<module>\u001b[0;34m\u001b[0m\n\u001b[1;32m     29\u001b[0m \u001b[0;34m\u001b[0m\u001b[0m\n\u001b[1;32m     30\u001b[0m \u001b[0;34m\u001b[0m\u001b[0m\n\u001b[0;32m---> 31\u001b[0;31m butterfly.deepinsight.deepinsight.DeepInsight(\n\u001b[0m\u001b[1;32m     32\u001b[0m     \u001b[0minput_dim\u001b[0m\u001b[0;34m=\u001b[0m\u001b[0mX_train\u001b[0m\u001b[0;34m.\u001b[0m\u001b[0mshape\u001b[0m\u001b[0;34m[\u001b[0m\u001b[0;36m2\u001b[0m\u001b[0;34m:\u001b[0m\u001b[0;34m]\u001b[0m\u001b[0;34m,\u001b[0m\u001b[0;34m\u001b[0m\u001b[0;34m\u001b[0m\u001b[0m\n\u001b[1;32m     33\u001b[0m     kernel_size1=1, kernel_size2=2, n_initial_filters=1)\n",
      "\u001b[0;31mNameError\u001b[0m: name 'butterfly' is not defined"
     ]
    }
   ],
   "source": [
    "import numpy as np\n",
    "from sklearn.datasets import make_classification\n",
    "from torch import nn\n",
    "import torch.nn.functional as F\n",
    "\n",
    "from skorch import NeuralNetClassifier\n",
    "\n",
    "\n",
    "X, y = make_classification(1000, 20, n_informative=10, random_state=0)\n",
    "X = X.astype(np.float32)\n",
    "y = y.astype(np.int64)\n",
    "\n",
    "class MyModule(nn.Module):\n",
    "    def __init__(self, num_units=10, nonlin=F.relu):\n",
    "        super(MyModule, self).__init__()\n",
    "\n",
    "        self.dense0 = nn.Linear(20, num_units)\n",
    "        self.nonlin = nonlin\n",
    "        self.dropout = nn.Dropout(0.5)\n",
    "        self.dense1 = nn.Linear(num_units, 10)\n",
    "        self.output = nn.Linear(10, 2)\n",
    "\n",
    "    def forward(self, X, **kwargs):\n",
    "        X = self.nonlin(self.dense0(X))\n",
    "        X = self.dropout(X)\n",
    "        X = F.relu(self.dense1(X))\n",
    "        X = F.softmax(self.output(X), dim=-1)\n",
    "        return X\n",
    "\n",
    "\n",
    "butterfly.deepinsight.deepinsight.DeepInsight(\n",
    "    input_dim=X_train.shape[2:],\n",
    "    kernel_size1=1, kernel_size2=2, n_initial_filters=1)\n",
    "    \n",
    "net = NeuralNetClassifier(\n",
    "    butterfly.deepinsight.deepinsight.DeepInsight,\n",
    "    max_epochs=10,\n",
    "    lr=0.1,\n",
    "    # Shuffle training data on each epoch\n",
    "    iterator_train__shuffle=True,\n",
    ")\n",
    "\n",
    "net.fit(X, y)\n",
    "y_proba = net.predict_proba(X)"
   ]
  },
  {
   "cell_type": "code",
   "execution_count": null,
   "metadata": {
    "Collapsed": "false"
   },
   "outputs": [],
   "source": []
  }
 ],
 "metadata": {
  "kernelspec": {
   "display_name": "Python 3",
   "language": "python",
   "name": "python3"
  },
  "language_info": {
   "codemirror_mode": {
    "name": "ipython",
    "version": 3
   },
   "file_extension": ".py",
   "mimetype": "text/x-python",
   "name": "python",
   "nbconvert_exporter": "python",
   "pygments_lexer": "ipython3",
   "version": "3.7.6"
  }
 },
 "nbformat": 4,
 "nbformat_minor": 4
}
