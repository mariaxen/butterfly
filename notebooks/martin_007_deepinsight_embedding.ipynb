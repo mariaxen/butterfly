{
 "cells": [
  {
   "cell_type": "markdown",
   "metadata": {
    "Collapsed": "false"
   },
   "source": [
    "# Preamble"
   ]
  },
  {
   "cell_type": "code",
   "execution_count": 19,
   "metadata": {
    "Collapsed": "false"
   },
   "outputs": [
    {
     "name": "stdout",
     "output_type": "stream",
     "text": [
      "The autoreload extension is already loaded. To reload it, use:\n",
      "  %reload_ext autoreload\n"
     ]
    },
    {
     "name": "stderr",
     "output_type": "stream",
     "text": [
      "/home/mgbckr/mnt/nalab/workspaces/nalab-tools/src/nalabtools/utils/parallelization.py:48: UserWarning: This function should be called before `numpy` or similar modules are imported.\n",
      "  warnings.warn(\"This function should be called before `numpy` or similar modules are imported.\")\n"
     ]
    }
   ],
   "source": [
    "%load_ext autoreload\n",
    "%autoreload 2\n",
    "\n",
    "# disable parallelization for BLAS and co.\n",
    "from nalabtools.utils.parallelization import set_threads_for_external_libraries\n",
    "set_threads_for_external_libraries(n_threads=1)\n",
    "\n",
    "# general\n",
    "import re\n",
    "import collections\n",
    "import pickle\n",
    "\n",
    "# data\n",
    "import numpy as np\n",
    "import pandas as pd\n",
    "\n",
    "# ml / stats\n",
    "import scipy\n",
    "import sklearn\n",
    "\n",
    "# plotting\n",
    "import matplotlib.pyplot as plt\n",
    "\n",
    "# nalab\n",
    "import nalabtools\n",
    "\n",
    "# init notebook files\n",
    "import nalabtools.utils.misc\n",
    "nb = nalabtools.utils.misc.NotebookContext(\"butterfly___martin_007_deepinsight_embeddings\")"
   ]
  },
  {
   "cell_type": "code",
   "execution_count": 20,
   "metadata": {
    "Collapsed": "false"
   },
   "outputs": [],
   "source": [
    "import time"
   ]
  },
  {
   "cell_type": "code",
   "execution_count": 21,
   "metadata": {
    "Collapsed": "false"
   },
   "outputs": [],
   "source": [
    "def format_duration(totsec):\n",
    "    h = totsec//3600\n",
    "    m = (totsec%3600) // 60\n",
    "    sec =(totsec%3600)%60 #just for reference\n",
    "    print(\"%dh %dm %ds\" %(h,m,sec))"
   ]
  },
  {
   "cell_type": "code",
   "execution_count": 22,
   "metadata": {
    "Collapsed": "false"
   },
   "outputs": [
    {
     "data": {
      "text/plain": [
       "'3.3.2'"
      ]
     },
     "execution_count": 22,
     "metadata": {},
     "output_type": "execute_result"
    }
   ],
   "source": [
    "import rpy2\n",
    "rpy2.__version__"
   ]
  },
  {
   "cell_type": "code",
   "execution_count": 8,
   "metadata": {
    "Collapsed": "false"
   },
   "outputs": [],
   "source": [
    "%load_ext rpy2.ipython"
   ]
  },
  {
   "cell_type": "code",
   "execution_count": 9,
   "metadata": {
    "Collapsed": "false"
   },
   "outputs": [
    {
     "name": "stdout",
     "output_type": "stream",
     "text": [
      "[1] \"/home/mgbckr/miniconda3/envs/butterfly/lib/R\"\n"
     ]
    }
   ],
   "source": [
    "%%R\n",
    "R.home()"
   ]
  },
  {
   "cell_type": "markdown",
   "metadata": {
    "Collapsed": "false"
   },
   "source": [
    "# Load data"
   ]
  },
  {
   "cell_type": "code",
   "execution_count": 10,
   "metadata": {
    "Collapsed": "false"
   },
   "outputs": [],
   "source": [
    "import pathlib\n",
    "import nalabdata.fcs.load\n",
    "import nalabdata.fcs.meta"
   ]
  },
  {
   "cell_type": "code",
   "execution_count": 11,
   "metadata": {
    "Collapsed": "false"
   },
   "outputs": [
    {
     "name": "stdout",
     "output_type": "stream",
     "text": [
      "Loading from temp file\n"
     ]
    }
   ],
   "source": [
    "# immune clock\n",
    "tmp_fcs_path = pathlib.Path(nb.file(\"tmp_fcs_immuneclock.pickle\"))\n",
    "if tmp_fcs_path.exists():\n",
    "\n",
    "    print(\"Loading from temp file\")\n",
    "    data_immuneclock_meta, data_immuneclock_fcs = pickle.load(open(tmp_fcs_path, \"rb\"))\n",
    "    \n",
    "else:\n",
    "    \n",
    "    print(\"Loading from FCS files; this may take a while ...\")\n",
    "    \n",
    "    path = pathlib.Path(\"../../nalab-data/data/large/fcs/immune_clock/AllImmuneClock\")\n",
    "    files = list((path / \"Training\").glob(\"*\")) + list((path / \"Validation\").glob(\"*\"))\n",
    "\n",
    "    selected_files = files\n",
    "    data_immuneclock_meta = nalabdata.fcs.meta.meta_from_filenames(selected_files, context=\"immune_clock\", ga_sources_path=\"../../nalab-data/data/default/multiomics\")\n",
    "    data_immuneclock_fcs = nalabdata.fcs.load.load_fcs(\n",
    "        selected_files,  \n",
    "        cell_filter=\"granulocytes\", \n",
    "        n_cells_sample=10000,\n",
    "        n_jobs=64)\n",
    "    \n",
    "    pickle.dump((data_immuneclock_meta, data_immuneclock_fcs), open(tmp_fcs_path, \"wb\"))"
   ]
  },
  {
   "cell_type": "code",
   "execution_count": 12,
   "metadata": {},
   "outputs": [],
   "source": [
    "import nalabdata.fcs\n",
    "data_fcs = data_immuneclock_fcs[nalabdata.fcs.load.filter_columns(data_immuneclock_fcs.columns)]"
   ]
  },
  {
   "cell_type": "code",
   "execution_count": 13,
   "metadata": {},
   "outputs": [
    {
     "data": {
      "text/html": [
       "<div>\n",
       "<style scoped>\n",
       "    .dataframe tbody tr th:only-of-type {\n",
       "        vertical-align: middle;\n",
       "    }\n",
       "\n",
       "    .dataframe tbody tr th {\n",
       "        vertical-align: top;\n",
       "    }\n",
       "\n",
       "    .dataframe thead th {\n",
       "        text-align: right;\n",
       "    }\n",
       "</style>\n",
       "<table border=\"1\" class=\"dataframe\">\n",
       "  <thead>\n",
       "    <tr style=\"text-align: right;\">\n",
       "      <th></th>\n",
       "      <th>CD235ab_CD61</th>\n",
       "      <th>CD45</th>\n",
       "      <th>CD66</th>\n",
       "      <th>CD7</th>\n",
       "      <th>CD19</th>\n",
       "      <th>CD45RA</th>\n",
       "      <th>CD11b</th>\n",
       "      <th>CD4</th>\n",
       "      <th>CD8a</th>\n",
       "      <th>CD11c</th>\n",
       "      <th>...</th>\n",
       "      <th>ERK</th>\n",
       "      <th>CCR9</th>\n",
       "      <th>CD25</th>\n",
       "      <th>CD3</th>\n",
       "      <th>CCR7</th>\n",
       "      <th>CD15</th>\n",
       "      <th>CCR2</th>\n",
       "      <th>HLADR</th>\n",
       "      <th>CD14</th>\n",
       "      <th>CD56</th>\n",
       "    </tr>\n",
       "    <tr>\n",
       "      <th>file_index</th>\n",
       "      <th></th>\n",
       "      <th></th>\n",
       "      <th></th>\n",
       "      <th></th>\n",
       "      <th></th>\n",
       "      <th></th>\n",
       "      <th></th>\n",
       "      <th></th>\n",
       "      <th></th>\n",
       "      <th></th>\n",
       "      <th></th>\n",
       "      <th></th>\n",
       "      <th></th>\n",
       "      <th></th>\n",
       "      <th></th>\n",
       "      <th></th>\n",
       "      <th></th>\n",
       "      <th></th>\n",
       "      <th></th>\n",
       "      <th></th>\n",
       "      <th></th>\n",
       "    </tr>\n",
       "  </thead>\n",
       "  <tbody>\n",
       "    <tr>\n",
       "      <th>0</th>\n",
       "      <td>0.109946</td>\n",
       "      <td>2.496170</td>\n",
       "      <td>4.209940</td>\n",
       "      <td>0.254132</td>\n",
       "      <td>0.000000</td>\n",
       "      <td>1.270893</td>\n",
       "      <td>3.813384</td>\n",
       "      <td>0.832684</td>\n",
       "      <td>0.177333</td>\n",
       "      <td>0.568260</td>\n",
       "      <td>...</td>\n",
       "      <td>0.114735</td>\n",
       "      <td>0.302329</td>\n",
       "      <td>0.048255</td>\n",
       "      <td>0.000000</td>\n",
       "      <td>1.402996</td>\n",
       "      <td>4.320698</td>\n",
       "      <td>0.830888</td>\n",
       "      <td>0.539162</td>\n",
       "      <td>0.698561</td>\n",
       "      <td>1.002160</td>\n",
       "    </tr>\n",
       "    <tr>\n",
       "      <th>0</th>\n",
       "      <td>0.000000</td>\n",
       "      <td>2.448505</td>\n",
       "      <td>3.226358</td>\n",
       "      <td>0.348798</td>\n",
       "      <td>0.461272</td>\n",
       "      <td>0.465805</td>\n",
       "      <td>4.372060</td>\n",
       "      <td>0.101652</td>\n",
       "      <td>0.000902</td>\n",
       "      <td>1.899516</td>\n",
       "      <td>...</td>\n",
       "      <td>0.941218</td>\n",
       "      <td>0.646752</td>\n",
       "      <td>0.000000</td>\n",
       "      <td>0.000000</td>\n",
       "      <td>1.543148</td>\n",
       "      <td>4.307781</td>\n",
       "      <td>1.069659</td>\n",
       "      <td>0.774400</td>\n",
       "      <td>0.336641</td>\n",
       "      <td>0.540931</td>\n",
       "    </tr>\n",
       "    <tr>\n",
       "      <th>0</th>\n",
       "      <td>0.000000</td>\n",
       "      <td>3.705167</td>\n",
       "      <td>5.674930</td>\n",
       "      <td>0.377351</td>\n",
       "      <td>0.169603</td>\n",
       "      <td>1.042656</td>\n",
       "      <td>4.358280</td>\n",
       "      <td>0.039475</td>\n",
       "      <td>0.100833</td>\n",
       "      <td>0.917864</td>\n",
       "      <td>...</td>\n",
       "      <td>0.078937</td>\n",
       "      <td>0.295043</td>\n",
       "      <td>0.000000</td>\n",
       "      <td>0.471177</td>\n",
       "      <td>4.454113</td>\n",
       "      <td>6.142947</td>\n",
       "      <td>2.839626</td>\n",
       "      <td>0.966267</td>\n",
       "      <td>0.173192</td>\n",
       "      <td>0.728520</td>\n",
       "    </tr>\n",
       "    <tr>\n",
       "      <th>0</th>\n",
       "      <td>0.144858</td>\n",
       "      <td>4.266652</td>\n",
       "      <td>1.399618</td>\n",
       "      <td>2.686234</td>\n",
       "      <td>0.191140</td>\n",
       "      <td>3.354222</td>\n",
       "      <td>0.705526</td>\n",
       "      <td>3.300746</td>\n",
       "      <td>0.575721</td>\n",
       "      <td>0.000000</td>\n",
       "      <td>...</td>\n",
       "      <td>1.014223</td>\n",
       "      <td>0.300559</td>\n",
       "      <td>0.000000</td>\n",
       "      <td>5.107750</td>\n",
       "      <td>0.724747</td>\n",
       "      <td>0.000000</td>\n",
       "      <td>0.000000</td>\n",
       "      <td>0.000000</td>\n",
       "      <td>0.000000</td>\n",
       "      <td>1.254241</td>\n",
       "    </tr>\n",
       "    <tr>\n",
       "      <th>0</th>\n",
       "      <td>0.236731</td>\n",
       "      <td>4.439890</td>\n",
       "      <td>1.236828</td>\n",
       "      <td>2.915460</td>\n",
       "      <td>0.200004</td>\n",
       "      <td>2.749881</td>\n",
       "      <td>0.944271</td>\n",
       "      <td>3.433861</td>\n",
       "      <td>0.238781</td>\n",
       "      <td>0.000000</td>\n",
       "      <td>...</td>\n",
       "      <td>0.448964</td>\n",
       "      <td>0.893632</td>\n",
       "      <td>0.049316</td>\n",
       "      <td>4.975746</td>\n",
       "      <td>0.923344</td>\n",
       "      <td>0.808175</td>\n",
       "      <td>0.000000</td>\n",
       "      <td>0.329970</td>\n",
       "      <td>0.112082</td>\n",
       "      <td>1.136044</td>\n",
       "    </tr>\n",
       "    <tr>\n",
       "      <th>...</th>\n",
       "      <td>...</td>\n",
       "      <td>...</td>\n",
       "      <td>...</td>\n",
       "      <td>...</td>\n",
       "      <td>...</td>\n",
       "      <td>...</td>\n",
       "      <td>...</td>\n",
       "      <td>...</td>\n",
       "      <td>...</td>\n",
       "      <td>...</td>\n",
       "      <td>...</td>\n",
       "      <td>...</td>\n",
       "      <td>...</td>\n",
       "      <td>...</td>\n",
       "      <td>...</td>\n",
       "      <td>...</td>\n",
       "      <td>...</td>\n",
       "      <td>...</td>\n",
       "      <td>...</td>\n",
       "      <td>...</td>\n",
       "      <td>...</td>\n",
       "    </tr>\n",
       "    <tr>\n",
       "      <th>123</th>\n",
       "      <td>0.134958</td>\n",
       "      <td>2.457091</td>\n",
       "      <td>2.995368</td>\n",
       "      <td>0.458581</td>\n",
       "      <td>4.632334</td>\n",
       "      <td>1.445672</td>\n",
       "      <td>3.790353</td>\n",
       "      <td>0.518855</td>\n",
       "      <td>0.423147</td>\n",
       "      <td>1.345447</td>\n",
       "      <td>...</td>\n",
       "      <td>0.263239</td>\n",
       "      <td>0.075312</td>\n",
       "      <td>2.854015</td>\n",
       "      <td>0.065787</td>\n",
       "      <td>2.669849</td>\n",
       "      <td>3.966354</td>\n",
       "      <td>0.593001</td>\n",
       "      <td>0.000000</td>\n",
       "      <td>0.005160</td>\n",
       "      <td>0.732052</td>\n",
       "    </tr>\n",
       "    <tr>\n",
       "      <th>123</th>\n",
       "      <td>0.000000</td>\n",
       "      <td>1.826526</td>\n",
       "      <td>3.255615</td>\n",
       "      <td>0.055278</td>\n",
       "      <td>4.215872</td>\n",
       "      <td>0.868226</td>\n",
       "      <td>3.972158</td>\n",
       "      <td>0.612692</td>\n",
       "      <td>0.000000</td>\n",
       "      <td>0.965600</td>\n",
       "      <td>...</td>\n",
       "      <td>0.677912</td>\n",
       "      <td>0.588470</td>\n",
       "      <td>2.450716</td>\n",
       "      <td>0.000000</td>\n",
       "      <td>1.627452</td>\n",
       "      <td>2.803457</td>\n",
       "      <td>0.768832</td>\n",
       "      <td>0.000000</td>\n",
       "      <td>0.106218</td>\n",
       "      <td>0.043010</td>\n",
       "    </tr>\n",
       "    <tr>\n",
       "      <th>123</th>\n",
       "      <td>0.542979</td>\n",
       "      <td>1.027731</td>\n",
       "      <td>2.657280</td>\n",
       "      <td>0.108171</td>\n",
       "      <td>4.104208</td>\n",
       "      <td>1.906557</td>\n",
       "      <td>3.977347</td>\n",
       "      <td>0.000000</td>\n",
       "      <td>0.480218</td>\n",
       "      <td>1.035703</td>\n",
       "      <td>...</td>\n",
       "      <td>0.665782</td>\n",
       "      <td>0.513563</td>\n",
       "      <td>2.159219</td>\n",
       "      <td>0.274441</td>\n",
       "      <td>2.147174</td>\n",
       "      <td>3.672987</td>\n",
       "      <td>0.000000</td>\n",
       "      <td>0.937510</td>\n",
       "      <td>0.000000</td>\n",
       "      <td>0.745350</td>\n",
       "    </tr>\n",
       "    <tr>\n",
       "      <th>123</th>\n",
       "      <td>0.000000</td>\n",
       "      <td>2.446357</td>\n",
       "      <td>2.766364</td>\n",
       "      <td>0.067163</td>\n",
       "      <td>4.493355</td>\n",
       "      <td>1.503874</td>\n",
       "      <td>4.045750</td>\n",
       "      <td>1.027343</td>\n",
       "      <td>0.689099</td>\n",
       "      <td>0.895289</td>\n",
       "      <td>...</td>\n",
       "      <td>0.394927</td>\n",
       "      <td>0.000000</td>\n",
       "      <td>2.444522</td>\n",
       "      <td>0.000000</td>\n",
       "      <td>2.383236</td>\n",
       "      <td>3.184719</td>\n",
       "      <td>0.507687</td>\n",
       "      <td>0.372931</td>\n",
       "      <td>0.187039</td>\n",
       "      <td>0.063849</td>\n",
       "    </tr>\n",
       "    <tr>\n",
       "      <th>123</th>\n",
       "      <td>0.000000</td>\n",
       "      <td>2.014956</td>\n",
       "      <td>2.700444</td>\n",
       "      <td>0.260062</td>\n",
       "      <td>4.045817</td>\n",
       "      <td>1.779119</td>\n",
       "      <td>3.055125</td>\n",
       "      <td>0.224989</td>\n",
       "      <td>0.000000</td>\n",
       "      <td>0.975210</td>\n",
       "      <td>...</td>\n",
       "      <td>2.087367</td>\n",
       "      <td>0.621900</td>\n",
       "      <td>1.787190</td>\n",
       "      <td>0.000000</td>\n",
       "      <td>1.818462</td>\n",
       "      <td>2.960330</td>\n",
       "      <td>0.021553</td>\n",
       "      <td>0.352397</td>\n",
       "      <td>0.181874</td>\n",
       "      <td>0.953368</td>\n",
       "    </tr>\n",
       "  </tbody>\n",
       "</table>\n",
       "<p>1240000 rows × 37 columns</p>\n",
       "</div>"
      ],
      "text/plain": [
       "            CD235ab_CD61      CD45      CD66       CD7      CD19    CD45RA  \\\n",
       "file_index                                                                   \n",
       "0               0.109946  2.496170  4.209940  0.254132  0.000000  1.270893   \n",
       "0               0.000000  2.448505  3.226358  0.348798  0.461272  0.465805   \n",
       "0               0.000000  3.705167  5.674930  0.377351  0.169603  1.042656   \n",
       "0               0.144858  4.266652  1.399618  2.686234  0.191140  3.354222   \n",
       "0               0.236731  4.439890  1.236828  2.915460  0.200004  2.749881   \n",
       "...                  ...       ...       ...       ...       ...       ...   \n",
       "123             0.134958  2.457091  2.995368  0.458581  4.632334  1.445672   \n",
       "123             0.000000  1.826526  3.255615  0.055278  4.215872  0.868226   \n",
       "123             0.542979  1.027731  2.657280  0.108171  4.104208  1.906557   \n",
       "123             0.000000  2.446357  2.766364  0.067163  4.493355  1.503874   \n",
       "123             0.000000  2.014956  2.700444  0.260062  4.045817  1.779119   \n",
       "\n",
       "               CD11b       CD4      CD8a     CD11c  ...       ERK      CCR9  \\\n",
       "file_index                                          ...                       \n",
       "0           3.813384  0.832684  0.177333  0.568260  ...  0.114735  0.302329   \n",
       "0           4.372060  0.101652  0.000902  1.899516  ...  0.941218  0.646752   \n",
       "0           4.358280  0.039475  0.100833  0.917864  ...  0.078937  0.295043   \n",
       "0           0.705526  3.300746  0.575721  0.000000  ...  1.014223  0.300559   \n",
       "0           0.944271  3.433861  0.238781  0.000000  ...  0.448964  0.893632   \n",
       "...              ...       ...       ...       ...  ...       ...       ...   \n",
       "123         3.790353  0.518855  0.423147  1.345447  ...  0.263239  0.075312   \n",
       "123         3.972158  0.612692  0.000000  0.965600  ...  0.677912  0.588470   \n",
       "123         3.977347  0.000000  0.480218  1.035703  ...  0.665782  0.513563   \n",
       "123         4.045750  1.027343  0.689099  0.895289  ...  0.394927  0.000000   \n",
       "123         3.055125  0.224989  0.000000  0.975210  ...  2.087367  0.621900   \n",
       "\n",
       "                CD25       CD3      CCR7      CD15      CCR2     HLADR  \\\n",
       "file_index                                                               \n",
       "0           0.048255  0.000000  1.402996  4.320698  0.830888  0.539162   \n",
       "0           0.000000  0.000000  1.543148  4.307781  1.069659  0.774400   \n",
       "0           0.000000  0.471177  4.454113  6.142947  2.839626  0.966267   \n",
       "0           0.000000  5.107750  0.724747  0.000000  0.000000  0.000000   \n",
       "0           0.049316  4.975746  0.923344  0.808175  0.000000  0.329970   \n",
       "...              ...       ...       ...       ...       ...       ...   \n",
       "123         2.854015  0.065787  2.669849  3.966354  0.593001  0.000000   \n",
       "123         2.450716  0.000000  1.627452  2.803457  0.768832  0.000000   \n",
       "123         2.159219  0.274441  2.147174  3.672987  0.000000  0.937510   \n",
       "123         2.444522  0.000000  2.383236  3.184719  0.507687  0.372931   \n",
       "123         1.787190  0.000000  1.818462  2.960330  0.021553  0.352397   \n",
       "\n",
       "                CD14      CD56  \n",
       "file_index                      \n",
       "0           0.698561  1.002160  \n",
       "0           0.336641  0.540931  \n",
       "0           0.173192  0.728520  \n",
       "0           0.000000  1.254241  \n",
       "0           0.112082  1.136044  \n",
       "...              ...       ...  \n",
       "123         0.005160  0.732052  \n",
       "123         0.106218  0.043010  \n",
       "123         0.000000  0.745350  \n",
       "123         0.187039  0.063849  \n",
       "123         0.181874  0.953368  \n",
       "\n",
       "[1240000 rows x 37 columns]"
      ]
     },
     "execution_count": 13,
     "metadata": {},
     "output_type": "execute_result"
    }
   ],
   "source": [
    "data_fcs"
   ]
  },
  {
   "cell_type": "markdown",
   "metadata": {
    "Collapsed": "false"
   },
   "source": [
    "## AFCS"
   ]
  },
  {
   "cell_type": "code",
   "execution_count": 14,
   "metadata": {
    "Collapsed": "false"
   },
   "outputs": [],
   "source": [
    "# import nalabafcs.automate.run.steps\n",
    "# import pathlib\n",
    "# path = pathlib.Path(nb.file(\"fcs_temp.pickle\"))\n",
    "# if path.exists():\n",
    "#     print(\"Loading from temp file\")\n",
    "#     data_fcs = pickle.load(open(path, \"rb\"))\n",
    "# else:\n",
    "#     print(\"Loading from FCS files\")\n",
    "#     data_fcs = nalabafcs.automate.run.steps.load_fcs(n_jobs=100)\n",
    "# pickle.dump(data_fcs, open(path, \"wb\"))"
   ]
  },
  {
   "cell_type": "code",
   "execution_count": 15,
   "metadata": {
    "Collapsed": "false"
   },
   "outputs": [],
   "source": [
    "# data_fcs.shape"
   ]
  },
  {
   "cell_type": "code",
   "execution_count": 16,
   "metadata": {
    "Collapsed": "false"
   },
   "outputs": [],
   "source": [
    "# data_fcs.index.unique().shape[0] / 4"
   ]
  },
  {
   "cell_type": "markdown",
   "metadata": {
    "Collapsed": "false"
   },
   "source": [
    "## Normalization"
   ]
  },
  {
   "cell_type": "code",
   "execution_count": 17,
   "metadata": {
    "Collapsed": "false"
   },
   "outputs": [],
   "source": [
    "preprocessing = sklearn.preprocessing.MinMaxScaler().fit(data_fcs.values)\n",
    "data_features = preprocessing.transform(data_fcs.values.copy(order=\"C\"))"
   ]
  },
  {
   "cell_type": "markdown",
   "metadata": {
    "Collapsed": "true"
   },
   "source": [
    "# Test embeddings"
   ]
  },
  {
   "cell_type": "markdown",
   "metadata": {
    "Collapsed": "false"
   },
   "source": [
    "Embedding packages:\n",
    "* https://github.com/DmitryUlyanov/Multicore-TSNE\n",
    "* https://github.com/pavlin-policar/openTSNE\n",
    "* https://github.com/CannyLab/tsne-cuda\n",
    "* https://github.com/lmcinnes/umap\n",
    "* https://github.com/eamid/trimap\n",
    "* https://github.com/rapidsai/cuml (GPU powered)"
   ]
  },
  {
   "cell_type": "code",
   "execution_count": 18,
   "metadata": {
    "Collapsed": "false"
   },
   "outputs": [],
   "source": [
    "test_data = data_features"
   ]
  },
  {
   "cell_type": "markdown",
   "metadata": {
    "Collapsed": "false"
   },
   "source": [
    "## TSNE"
   ]
  },
  {
   "cell_type": "code",
   "execution_count": 40,
   "metadata": {
    "Collapsed": "false"
   },
   "outputs": [],
   "source": [
    "import sklearn.manifold"
   ]
  },
  {
   "cell_type": "code",
   "execution_count": null,
   "metadata": {
    "Collapsed": "false"
   },
   "outputs": [],
   "source": [
    "start = time.time()\n",
    "embedding_sk = sklearn.manifold.TSNE(n_components=2).fit_transform(test_data)\n",
    "duration_sk = time.time() - start"
   ]
  },
  {
   "cell_type": "code",
   "execution_count": null,
   "metadata": {
    "Collapsed": "false"
   },
   "outputs": [],
   "source": [
    "format_duration(duration_sk)"
   ]
  },
  {
   "cell_type": "code",
   "execution_count": null,
   "metadata": {
    "Collapsed": "false"
   },
   "outputs": [],
   "source": [
    "fig, axes = plt.subplots(1,2, figsize=(10,5))\n",
    "axes[0].scatter(embedding_sk[:,0], embedding_sk[:,1])\n",
    "axes[1].hist2d(embedding_sk[:,0], embedding_sk[:,1], bins=50);"
   ]
  },
  {
   "cell_type": "markdown",
   "metadata": {},
   "source": [
    "## Rapids TSNE"
   ]
  },
  {
   "cell_type": "code",
   "execution_count": 24,
   "metadata": {},
   "outputs": [],
   "source": [
    "from cuml.manifold import TSNE as TSNE_rapids"
   ]
  },
  {
   "cell_type": "code",
   "execution_count": 25,
   "metadata": {},
   "outputs": [],
   "source": [
    "start = time.time()\n",
    "embedding_rp = TSNE_rapids(n_components = 2).fit_transform(test_data)\n",
    "duration_kp = time.time() - start"
   ]
  },
  {
   "cell_type": "code",
   "execution_count": 26,
   "metadata": {},
   "outputs": [
    {
     "name": "stdout",
     "output_type": "stream",
     "text": [
      "0h 1m 59s\n"
     ]
    }
   ],
   "source": [
    "format_duration(duration_kp)"
   ]
  },
  {
   "cell_type": "code",
   "execution_count": null,
   "metadata": {},
   "outputs": [],
   "source": [
    "fig, axes = plt.subplots(1,2, figsize=(10,5))\n",
    "axes[0].scatter(embedding_rp[:,0], embedding_rp[:,1])\n",
    "axes[1].hist2d(embedding_rp[:,0], embedding_rp[:,1], bins=50);"
   ]
  },
  {
   "cell_type": "markdown",
   "metadata": {
    "Collapsed": "false"
   },
   "source": [
    "## Multicore TSNE"
   ]
  },
  {
   "cell_type": "code",
   "execution_count": 54,
   "metadata": {
    "Collapsed": "false"
   },
   "outputs": [],
   "source": [
    "import MulticoreTSNE\n",
    "# MulticoreTSNE.__version__"
   ]
  },
  {
   "cell_type": "code",
   "execution_count": 55,
   "metadata": {
    "Collapsed": "false"
   },
   "outputs": [],
   "source": [
    "# %%time\n",
    "# tsne = MulticoreTSNE.MulticoreTSNE(n_jobs=1)\n",
    "# embedding = tsne.fit_transform(test_data)"
   ]
  },
  {
   "cell_type": "code",
   "execution_count": null,
   "metadata": {
    "Collapsed": "false"
   },
   "outputs": [],
   "source": [
    "start = time.time()\n",
    "embedding_mt = MulticoreTSNE.MulticoreTSNE(n_jobs=100).fit_transform(test_data)\n",
    "duration_mt = time.time() - start"
   ]
  },
  {
   "cell_type": "code",
   "execution_count": 85,
   "metadata": {
    "Collapsed": "false"
   },
   "outputs": [
    {
     "name": "stdout",
     "output_type": "stream",
     "text": [
      "1h 34m 24s\n"
     ]
    }
   ],
   "source": [
    "format_duration(duration_mt)"
   ]
  },
  {
   "cell_type": "code",
   "execution_count": null,
   "metadata": {
    "Collapsed": "false"
   },
   "outputs": [],
   "source": [
    "plt.hist2d(embedding_mt[:,0], embedding_mt[:,1], bins=50, );"
   ]
  },
  {
   "cell_type": "markdown",
   "metadata": {
    "Collapsed": "false"
   },
   "source": [
    "## openTSNE"
   ]
  },
  {
   "cell_type": "markdown",
   "metadata": {
    "Collapsed": "false"
   },
   "source": [
    "**WARNING**: seems to hang the kernel at least with pynndescent-0.3.3 ... let's try 0.4.6 which worked on my laptop ... nope, also hangs the kernel ... wtf???"
   ]
  },
  {
   "cell_type": "code",
   "execution_count": 50,
   "metadata": {
    "Collapsed": "false"
   },
   "outputs": [
    {
     "data": {
      "text/plain": [
       "'0.3.12'"
      ]
     },
     "execution_count": 50,
     "metadata": {},
     "output_type": "execute_result"
    }
   ],
   "source": [
    "import openTSNE\n",
    "openTSNE.__version__"
   ]
  },
  {
   "cell_type": "code",
   "execution_count": 51,
   "metadata": {
    "Collapsed": "false"
   },
   "outputs": [],
   "source": [
    "start = time.time()\n",
    "embedding_ot = openTSNE.TSNE(n_jobs=100).fit(test_data)\n",
    "duration_ot = time.time() - start"
   ]
  },
  {
   "cell_type": "code",
   "execution_count": 86,
   "metadata": {
    "Collapsed": "false"
   },
   "outputs": [
    {
     "name": "stdout",
     "output_type": "stream",
     "text": [
      "0h 21m 18s\n"
     ]
    }
   ],
   "source": [
    "format_duration(duration_ot)"
   ]
  },
  {
   "cell_type": "code",
   "execution_count": 53,
   "metadata": {
    "Collapsed": "false"
   },
   "outputs": [
    {
     "data": {
      "image/png": "[encoded data removed]",
      "text/plain": [
       "<Figure size 432x288 with 1 Axes>"
      ]
     },
     "metadata": {
      "needs_background": "light"
     },
     "output_type": "display_data"
    }
   ],
   "source": [
    "plt.hist2d(embedding_ot[:,0], embedding_ot[:,1], bins=50, );"
   ]
  },
  {
   "cell_type": "markdown",
   "metadata": {
    "Collapsed": "false"
   },
   "source": [
    "## FitSNE"
   ]
  },
  {
   "cell_type": "markdown",
   "metadata": {
    "Collapsed": "false"
   },
   "source": [
    "**WARNING**: kills the kernel if `n < m`\n"
   ]
  },
  {
   "cell_type": "code",
   "execution_count": 34,
   "metadata": {
    "Collapsed": "false"
   },
   "outputs": [],
   "source": [
    "import fitsne"
   ]
  },
  {
   "cell_type": "code",
   "execution_count": 35,
   "metadata": {
    "Collapsed": "false"
   },
   "outputs": [],
   "source": [
    "start = time.time()\n",
    "embedding_ft = fitsne.FItSNE(np.ascontiguousarray(test_data), nthreads=100)\n",
    "duration_ft = time.time() - start"
   ]
  },
  {
   "cell_type": "code",
   "execution_count": 87,
   "metadata": {
    "Collapsed": "false"
   },
   "outputs": [
    {
     "name": "stdout",
     "output_type": "stream",
     "text": [
      "0h 17m 15s\n"
     ]
    }
   ],
   "source": [
    "format_duration(duration_ft)"
   ]
  },
  {
   "cell_type": "code",
   "execution_count": null,
   "metadata": {
    "Collapsed": "false"
   },
   "outputs": [],
   "source": [
    "plt.hist2d(embedding_ft[:,0], embedding_ft[:,1], bins=40, );"
   ]
  },
  {
   "cell_type": "markdown",
   "metadata": {
    "Collapsed": "false"
   },
   "source": [
    "## Trimap"
   ]
  },
  {
   "cell_type": "code",
   "execution_count": 38,
   "metadata": {
    "Collapsed": "false"
   },
   "outputs": [
    {
     "data": {
      "text/plain": [
       "'1.0.13'"
      ]
     },
     "execution_count": 38,
     "metadata": {},
     "output_type": "execute_result"
    }
   ],
   "source": [
    "import trimap\n",
    "trimap.__version__"
   ]
  },
  {
   "cell_type": "code",
   "execution_count": 39,
   "metadata": {
    "Collapsed": "false"
   },
   "outputs": [
    {
     "name": "stdout",
     "output_type": "stream",
     "text": [
      "TRIMAP(n_inliers=10, n_outliers=5, n_random=5, distance=euclidean,lr=1000.0, n_iters=400, weight_adj=500.0, apply_pca=True, opt_method=dbd, verbose=True, return_seq=False)\n",
      "running TriMap on 840000 points with dimension 37\n",
      "pre-processing\n",
      "found nearest neighbors\n",
      "sampled triplets\n",
      "running TriMap with dbd\n",
      "Iteration:  100, Loss: 18862.326, Violated triplets: 0.0408\n",
      "Iteration:  200, Loss: 16833.502, Violated triplets: 0.0364\n",
      "Iteration:  300, Loss: 15701.461, Violated triplets: 0.0340\n",
      "Iteration:  400, Loss: 14985.802, Violated triplets: 0.0324\n",
      "Elapsed time: 0:41:27.672711\n"
     ]
    }
   ],
   "source": [
    "start = time.time()\n",
    "embedding_tm = trimap.TRIMAP().fit_transform(test_data)\n",
    "duration_tm = time.time() - start"
   ]
  },
  {
   "cell_type": "code",
   "execution_count": 88,
   "metadata": {
    "Collapsed": "false"
   },
   "outputs": [
    {
     "name": "stdout",
     "output_type": "stream",
     "text": [
      "0h 41m 27s\n"
     ]
    }
   ],
   "source": [
    "format_duration(duration_tm)"
   ]
  },
  {
   "cell_type": "code",
   "execution_count": 41,
   "metadata": {
    "Collapsed": "false"
   },
   "outputs": [
    {
     "data": {
      "image/png": "[encoded data removed]",
      "text/plain": [
       "<Figure size 432x288 with 1 Axes>"
      ]
     },
     "metadata": {
      "needs_background": "light"
     },
     "output_type": "display_data"
    }
   ],
   "source": [
    "plt.hist2d(embedding_tm[:,0], embedding_tm[:,1], bins=50, );"
   ]
  },
  {
   "cell_type": "markdown",
   "metadata": {
    "Collapsed": "false"
   },
   "source": [
    "## UMAP"
   ]
  },
  {
   "cell_type": "code",
   "execution_count": 61,
   "metadata": {
    "Collapsed": "false"
   },
   "outputs": [
    {
     "data": {
      "text/plain": [
       "'0.3.10'"
      ]
     },
     "execution_count": 61,
     "metadata": {},
     "output_type": "execute_result"
    }
   ],
   "source": [
    "import umap\n",
    "umap.__version__"
   ]
  },
  {
   "cell_type": "code",
   "execution_count": 47,
   "metadata": {
    "Collapsed": "false"
   },
   "outputs": [
    {
     "name": "stderr",
     "output_type": "stream",
     "text": [
      "/home/mgbckr/miniconda3/envs/analysis3.7/lib/python3.7/site-packages/numba/typed_passes.py:271: NumbaPerformanceWarning: \n",
      "The keyword argument 'parallel=True' was specified but no transformation for parallel execution was possible.\n",
      "\n",
      "To find out why, try turning on parallel diagnostics, see http://numba.pydata.org/numba-doc/latest/user/parallel.html#diagnostics for help.\n",
      "\n",
      "File \"../../../../../miniconda3/envs/analysis3.7/lib/python3.7/site-packages/umap/rp_tree.py\", line 135:\n",
      "@numba.njit(fastmath=True, nogil=True, parallel=True)\n",
      "def euclidean_random_projection_split(data, indices, rng_state):\n",
      "^\n",
      "\n",
      "  state.func_ir.loc))\n",
      "/home/mgbckr/miniconda3/envs/analysis3.7/lib/python3.7/site-packages/umap/nndescent.py:92: NumbaPerformanceWarning: \n",
      "The keyword argument 'parallel=True' was specified but no transformation for parallel execution was possible.\n",
      "\n",
      "To find out why, try turning on parallel diagnostics, see http://numba.pydata.org/numba-doc/latest/user/parallel.html#diagnostics for help.\n",
      "\n",
      "File \"../../../../../miniconda3/envs/analysis3.7/lib/python3.7/site-packages/umap/utils.py\", line 409:\n",
      "@numba.njit(parallel=True)\n",
      "def build_candidates(current_graph, n_vertices, n_neighbors, max_candidates, rng_state):\n",
      "^\n",
      "\n",
      "  current_graph, n_vertices, n_neighbors, max_candidates, rng_state\n",
      "/home/mgbckr/miniconda3/envs/analysis3.7/lib/python3.7/site-packages/numba/typed_passes.py:271: NumbaPerformanceWarning: \n",
      "The keyword argument 'parallel=True' was specified but no transformation for parallel execution was possible.\n",
      "\n",
      "To find out why, try turning on parallel diagnostics, see http://numba.pydata.org/numba-doc/latest/user/parallel.html#diagnostics for help.\n",
      "\n",
      "File \"../../../../../miniconda3/envs/analysis3.7/lib/python3.7/site-packages/umap/nndescent.py\", line 47:\n",
      "    @numba.njit(parallel=True)\n",
      "    def nn_descent(\n",
      "    ^\n",
      "\n",
      "  state.func_ir.loc))\n"
     ]
    }
   ],
   "source": [
    "start = time.time()\n",
    "embedding_umap = umap.UMAP().fit_transform(test_data)\n",
    "duration_um = time.time() - start"
   ]
  },
  {
   "cell_type": "code",
   "execution_count": 84,
   "metadata": {
    "Collapsed": "false"
   },
   "outputs": [
    {
     "name": "stdout",
     "output_type": "stream",
     "text": [
      "0h 49m 48s\n"
     ]
    }
   ],
   "source": [
    "format_duration(duration_um)"
   ]
  },
  {
   "cell_type": "code",
   "execution_count": 49,
   "metadata": {
    "Collapsed": "false"
   },
   "outputs": [
    {
     "data": {
      "image/png": "[encoded data removed]",
      "text/plain": [
       "<Figure size 432x288 with 1 Axes>"
      ]
     },
     "metadata": {
      "needs_background": "light"
     },
     "output_type": "display_data"
    }
   ],
   "source": [
    "plt.hist2d(embedding_umap[:,0], embedding_umap[:,1], bins=50, );"
   ]
  },
  {
   "cell_type": "markdown",
   "metadata": {
    "Collapsed": "false"
   },
   "source": [
    "## PCA"
   ]
  },
  {
   "cell_type": "code",
   "execution_count": 35,
   "metadata": {
    "Collapsed": "false"
   },
   "outputs": [
    {
     "data": {
      "text/plain": [
       "'0.23.1'"
      ]
     },
     "execution_count": 35,
     "metadata": {},
     "output_type": "execute_result"
    }
   ],
   "source": [
    "import sklearn.decomposition\n",
    "sklearn.__version__"
   ]
  },
  {
   "cell_type": "code",
   "execution_count": 36,
   "metadata": {
    "Collapsed": "false"
   },
   "outputs": [],
   "source": [
    "start = time.time()\n",
    "embedding_pca = sklearn.decomposition.PCA(n_components=2).fit_transform(test_data)\n",
    "duration_pca = time.time() - start"
   ]
  },
  {
   "cell_type": "code",
   "execution_count": 37,
   "metadata": {
    "Collapsed": "false"
   },
   "outputs": [
    {
     "name": "stdout",
     "output_type": "stream",
     "text": [
      "0h 0m 19s\n"
     ]
    }
   ],
   "source": [
    "format_duration(duration_pca)"
   ]
  },
  {
   "cell_type": "code",
   "execution_count": 38,
   "metadata": {
    "Collapsed": "false"
   },
   "outputs": [
    {
     "data": {
      "image/png": "[encoded data removed]",
      "text/plain": [
       "<Figure size 720x360 with 2 Axes>"
      ]
     },
     "metadata": {
      "needs_background": "light"
     },
     "output_type": "display_data"
    }
   ],
   "source": [
    "fig, axes = plt.subplots(1,2, figsize=(10,5))\n",
    "axes[0].scatter(embedding_pca[:,0], embedding_pca[:,1])\n",
    "axes[1].hist2d(embedding_pca[:,0], embedding_pca[:,1], bins=50);"
   ]
  },
  {
   "cell_type": "markdown",
   "metadata": {
    "Collapsed": "false"
   },
   "source": [
    "## Kernel PCA"
   ]
  },
  {
   "cell_type": "markdown",
   "metadata": {
    "Collapsed": "false"
   },
   "source": [
    "**WARNING**: Memory error for > 100000 samples"
   ]
  },
  {
   "cell_type": "code",
   "execution_count": 29,
   "metadata": {
    "Collapsed": "false"
   },
   "outputs": [
    {
     "data": {
      "text/plain": [
       "'0.23.1'"
      ]
     },
     "execution_count": 29,
     "metadata": {},
     "output_type": "execute_result"
    }
   ],
   "source": [
    "import sklearn.decomposition\n",
    "sklearn.__version__"
   ]
  },
  {
   "cell_type": "code",
   "execution_count": 30,
   "metadata": {
    "Collapsed": "false"
   },
   "outputs": [],
   "source": [
    "start = time.time()\n",
    "embedding_kp = sklearn.decomposition.KernelPCA(n_components=2, kernel=\"rbf\").fit_transform(test_data[:1000,:])\n",
    "duration_kp = time.time() - start"
   ]
  },
  {
   "cell_type": "code",
   "execution_count": 31,
   "metadata": {
    "Collapsed": "false"
   },
   "outputs": [
    {
     "name": "stdout",
     "output_type": "stream",
     "text": [
      "0h 0m 0s\n"
     ]
    }
   ],
   "source": [
    "format_duration(duration_kp)"
   ]
  },
  {
   "cell_type": "code",
   "execution_count": 34,
   "metadata": {
    "Collapsed": "false"
   },
   "outputs": [
    {
     "data": {
      "image/png": "[encoded data removed]",
      "text/plain": [
       "<Figure size 720x360 with 2 Axes>"
      ]
     },
     "metadata": {
      "needs_background": "light"
     },
     "output_type": "display_data"
    }
   ],
   "source": [
    "fig, axes = plt.subplots(1,2, figsize=(10,5))\n",
    "axes[0].scatter(embedding_kp[:,0], embedding_kp[:,1])\n",
    "axes[1].hist2d(embedding_kp[:,0], embedding_kp[:,1], bins=50);"
   ]
  },
  {
   "cell_type": "code",
   "execution_count": null,
   "metadata": {},
   "outputs": [],
   "source": []
  }
 ],
 "metadata": {
  "kernelspec": {
   "display_name": "butterfly",
   "language": "python",
   "name": "butterfly"
  },
  "language_info": {
   "codemirror_mode": {
    "name": "ipython",
    "version": 3
   },
   "file_extension": ".py",
   "mimetype": "text/x-python",
   "name": "python",
   "nbconvert_exporter": "python",
   "pygments_lexer": "ipython3",
   "version": "3.7.6"
  },
  "toc-autonumbering": true
 },
 "nbformat": 4,
 "nbformat_minor": 4
}
